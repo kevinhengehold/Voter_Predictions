{
 "cells": [
  {
   "cell_type": "code",
   "execution_count": null,
   "metadata": {
    "id": "UzfHyJCRouDp"
   },
   "outputs": [],
   "source": [
    "from keras.models import Sequential\n",
    "from keras.models import Input\n",
    "from keras.models import load_model\n",
    "from keras.layers import Dense\n",
    "from keras.layers import Dropout\n",
    "from keras.callbacks import EarlyStopping\n",
    "from keras.callbacks import LearningRateScheduler\n",
    "\n",
    "from keras.metrics import TruePositives\n",
    "from keras.metrics import FalsePositives\n",
    "from keras.metrics import TrueNegatives\n",
    "from keras.metrics import FalseNegatives \n",
    "from keras.metrics import BinaryAccuracy\n",
    "from keras.metrics import Precision\n",
    "from keras.metrics import Recall\n",
    "from keras.metrics import AUC\n",
    "\n",
    "from keras.optimizers import Adam\n",
    "\n",
    "import kerastuner as kt\n",
    "\n",
    "from keras.wrappers.scikit_learn import KerasRegressor\n",
    "from sklearn.model_selection import cross_val_score\n",
    "from sklearn.model_selection import KFold\n",
    "from sklearn.preprocessing import StandardScaler, MinMaxScaler\n",
    "from sklearn.pipeline import Pipeline\n",
    "from sklearn.metrics import precision_score, recall_score, f1_score, accuracy_score \n",
    "from sklearn.utils import resample\n",
    "from sklearn.utils import shuffle\n",
    "\n",
    "from sklearn.model_selection import train_test_split\n",
    "import numpy as np\n",
    "import matplotlib.pyplot as plt\n",
    "\n",
    "from sklearn.metrics import mean_absolute_error\n",
    "from sklearn.metrics import mean_squared_error\n",
    "from sklearn.metrics import r2_score\n",
    "from sklearn.model_selection import train_test_split\n",
    "\n",
    "from sklearn.metrics import explained_variance_score\n",
    "\n",
    "import pandas as pd\n",
    "import numpy as np\n",
    "\n",
    "import os\n",
    "\n",
    "import time \n",
    "\n",
    "import math\n",
    "import random\n",
    "\n",
    "from datetime import datetime, date\n",
    "\n",
    "\n",
    "import re\n",
    "\n",
    "pd.set_option('display.max_colwidth', None)\n",
    "pd.set_option('display.max_columns', None)\n",
    "pd.set_option('display.max_rows', None)\n",
    "\n",
    "\n",
    "from google.colab import drive\n",
    "\n"
   ]
  },
  {
   "cell_type": "code",
   "execution_count": null,
   "metadata": {
    "colab": {
     "base_uri": "https://localhost:8080/"
    },
    "executionInfo": {
     "elapsed": 393,
     "status": "ok",
     "timestamp": 1617643040126,
     "user": {
      "displayName": "Kevin Hengehold",
      "photoUrl": "https://lh3.googleusercontent.com/a-/AOh14GiNt2EajN8cmNcY3jUV0m5P3ZObvv8s77fL5wlv=s64",
      "userId": "18305800173505984629"
     },
     "user_tz": 240
    },
    "id": "Zowpp63fo3v7",
    "outputId": "8279240c-33dd-49c1-db7d-18036bbdd87c"
   },
   "outputs": [
    {
     "name": "stdout",
     "output_type": "stream",
     "text": [
      "Mon Apr  5 17:17:19 2021       \n",
      "+-----------------------------------------------------------------------------+\n",
      "| NVIDIA-SMI 460.67       Driver Version: 460.32.03    CUDA Version: 11.2     |\n",
      "|-------------------------------+----------------------+----------------------+\n",
      "| GPU  Name        Persistence-M| Bus-Id        Disp.A | Volatile Uncorr. ECC |\n",
      "| Fan  Temp  Perf  Pwr:Usage/Cap|         Memory-Usage | GPU-Util  Compute M. |\n",
      "|                               |                      |               MIG M. |\n",
      "|===============================+======================+======================|\n",
      "|   0  Tesla K80           Off  | 00000000:00:04.0 Off |                    0 |\n",
      "| N/A   31C    P8    28W / 149W |      0MiB / 11441MiB |      0%      Default |\n",
      "|                               |                      |                  N/A |\n",
      "+-------------------------------+----------------------+----------------------+\n",
      "                                                                               \n",
      "+-----------------------------------------------------------------------------+\n",
      "| Processes:                                                                  |\n",
      "|  GPU   GI   CI        PID   Type   Process name                  GPU Memory |\n",
      "|        ID   ID                                                   Usage      |\n",
      "|=============================================================================|\n",
      "|  No running processes found                                                 |\n",
      "+-----------------------------------------------------------------------------+\n"
     ]
    }
   ],
   "source": [
    "!nvidia-smi"
   ]
  },
  {
   "cell_type": "code",
   "execution_count": null,
   "metadata": {
    "colab": {
     "base_uri": "https://localhost:8080/"
    },
    "executionInfo": {
     "elapsed": 24485,
     "status": "ok",
     "timestamp": 1619048899757,
     "user": {
      "displayName": "Kevin Hengehold",
      "photoUrl": "https://lh3.googleusercontent.com/a-/AOh14GiNt2EajN8cmNcY3jUV0m5P3ZObvv8s77fL5wlv=s64",
      "userId": "18305800173505984629"
     },
     "user_tz": 240
    },
    "id": "cU1XyLI8o61x",
    "outputId": "9fcb9442-2311-4f7f-9213-c9c25c84d31c"
   },
   "outputs": [
    {
     "name": "stdout",
     "output_type": "stream",
     "text": [
      "Mounted at /content/gdrive/\n"
     ]
    }
   ],
   "source": [
    "gdrive_dir = '/content/gdrive/'\n",
    "\n",
    "drive.mount(gdrive_dir, force_remount=True)"
   ]
  },
  {
   "cell_type": "markdown",
   "metadata": {
    "id": "3zaa0HV2Phwd"
   },
   "source": [
    "# Read in voter file"
   ]
  },
  {
   "cell_type": "code",
   "execution_count": null,
   "metadata": {
    "colab": {
     "base_uri": "https://localhost:8080/"
    },
    "executionInfo": {
     "elapsed": 8533,
     "status": "ok",
     "timestamp": 1619048915540,
     "user": {
      "displayName": "Kevin Hengehold",
      "photoUrl": "https://lh3.googleusercontent.com/a-/AOh14GiNt2EajN8cmNcY3jUV0m5P3ZObvv8s77fL5wlv=s64",
      "userId": "18305800173505984629"
     },
     "user_tz": 240
    },
    "id": "gkp8im9RPOCL",
    "outputId": "b3e4b8f6-7366-4e5f-b3d1-5326932ab678"
   },
   "outputs": [],
   "source": [
    "data_dir = os.path.join(gdrive_dir, \"My Drive\", \"Homeless Coalition\", 'trust fund campaign')\n",
    "\n",
    "filename = 'voter file features collected.csv'\n",
    "\n",
    "voter_file = pd.read_csv(os.path.join(data_dir, filename))"
   ]
  },
  {
   "cell_type": "code",
   "execution_count": null,
   "metadata": {
    "colab": {
     "base_uri": "https://localhost:8080/",
     "height": 337
    },
    "executionInfo": {
     "elapsed": 1473,
     "status": "ok",
     "timestamp": 1619048915541,
     "user": {
      "displayName": "Kevin Hengehold",
      "photoUrl": "https://lh3.googleusercontent.com/a-/AOh14GiNt2EajN8cmNcY3jUV0m5P3ZObvv8s77fL5wlv=s64",
      "userId": "18305800173505984629"
     },
     "user_tz": 240
    },
    "id": "ELv7voGEdldd",
    "outputId": "53cdebd6-35c6-499d-94e6-af345688f2b2"
   },
   "outputs": [
    {
     "data": {
      "text/html": [
       "<div>\n",
       "<style scoped>\n",
       "    .dataframe tbody tr th:only-of-type {\n",
       "        vertical-align: middle;\n",
       "    }\n",
       "\n",
       "    .dataframe tbody tr th {\n",
       "        vertical-align: top;\n",
       "    }\n",
       "\n",
       "    .dataframe thead th {\n",
       "        text-align: right;\n",
       "    }\n",
       "</style>\n",
       "<table border=\"1\" class=\"dataframe\">\n",
       "  <thead>\n",
       "    <tr style=\"text-align: right;\">\n",
       "      <th></th>\n",
       "      <th>SOS_VOTERID</th>\n",
       "      <th>COUNTY_NUMBER</th>\n",
       "      <th>COUNTY_ID</th>\n",
       "      <th>LAST_NAME</th>\n",
       "      <th>FIRST_NAME</th>\n",
       "      <th>MIDDLE_NAME</th>\n",
       "      <th>SUFFIX</th>\n",
       "      <th>DATE_OF_BIRTH</th>\n",
       "      <th>REGISTRATION_DATE</th>\n",
       "      <th>VOTER_STATUS</th>\n",
       "      <th>PARTY_AFFILIATION</th>\n",
       "      <th>RESIDENTIAL_ADDRESS1_voter</th>\n",
       "      <th>RESIDENTIAL_SECONDARY_ADDR</th>\n",
       "      <th>RESIDENTIAL_CITY_voter</th>\n",
       "      <th>RESIDENTIAL_STATE_voter</th>\n",
       "      <th>RESIDENTIAL_ZIP_voter</th>\n",
       "      <th>RESIDENTIAL_ZIP_PLUS4</th>\n",
       "      <th>RESIDENTIAL_COUNTRY</th>\n",
       "      <th>RESIDENTIAL_POSTALCODE</th>\n",
       "      <th>tigerlineid</th>\n",
       "      <th>side</th>\n",
       "      <th>tract</th>\n",
       "      <th>block</th>\n",
       "      <th>lat</th>\n",
       "      <th>lon</th>\n",
       "      <th>MAILING_ADDRESS1</th>\n",
       "      <th>MAILING_SECONDARY_ADDRESS</th>\n",
       "      <th>MAILING_CITY</th>\n",
       "      <th>MAILING_STATE</th>\n",
       "      <th>MAILING_ZIP</th>\n",
       "      <th>MAILING_ZIP_PLUS4</th>\n",
       "      <th>MAILING_COUNTRY</th>\n",
       "      <th>MAILING_POSTAL_CODE</th>\n",
       "      <th>CAREER_CENTER</th>\n",
       "      <th>CITY</th>\n",
       "      <th>CITY_SCHOOL_DISTRICT</th>\n",
       "      <th>COUNTY_COURT_DISTRICT</th>\n",
       "      <th>CONGRESSIONAL_DISTRICT</th>\n",
       "      <th>COURT_OF_APPEALS</th>\n",
       "      <th>EDU_SERVICE_CENTER_DISTRICT</th>\n",
       "      <th>EXEMPTED_VILL_SCHOOL_DISTRICT</th>\n",
       "      <th>LIBRARY</th>\n",
       "      <th>LOCAL_SCHOOL_DISTRICT</th>\n",
       "      <th>MUNICIPAL_COURT_DISTRICT</th>\n",
       "      <th>PRECINCT_NAME</th>\n",
       "      <th>PRECINCT_CODE</th>\n",
       "      <th>STATE_BOARD_OF_EDUCATION</th>\n",
       "      <th>STATE_REPRESENTATIVE_DISTRICT</th>\n",
       "      <th>STATE_SENATE_DISTRICT</th>\n",
       "      <th>TOWNSHIP</th>\n",
       "      <th>VILLAGE</th>\n",
       "      <th>WARD</th>\n",
       "      <th>PRIMARY-03/07/2000</th>\n",
       "      <th>GENERAL-11/07/2000</th>\n",
       "      <th>SPECIAL-05/08/2001</th>\n",
       "      <th>GENERAL-11/06/2001</th>\n",
       "      <th>PRIMARY-05/07/2002</th>\n",
       "      <th>GENERAL-11/05/2002</th>\n",
       "      <th>SPECIAL-05/06/2003</th>\n",
       "      <th>GENERAL-11/04/2003</th>\n",
       "      <th>PRIMARY-03/02/2004</th>\n",
       "      <th>GENERAL-11/02/2004</th>\n",
       "      <th>SPECIAL-02/08/2005</th>\n",
       "      <th>PRIMARY-05/03/2005</th>\n",
       "      <th>PRIMARY-09/13/2005</th>\n",
       "      <th>GENERAL-11/08/2005</th>\n",
       "      <th>SPECIAL-02/07/2006</th>\n",
       "      <th>PRIMARY-05/02/2006</th>\n",
       "      <th>GENERAL-11/07/2006</th>\n",
       "      <th>PRIMARY-05/08/2007</th>\n",
       "      <th>PRIMARY-09/11/2007</th>\n",
       "      <th>GENERAL-11/06/2007</th>\n",
       "      <th>PRIMARY-11/06/2007</th>\n",
       "      <th>GENERAL-12/11/2007</th>\n",
       "      <th>PRIMARY-03/04/2008</th>\n",
       "      <th>PRIMARY-10/14/2008</th>\n",
       "      <th>GENERAL-11/04/2008</th>\n",
       "      <th>GENERAL-11/18/2008</th>\n",
       "      <th>PRIMARY-05/05/2009</th>\n",
       "      <th>PRIMARY-09/08/2009</th>\n",
       "      <th>PRIMARY-09/15/2009</th>\n",
       "      <th>PRIMARY-09/29/2009</th>\n",
       "      <th>GENERAL-11/03/2009</th>\n",
       "      <th>PRIMARY-05/04/2010</th>\n",
       "      <th>PRIMARY-07/13/2010</th>\n",
       "      <th>PRIMARY-09/07/2010</th>\n",
       "      <th>GENERAL-11/02/2010</th>\n",
       "      <th>PRIMARY-05/03/2011</th>\n",
       "      <th>PRIMARY-09/13/2011</th>\n",
       "      <th>GENERAL-11/08/2011</th>\n",
       "      <th>PRIMARY-03/06/2012</th>\n",
       "      <th>GENERAL-11/06/2012</th>\n",
       "      <th>PRIMARY-05/07/2013</th>\n",
       "      <th>PRIMARY-09/10/2013</th>\n",
       "      <th>PRIMARY-10/01/2013</th>\n",
       "      <th>GENERAL-11/05/2013</th>\n",
       "      <th>PRIMARY-05/06/2014</th>\n",
       "      <th>GENERAL-11/04/2014</th>\n",
       "      <th>PRIMARY-05/05/2015</th>\n",
       "      <th>PRIMARY-09/15/2015</th>\n",
       "      <th>GENERAL-11/03/2015</th>\n",
       "      <th>PRIMARY-03/15/2016</th>\n",
       "      <th>GENERAL-06/07/2016</th>\n",
       "      <th>PRIMARY-09/13/2016</th>\n",
       "      <th>GENERAL-11/08/2016</th>\n",
       "      <th>PRIMARY-05/02/2017</th>\n",
       "      <th>PRIMARY-09/12/2017</th>\n",
       "      <th>GENERAL-11/07/2017</th>\n",
       "      <th>PRIMARY-05/08/2018</th>\n",
       "      <th>GENERAL-08/07/2018</th>\n",
       "      <th>GENERAL-11/06/2018</th>\n",
       "      <th>PRIMARY-05/07/2019</th>\n",
       "      <th>PRIMARY-09/10/2019</th>\n",
       "      <th>GENERAL-11/05/2019</th>\n",
       "      <th>PRIMARY-03/17/2020</th>\n",
       "      <th>GENERAL-11/03/2020</th>\n",
       "      <th>block_str</th>\n",
       "      <th>fips_bg</th>\n",
       "      <th>census_block_number</th>\n",
       "      <th>race_name</th>\n",
       "      <th>GENDER</th>\n",
       "      <th>pct_under_30k</th>\n",
       "      <th>pct_post_grad</th>\n",
       "      <th>pct_renters</th>\n",
       "      <th>is_apartment</th>\n",
       "      <th>FIRST_ELIGIBLE_ELECTION</th>\n",
       "    </tr>\n",
       "  </thead>\n",
       "  <tbody>\n",
       "    <tr>\n",
       "      <th>0</th>\n",
       "      <td>OH0023466264</td>\n",
       "      <td>31</td>\n",
       "      <td>1884306</td>\n",
       "      <td>POKORNY</td>\n",
       "      <td>MICHAEL</td>\n",
       "      <td>F</td>\n",
       "      <td>NaN</td>\n",
       "      <td>1987-07-19</td>\n",
       "      <td>2015-12-22</td>\n",
       "      <td>ACTIVE</td>\n",
       "      <td>NaN</td>\n",
       "      <td>526 LIBERTY HILL</td>\n",
       "      <td>NaN</td>\n",
       "      <td>CINCINNATI</td>\n",
       "      <td>OH</td>\n",
       "      <td>45202</td>\n",
       "      <td>NaN</td>\n",
       "      <td>NaN</td>\n",
       "      <td>NaN</td>\n",
       "      <td>103953039.0</td>\n",
       "      <td>L</td>\n",
       "      <td>1800.0</td>\n",
       "      <td>1017.0</td>\n",
       "      <td>39.112280</td>\n",
       "      <td>-84.505615</td>\n",
       "      <td>NaN</td>\n",
       "      <td>NaN</td>\n",
       "      <td>NaN</td>\n",
       "      <td>NaN</td>\n",
       "      <td>NaN</td>\n",
       "      <td>NaN</td>\n",
       "      <td>NaN</td>\n",
       "      <td>NaN</td>\n",
       "      <td>NaN</td>\n",
       "      <td>CINCINNATI CITY</td>\n",
       "      <td>CINCINNATI PUBLIC SCHOOLS CITY SD</td>\n",
       "      <td>NaN</td>\n",
       "      <td>1</td>\n",
       "      <td>1</td>\n",
       "      <td>NaN</td>\n",
       "      <td>NaN</td>\n",
       "      <td>NaN</td>\n",
       "      <td>NaN</td>\n",
       "      <td>HAMILTON-CO</td>\n",
       "      <td>CINCINNATI 10-A</td>\n",
       "      <td>31-AGY</td>\n",
       "      <td>4</td>\n",
       "      <td>32</td>\n",
       "      <td>9</td>\n",
       "      <td>NaN</td>\n",
       "      <td>NaN</td>\n",
       "      <td>CINTI WARD 10</td>\n",
       "      <td>NaN</td>\n",
       "      <td>NaN</td>\n",
       "      <td>NaN</td>\n",
       "      <td>NaN</td>\n",
       "      <td>NaN</td>\n",
       "      <td>NaN</td>\n",
       "      <td>NaN</td>\n",
       "      <td>NaN</td>\n",
       "      <td>NaN</td>\n",
       "      <td>NaN</td>\n",
       "      <td>NaN</td>\n",
       "      <td>NaN</td>\n",
       "      <td>NaN</td>\n",
       "      <td>NaN</td>\n",
       "      <td>NaN</td>\n",
       "      <td>NaN</td>\n",
       "      <td>NaN</td>\n",
       "      <td>NaN</td>\n",
       "      <td>NaN</td>\n",
       "      <td>NaN</td>\n",
       "      <td>NaN</td>\n",
       "      <td>NaN</td>\n",
       "      <td>NaN</td>\n",
       "      <td>NaN</td>\n",
       "      <td>X</td>\n",
       "      <td>NaN</td>\n",
       "      <td>NaN</td>\n",
       "      <td>NaN</td>\n",
       "      <td>NaN</td>\n",
       "      <td>NaN</td>\n",
       "      <td>X</td>\n",
       "      <td>NaN</td>\n",
       "      <td>NaN</td>\n",
       "      <td>NaN</td>\n",
       "      <td>NaN</td>\n",
       "      <td>NaN</td>\n",
       "      <td>NaN</td>\n",
       "      <td>NaN</td>\n",
       "      <td>NaN</td>\n",
       "      <td>NaN</td>\n",
       "      <td>NaN</td>\n",
       "      <td>NaN</td>\n",
       "      <td>NaN</td>\n",
       "      <td>NaN</td>\n",
       "      <td>NaN</td>\n",
       "      <td>NaN</td>\n",
       "      <td>NaN</td>\n",
       "      <td>NaN</td>\n",
       "      <td>NaN</td>\n",
       "      <td>NaN</td>\n",
       "      <td>NaN</td>\n",
       "      <td>NaN</td>\n",
       "      <td>X</td>\n",
       "      <td>NaN</td>\n",
       "      <td>NaN</td>\n",
       "      <td>NaN</td>\n",
       "      <td>NaN</td>\n",
       "      <td>NaN</td>\n",
       "      <td>X</td>\n",
       "      <td>NaN</td>\n",
       "      <td>NaN</td>\n",
       "      <td>NaN</td>\n",
       "      <td>NaN</td>\n",
       "      <td>X</td>\n",
       "      <td>1017</td>\n",
       "      <td>390610018001</td>\n",
       "      <td>390610018001017</td>\n",
       "      <td>white</td>\n",
       "      <td>male</td>\n",
       "      <td>0.124260</td>\n",
       "      <td>0.272593</td>\n",
       "      <td>0.568047</td>\n",
       "      <td>0</td>\n",
       "      <td>PRIMARY-03/15/2016</td>\n",
       "    </tr>\n",
       "    <tr>\n",
       "      <th>1</th>\n",
       "      <td>OH0023768498</td>\n",
       "      <td>31</td>\n",
       "      <td>1907972</td>\n",
       "      <td>SCARBOROUGH</td>\n",
       "      <td>ANTHONY</td>\n",
       "      <td>M</td>\n",
       "      <td>NaN</td>\n",
       "      <td>1968-08-24</td>\n",
       "      <td>2016-06-27</td>\n",
       "      <td>CONFIRMATION</td>\n",
       "      <td>NaN</td>\n",
       "      <td>1022 YALE AVE</td>\n",
       "      <td>NaN</td>\n",
       "      <td>CINCINNATI</td>\n",
       "      <td>OH</td>\n",
       "      <td>45206</td>\n",
       "      <td>NaN</td>\n",
       "      <td>NaN</td>\n",
       "      <td>NaN</td>\n",
       "      <td>103970492.0</td>\n",
       "      <td>L</td>\n",
       "      <td>3700.0</td>\n",
       "      <td>1005.0</td>\n",
       "      <td>39.128967</td>\n",
       "      <td>-84.487260</td>\n",
       "      <td>NaN</td>\n",
       "      <td>NaN</td>\n",
       "      <td>NaN</td>\n",
       "      <td>NaN</td>\n",
       "      <td>NaN</td>\n",
       "      <td>NaN</td>\n",
       "      <td>NaN</td>\n",
       "      <td>NaN</td>\n",
       "      <td>NaN</td>\n",
       "      <td>CINCINNATI CITY</td>\n",
       "      <td>CINCINNATI PUBLIC SCHOOLS CITY SD</td>\n",
       "      <td>NaN</td>\n",
       "      <td>1</td>\n",
       "      <td>1</td>\n",
       "      <td>NaN</td>\n",
       "      <td>NaN</td>\n",
       "      <td>NaN</td>\n",
       "      <td>NaN</td>\n",
       "      <td>HAMILTON-CO</td>\n",
       "      <td>CINCINNATI 9-D</td>\n",
       "      <td>31-AGQ</td>\n",
       "      <td>4</td>\n",
       "      <td>31</td>\n",
       "      <td>9</td>\n",
       "      <td>NaN</td>\n",
       "      <td>NaN</td>\n",
       "      <td>CINTI WARD 9</td>\n",
       "      <td>NaN</td>\n",
       "      <td>NaN</td>\n",
       "      <td>NaN</td>\n",
       "      <td>NaN</td>\n",
       "      <td>NaN</td>\n",
       "      <td>NaN</td>\n",
       "      <td>NaN</td>\n",
       "      <td>NaN</td>\n",
       "      <td>NaN</td>\n",
       "      <td>NaN</td>\n",
       "      <td>NaN</td>\n",
       "      <td>NaN</td>\n",
       "      <td>NaN</td>\n",
       "      <td>NaN</td>\n",
       "      <td>NaN</td>\n",
       "      <td>NaN</td>\n",
       "      <td>NaN</td>\n",
       "      <td>NaN</td>\n",
       "      <td>NaN</td>\n",
       "      <td>NaN</td>\n",
       "      <td>NaN</td>\n",
       "      <td>NaN</td>\n",
       "      <td>NaN</td>\n",
       "      <td>NaN</td>\n",
       "      <td>NaN</td>\n",
       "      <td>NaN</td>\n",
       "      <td>NaN</td>\n",
       "      <td>NaN</td>\n",
       "      <td>NaN</td>\n",
       "      <td>NaN</td>\n",
       "      <td>NaN</td>\n",
       "      <td>NaN</td>\n",
       "      <td>NaN</td>\n",
       "      <td>NaN</td>\n",
       "      <td>NaN</td>\n",
       "      <td>NaN</td>\n",
       "      <td>NaN</td>\n",
       "      <td>NaN</td>\n",
       "      <td>NaN</td>\n",
       "      <td>NaN</td>\n",
       "      <td>NaN</td>\n",
       "      <td>NaN</td>\n",
       "      <td>NaN</td>\n",
       "      <td>NaN</td>\n",
       "      <td>NaN</td>\n",
       "      <td>NaN</td>\n",
       "      <td>NaN</td>\n",
       "      <td>NaN</td>\n",
       "      <td>NaN</td>\n",
       "      <td>NaN</td>\n",
       "      <td>NaN</td>\n",
       "      <td>NaN</td>\n",
       "      <td>NaN</td>\n",
       "      <td>NaN</td>\n",
       "      <td>NaN</td>\n",
       "      <td>NaN</td>\n",
       "      <td>NaN</td>\n",
       "      <td>NaN</td>\n",
       "      <td>NaN</td>\n",
       "      <td>NaN</td>\n",
       "      <td>NaN</td>\n",
       "      <td>NaN</td>\n",
       "      <td>NaN</td>\n",
       "      <td>NaN</td>\n",
       "      <td>1005</td>\n",
       "      <td>390610037001</td>\n",
       "      <td>390610037001005</td>\n",
       "      <td>white</td>\n",
       "      <td>male</td>\n",
       "      <td>0.413636</td>\n",
       "      <td>0.061789</td>\n",
       "      <td>0.636364</td>\n",
       "      <td>0</td>\n",
       "      <td>PRIMARY-09/13/2016</td>\n",
       "    </tr>\n",
       "    <tr>\n",
       "      <th>2</th>\n",
       "      <td>OH0019612471</td>\n",
       "      <td>31</td>\n",
       "      <td>1617057</td>\n",
       "      <td>ROEHM</td>\n",
       "      <td>PAMELA</td>\n",
       "      <td>JEAN</td>\n",
       "      <td>NaN</td>\n",
       "      <td>1964-10-11</td>\n",
       "      <td>2007-12-07</td>\n",
       "      <td>ACTIVE</td>\n",
       "      <td>NaN</td>\n",
       "      <td>7100 EASTLAWN DR</td>\n",
       "      <td>APT 1</td>\n",
       "      <td>CINCINNATI</td>\n",
       "      <td>OH</td>\n",
       "      <td>45237</td>\n",
       "      <td>NaN</td>\n",
       "      <td>NaN</td>\n",
       "      <td>NaN</td>\n",
       "      <td>650379265.0</td>\n",
       "      <td>R</td>\n",
       "      <td>27100.0</td>\n",
       "      <td>2000.0</td>\n",
       "      <td>39.189327</td>\n",
       "      <td>-84.456894</td>\n",
       "      <td>NaN</td>\n",
       "      <td>NaN</td>\n",
       "      <td>NaN</td>\n",
       "      <td>NaN</td>\n",
       "      <td>NaN</td>\n",
       "      <td>NaN</td>\n",
       "      <td>NaN</td>\n",
       "      <td>NaN</td>\n",
       "      <td>NaN</td>\n",
       "      <td>CINCINNATI CITY</td>\n",
       "      <td>CINCINNATI PUBLIC SCHOOLS CITY SD</td>\n",
       "      <td>NaN</td>\n",
       "      <td>1</td>\n",
       "      <td>1</td>\n",
       "      <td>NaN</td>\n",
       "      <td>NaN</td>\n",
       "      <td>NaN</td>\n",
       "      <td>NaN</td>\n",
       "      <td>HAMILTON-CO</td>\n",
       "      <td>CINCINNATI 7-B</td>\n",
       "      <td>31-AFG</td>\n",
       "      <td>4</td>\n",
       "      <td>33</td>\n",
       "      <td>9</td>\n",
       "      <td>NaN</td>\n",
       "      <td>NaN</td>\n",
       "      <td>CINTI WARD 7</td>\n",
       "      <td>NaN</td>\n",
       "      <td>NaN</td>\n",
       "      <td>NaN</td>\n",
       "      <td>NaN</td>\n",
       "      <td>NaN</td>\n",
       "      <td>NaN</td>\n",
       "      <td>NaN</td>\n",
       "      <td>NaN</td>\n",
       "      <td>NaN</td>\n",
       "      <td>NaN</td>\n",
       "      <td>NaN</td>\n",
       "      <td>NaN</td>\n",
       "      <td>NaN</td>\n",
       "      <td>NaN</td>\n",
       "      <td>NaN</td>\n",
       "      <td>NaN</td>\n",
       "      <td>NaN</td>\n",
       "      <td>NaN</td>\n",
       "      <td>NaN</td>\n",
       "      <td>NaN</td>\n",
       "      <td>NaN</td>\n",
       "      <td>NaN</td>\n",
       "      <td>NaN</td>\n",
       "      <td>NaN</td>\n",
       "      <td>NaN</td>\n",
       "      <td>NaN</td>\n",
       "      <td>NaN</td>\n",
       "      <td>NaN</td>\n",
       "      <td>NaN</td>\n",
       "      <td>NaN</td>\n",
       "      <td>NaN</td>\n",
       "      <td>NaN</td>\n",
       "      <td>NaN</td>\n",
       "      <td>NaN</td>\n",
       "      <td>NaN</td>\n",
       "      <td>NaN</td>\n",
       "      <td>NaN</td>\n",
       "      <td>NaN</td>\n",
       "      <td>NaN</td>\n",
       "      <td>NaN</td>\n",
       "      <td>NaN</td>\n",
       "      <td>NaN</td>\n",
       "      <td>NaN</td>\n",
       "      <td>NaN</td>\n",
       "      <td>NaN</td>\n",
       "      <td>NaN</td>\n",
       "      <td>NaN</td>\n",
       "      <td>NaN</td>\n",
       "      <td>NaN</td>\n",
       "      <td>NaN</td>\n",
       "      <td>NaN</td>\n",
       "      <td>NaN</td>\n",
       "      <td>NaN</td>\n",
       "      <td>NaN</td>\n",
       "      <td>NaN</td>\n",
       "      <td>NaN</td>\n",
       "      <td>NaN</td>\n",
       "      <td>NaN</td>\n",
       "      <td>NaN</td>\n",
       "      <td>NaN</td>\n",
       "      <td>NaN</td>\n",
       "      <td>NaN</td>\n",
       "      <td>NaN</td>\n",
       "      <td>NaN</td>\n",
       "      <td>2000</td>\n",
       "      <td>390610271002</td>\n",
       "      <td>390610271002000</td>\n",
       "      <td>white</td>\n",
       "      <td>female</td>\n",
       "      <td>0.863262</td>\n",
       "      <td>0.026114</td>\n",
       "      <td>0.962109</td>\n",
       "      <td>1</td>\n",
       "      <td>GENERAL-12/11/2007</td>\n",
       "    </tr>\n",
       "    <tr>\n",
       "      <th>3</th>\n",
       "      <td>OH0013989049</td>\n",
       "      <td>31</td>\n",
       "      <td>243051</td>\n",
       "      <td>BILLUPS</td>\n",
       "      <td>KIMBERLY</td>\n",
       "      <td>DENISE</td>\n",
       "      <td>NaN</td>\n",
       "      <td>1966-06-07</td>\n",
       "      <td>1989-07-17</td>\n",
       "      <td>ACTIVE</td>\n",
       "      <td>NaN</td>\n",
       "      <td>5019 LACONIA AVE</td>\n",
       "      <td>NaN</td>\n",
       "      <td>CINCINNATI</td>\n",
       "      <td>OH</td>\n",
       "      <td>45237</td>\n",
       "      <td>NaN</td>\n",
       "      <td>NaN</td>\n",
       "      <td>NaN</td>\n",
       "      <td>103928804.0</td>\n",
       "      <td>L</td>\n",
       "      <td>6300.0</td>\n",
       "      <td>2002.0</td>\n",
       "      <td>39.177100</td>\n",
       "      <td>-84.460790</td>\n",
       "      <td>NaN</td>\n",
       "      <td>NaN</td>\n",
       "      <td>NaN</td>\n",
       "      <td>NaN</td>\n",
       "      <td>NaN</td>\n",
       "      <td>NaN</td>\n",
       "      <td>NaN</td>\n",
       "      <td>NaN</td>\n",
       "      <td>NaN</td>\n",
       "      <td>CINCINNATI CITY</td>\n",
       "      <td>CINCINNATI PUBLIC SCHOOLS CITY SD</td>\n",
       "      <td>NaN</td>\n",
       "      <td>1</td>\n",
       "      <td>1</td>\n",
       "      <td>NaN</td>\n",
       "      <td>NaN</td>\n",
       "      <td>NaN</td>\n",
       "      <td>NaN</td>\n",
       "      <td>HAMILTON-CO</td>\n",
       "      <td>CINCINNATI 7-F</td>\n",
       "      <td>31-AFK</td>\n",
       "      <td>4</td>\n",
       "      <td>33</td>\n",
       "      <td>9</td>\n",
       "      <td>NaN</td>\n",
       "      <td>NaN</td>\n",
       "      <td>CINTI WARD 7</td>\n",
       "      <td>NaN</td>\n",
       "      <td>NaN</td>\n",
       "      <td>NaN</td>\n",
       "      <td>X</td>\n",
       "      <td>NaN</td>\n",
       "      <td>NaN</td>\n",
       "      <td>NaN</td>\n",
       "      <td>NaN</td>\n",
       "      <td>NaN</td>\n",
       "      <td>X</td>\n",
       "      <td>NaN</td>\n",
       "      <td>NaN</td>\n",
       "      <td>NaN</td>\n",
       "      <td>NaN</td>\n",
       "      <td>NaN</td>\n",
       "      <td>NaN</td>\n",
       "      <td>NaN</td>\n",
       "      <td>NaN</td>\n",
       "      <td>NaN</td>\n",
       "      <td>NaN</td>\n",
       "      <td>NaN</td>\n",
       "      <td>NaN</td>\n",
       "      <td>NaN</td>\n",
       "      <td>NaN</td>\n",
       "      <td>X</td>\n",
       "      <td>NaN</td>\n",
       "      <td>NaN</td>\n",
       "      <td>NaN</td>\n",
       "      <td>NaN</td>\n",
       "      <td>NaN</td>\n",
       "      <td>NaN</td>\n",
       "      <td>NaN</td>\n",
       "      <td>NaN</td>\n",
       "      <td>NaN</td>\n",
       "      <td>NaN</td>\n",
       "      <td>NaN</td>\n",
       "      <td>NaN</td>\n",
       "      <td>NaN</td>\n",
       "      <td>NaN</td>\n",
       "      <td>X</td>\n",
       "      <td>NaN</td>\n",
       "      <td>NaN</td>\n",
       "      <td>NaN</td>\n",
       "      <td>NaN</td>\n",
       "      <td>NaN</td>\n",
       "      <td>NaN</td>\n",
       "      <td>NaN</td>\n",
       "      <td>NaN</td>\n",
       "      <td>NaN</td>\n",
       "      <td>NaN</td>\n",
       "      <td>NaN</td>\n",
       "      <td>NaN</td>\n",
       "      <td>X</td>\n",
       "      <td>NaN</td>\n",
       "      <td>NaN</td>\n",
       "      <td>NaN</td>\n",
       "      <td>NaN</td>\n",
       "      <td>NaN</td>\n",
       "      <td>X</td>\n",
       "      <td>NaN</td>\n",
       "      <td>NaN</td>\n",
       "      <td>NaN</td>\n",
       "      <td>NaN</td>\n",
       "      <td>X</td>\n",
       "      <td>2002</td>\n",
       "      <td>390610063002</td>\n",
       "      <td>390610063002002</td>\n",
       "      <td>black</td>\n",
       "      <td>female</td>\n",
       "      <td>0.546875</td>\n",
       "      <td>0.012077</td>\n",
       "      <td>0.293403</td>\n",
       "      <td>0</td>\n",
       "      <td>PRIMARY-03/07/2000</td>\n",
       "    </tr>\n",
       "  </tbody>\n",
       "</table>\n",
       "</div>"
      ],
      "text/plain": [
       "    SOS_VOTERID  COUNTY_NUMBER  COUNTY_ID    LAST_NAME FIRST_NAME MIDDLE_NAME  \\\n",
       "0  OH0023466264             31    1884306      POKORNY    MICHAEL           F   \n",
       "1  OH0023768498             31    1907972  SCARBOROUGH    ANTHONY           M   \n",
       "2  OH0019612471             31    1617057        ROEHM     PAMELA        JEAN   \n",
       "3  OH0013989049             31     243051      BILLUPS   KIMBERLY      DENISE   \n",
       "\n",
       "  SUFFIX DATE_OF_BIRTH REGISTRATION_DATE  VOTER_STATUS PARTY_AFFILIATION  \\\n",
       "0    NaN    1987-07-19        2015-12-22        ACTIVE               NaN   \n",
       "1    NaN    1968-08-24        2016-06-27  CONFIRMATION               NaN   \n",
       "2    NaN    1964-10-11        2007-12-07        ACTIVE               NaN   \n",
       "3    NaN    1966-06-07        1989-07-17        ACTIVE               NaN   \n",
       "\n",
       "  RESIDENTIAL_ADDRESS1_voter RESIDENTIAL_SECONDARY_ADDR  \\\n",
       "0           526 LIBERTY HILL                        NaN   \n",
       "1              1022 YALE AVE                        NaN   \n",
       "2           7100 EASTLAWN DR                      APT 1   \n",
       "3           5019 LACONIA AVE                        NaN   \n",
       "\n",
       "  RESIDENTIAL_CITY_voter RESIDENTIAL_STATE_voter  RESIDENTIAL_ZIP_voter  \\\n",
       "0             CINCINNATI                      OH                  45202   \n",
       "1             CINCINNATI                      OH                  45206   \n",
       "2             CINCINNATI                      OH                  45237   \n",
       "3             CINCINNATI                      OH                  45237   \n",
       "\n",
       "   RESIDENTIAL_ZIP_PLUS4  RESIDENTIAL_COUNTRY  RESIDENTIAL_POSTALCODE  \\\n",
       "0                    NaN                  NaN                     NaN   \n",
       "1                    NaN                  NaN                     NaN   \n",
       "2                    NaN                  NaN                     NaN   \n",
       "3                    NaN                  NaN                     NaN   \n",
       "\n",
       "   tigerlineid side    tract   block        lat        lon MAILING_ADDRESS1  \\\n",
       "0  103953039.0    L   1800.0  1017.0  39.112280 -84.505615              NaN   \n",
       "1  103970492.0    L   3700.0  1005.0  39.128967 -84.487260              NaN   \n",
       "2  650379265.0    R  27100.0  2000.0  39.189327 -84.456894              NaN   \n",
       "3  103928804.0    L   6300.0  2002.0  39.177100 -84.460790              NaN   \n",
       "\n",
       "   MAILING_SECONDARY_ADDRESS MAILING_CITY MAILING_STATE  MAILING_ZIP  \\\n",
       "0                        NaN          NaN           NaN          NaN   \n",
       "1                        NaN          NaN           NaN          NaN   \n",
       "2                        NaN          NaN           NaN          NaN   \n",
       "3                        NaN          NaN           NaN          NaN   \n",
       "\n",
       "   MAILING_ZIP_PLUS4  MAILING_COUNTRY  MAILING_POSTAL_CODE CAREER_CENTER  \\\n",
       "0                NaN              NaN                  NaN           NaN   \n",
       "1                NaN              NaN                  NaN           NaN   \n",
       "2                NaN              NaN                  NaN           NaN   \n",
       "3                NaN              NaN                  NaN           NaN   \n",
       "\n",
       "              CITY               CITY_SCHOOL_DISTRICT  COUNTY_COURT_DISTRICT  \\\n",
       "0  CINCINNATI CITY  CINCINNATI PUBLIC SCHOOLS CITY SD                    NaN   \n",
       "1  CINCINNATI CITY  CINCINNATI PUBLIC SCHOOLS CITY SD                    NaN   \n",
       "2  CINCINNATI CITY  CINCINNATI PUBLIC SCHOOLS CITY SD                    NaN   \n",
       "3  CINCINNATI CITY  CINCINNATI PUBLIC SCHOOLS CITY SD                    NaN   \n",
       "\n",
       "   CONGRESSIONAL_DISTRICT  COURT_OF_APPEALS EDU_SERVICE_CENTER_DISTRICT  \\\n",
       "0                       1                 1                         NaN   \n",
       "1                       1                 1                         NaN   \n",
       "2                       1                 1                         NaN   \n",
       "3                       1                 1                         NaN   \n",
       "\n",
       "   EXEMPTED_VILL_SCHOOL_DISTRICT  LIBRARY LOCAL_SCHOOL_DISTRICT  \\\n",
       "0                            NaN      NaN                   NaN   \n",
       "1                            NaN      NaN                   NaN   \n",
       "2                            NaN      NaN                   NaN   \n",
       "3                            NaN      NaN                   NaN   \n",
       "\n",
       "  MUNICIPAL_COURT_DISTRICT    PRECINCT_NAME PRECINCT_CODE  \\\n",
       "0              HAMILTON-CO  CINCINNATI 10-A        31-AGY   \n",
       "1              HAMILTON-CO   CINCINNATI 9-D        31-AGQ   \n",
       "2              HAMILTON-CO   CINCINNATI 7-B        31-AFG   \n",
       "3              HAMILTON-CO   CINCINNATI 7-F        31-AFK   \n",
       "\n",
       "   STATE_BOARD_OF_EDUCATION  STATE_REPRESENTATIVE_DISTRICT  \\\n",
       "0                         4                             32   \n",
       "1                         4                             31   \n",
       "2                         4                             33   \n",
       "3                         4                             33   \n",
       "\n",
       "   STATE_SENATE_DISTRICT TOWNSHIP  VILLAGE           WARD PRIMARY-03/07/2000  \\\n",
       "0                      9      NaN      NaN  CINTI WARD 10                NaN   \n",
       "1                      9      NaN      NaN   CINTI WARD 9                NaN   \n",
       "2                      9      NaN      NaN   CINTI WARD 7                NaN   \n",
       "3                      9      NaN      NaN   CINTI WARD 7                NaN   \n",
       "\n",
       "  GENERAL-11/07/2000 SPECIAL-05/08/2001 GENERAL-11/06/2001 PRIMARY-05/07/2002  \\\n",
       "0                NaN                NaN                NaN                NaN   \n",
       "1                NaN                NaN                NaN                NaN   \n",
       "2                NaN                NaN                NaN                NaN   \n",
       "3                NaN                NaN                  X                NaN   \n",
       "\n",
       "  GENERAL-11/05/2002 SPECIAL-05/06/2003 GENERAL-11/04/2003 PRIMARY-03/02/2004  \\\n",
       "0                NaN                NaN                NaN                NaN   \n",
       "1                NaN                NaN                NaN                NaN   \n",
       "2                NaN                NaN                NaN                NaN   \n",
       "3                NaN                NaN                NaN                NaN   \n",
       "\n",
       "  GENERAL-11/02/2004 SPECIAL-02/08/2005 PRIMARY-05/03/2005 PRIMARY-09/13/2005  \\\n",
       "0                NaN                NaN                NaN                NaN   \n",
       "1                NaN                NaN                NaN                NaN   \n",
       "2                NaN                NaN                NaN                NaN   \n",
       "3                  X                NaN                NaN                NaN   \n",
       "\n",
       "  GENERAL-11/08/2005 SPECIAL-02/07/2006 PRIMARY-05/02/2006 GENERAL-11/07/2006  \\\n",
       "0                NaN                NaN                NaN                NaN   \n",
       "1                NaN                NaN                NaN                NaN   \n",
       "2                NaN                NaN                NaN                NaN   \n",
       "3                NaN                NaN                NaN                NaN   \n",
       "\n",
       "  PRIMARY-05/08/2007 PRIMARY-09/11/2007 GENERAL-11/06/2007 PRIMARY-11/06/2007  \\\n",
       "0                NaN                NaN                NaN                NaN   \n",
       "1                NaN                NaN                NaN                NaN   \n",
       "2                NaN                NaN                NaN                NaN   \n",
       "3                NaN                NaN                NaN                NaN   \n",
       "\n",
       "  GENERAL-12/11/2007 PRIMARY-03/04/2008  PRIMARY-10/14/2008  \\\n",
       "0                NaN                NaN                 NaN   \n",
       "1                NaN                NaN                 NaN   \n",
       "2                NaN                NaN                 NaN   \n",
       "3                NaN                NaN                 NaN   \n",
       "\n",
       "  GENERAL-11/04/2008  GENERAL-11/18/2008 PRIMARY-05/05/2009  \\\n",
       "0                  X                 NaN                NaN   \n",
       "1                NaN                 NaN                NaN   \n",
       "2                NaN                 NaN                NaN   \n",
       "3                  X                 NaN                NaN   \n",
       "\n",
       "  PRIMARY-09/08/2009 PRIMARY-09/15/2009  PRIMARY-09/29/2009  \\\n",
       "0                NaN                NaN                 NaN   \n",
       "1                NaN                NaN                 NaN   \n",
       "2                NaN                NaN                 NaN   \n",
       "3                NaN                NaN                 NaN   \n",
       "\n",
       "  GENERAL-11/03/2009 PRIMARY-05/04/2010 PRIMARY-07/13/2010 PRIMARY-09/07/2010  \\\n",
       "0                  X                NaN                NaN                NaN   \n",
       "1                NaN                NaN                NaN                NaN   \n",
       "2                NaN                NaN                NaN                NaN   \n",
       "3                NaN                NaN                NaN                NaN   \n",
       "\n",
       "  GENERAL-11/02/2010 PRIMARY-05/03/2011 PRIMARY-09/13/2011 GENERAL-11/08/2011  \\\n",
       "0                NaN                NaN                NaN                NaN   \n",
       "1                NaN                NaN                NaN                NaN   \n",
       "2                NaN                NaN                NaN                NaN   \n",
       "3                NaN                NaN                NaN                NaN   \n",
       "\n",
       "  PRIMARY-03/06/2012 GENERAL-11/06/2012 PRIMARY-05/07/2013 PRIMARY-09/10/2013  \\\n",
       "0                NaN                NaN                NaN                NaN   \n",
       "1                NaN                NaN                NaN                NaN   \n",
       "2                NaN                NaN                NaN                NaN   \n",
       "3                NaN                  X                NaN                NaN   \n",
       "\n",
       "   PRIMARY-10/01/2013 GENERAL-11/05/2013 PRIMARY-05/06/2014  \\\n",
       "0                 NaN                NaN                NaN   \n",
       "1                 NaN                NaN                NaN   \n",
       "2                 NaN                NaN                NaN   \n",
       "3                 NaN                NaN                NaN   \n",
       "\n",
       "  GENERAL-11/04/2014 PRIMARY-05/05/2015 PRIMARY-09/15/2015 GENERAL-11/03/2015  \\\n",
       "0                NaN                NaN                NaN                NaN   \n",
       "1                NaN                NaN                NaN                NaN   \n",
       "2                NaN                NaN                NaN                NaN   \n",
       "3                NaN                NaN                NaN                NaN   \n",
       "\n",
       "  PRIMARY-03/15/2016 GENERAL-06/07/2016 PRIMARY-09/13/2016 GENERAL-11/08/2016  \\\n",
       "0                NaN                NaN                NaN                  X   \n",
       "1                NaN                NaN                NaN                NaN   \n",
       "2                NaN                NaN                NaN                NaN   \n",
       "3                NaN                NaN                NaN                  X   \n",
       "\n",
       "  PRIMARY-05/02/2017 PRIMARY-09/12/2017 GENERAL-11/07/2017 PRIMARY-05/08/2018  \\\n",
       "0                NaN                NaN                NaN                NaN   \n",
       "1                NaN                NaN                NaN                NaN   \n",
       "2                NaN                NaN                NaN                NaN   \n",
       "3                NaN                NaN                NaN                NaN   \n",
       "\n",
       "  GENERAL-08/07/2018 GENERAL-11/06/2018 PRIMARY-05/07/2019 PRIMARY-09/10/2019  \\\n",
       "0                NaN                  X                NaN                NaN   \n",
       "1                NaN                NaN                NaN                NaN   \n",
       "2                NaN                NaN                NaN                NaN   \n",
       "3                NaN                  X                NaN                NaN   \n",
       "\n",
       "  GENERAL-11/05/2019 PRIMARY-03/17/2020 GENERAL-11/03/2020 block_str  \\\n",
       "0                NaN                NaN                  X      1017   \n",
       "1                NaN                NaN                NaN      1005   \n",
       "2                NaN                NaN                NaN      2000   \n",
       "3                NaN                NaN                  X      2002   \n",
       "\n",
       "        fips_bg census_block_number race_name  GENDER  pct_under_30k  \\\n",
       "0  390610018001     390610018001017     white    male       0.124260   \n",
       "1  390610037001     390610037001005     white    male       0.413636   \n",
       "2  390610271002     390610271002000     white  female       0.863262   \n",
       "3  390610063002     390610063002002     black  female       0.546875   \n",
       "\n",
       "   pct_post_grad  pct_renters  is_apartment FIRST_ELIGIBLE_ELECTION  \n",
       "0       0.272593     0.568047             0      PRIMARY-03/15/2016  \n",
       "1       0.061789     0.636364             0      PRIMARY-09/13/2016  \n",
       "2       0.026114     0.962109             1      GENERAL-12/11/2007  \n",
       "3       0.012077     0.293403             0      PRIMARY-03/07/2000  "
      ]
     },
     "execution_count": 5,
     "metadata": {
      "tags": []
     },
     "output_type": "execute_result"
    }
   ],
   "source": [
    "voter_file.head(4)"
   ]
  },
  {
   "cell_type": "markdown",
   "metadata": {
    "id": "Yt0LHQyxPkZR"
   },
   "source": [
    "# Calculate DOB and registration date"
   ]
  },
  {
   "cell_type": "code",
   "execution_count": null,
   "metadata": {
    "id": "Jw_8pJDbPZFs"
   },
   "outputs": [],
   "source": [
    "voter_file['DATE_OF_BIRTH'] = pd.to_datetime(voter_file['DATE_OF_BIRTH'], format=\"%Y-%m-%d\")\n",
    "voter_file['DATE_OF_BIRTH'] = voter_file['DATE_OF_BIRTH'].dt.date\n",
    "\n",
    "voter_file['REGISTRATION_DATE'] = pd.to_datetime(voter_file['REGISTRATION_DATE'], format=\"%Y-%m-%d\")\n",
    "voter_file['REGISTRATION_DATE'] = voter_file['REGISTRATION_DATE'].dt.date"
   ]
  },
  {
   "cell_type": "code",
   "execution_count": null,
   "metadata": {
    "colab": {
     "base_uri": "https://localhost:8080/"
    },
    "executionInfo": {
     "elapsed": 959,
     "status": "ok",
     "timestamp": 1619034369189,
     "user": {
      "displayName": "Kevin Hengehold",
      "photoUrl": "https://lh3.googleusercontent.com/a-/AOh14GiNt2EajN8cmNcY3jUV0m5P3ZObvv8s77fL5wlv=s64",
      "userId": "18305800173505984629"
     },
     "user_tz": 240
    },
    "id": "U9EnsggpPZH6",
    "outputId": "98bea461-ed66-494f-fa86-1e863f350dd0"
   },
   "outputs": [
    {
     "data": {
      "text/plain": [
       "male       97654\n",
       "female     94664\n",
       "unknown    31151\n",
       "Name: GENDER, dtype: int64"
      ]
     },
     "execution_count": 352,
     "metadata": {
      "tags": []
     },
     "output_type": "execute_result"
    }
   ],
   "source": [
    "voter_file['GENDER'].value_counts()"
   ]
  },
  {
   "cell_type": "markdown",
   "metadata": {
    "id": "cSrUyhyPPusz"
   },
   "source": [
    "# Data Cleaning (for current voter predictions)\n",
    "* delete people born in 1800"
   ]
  },
  {
   "cell_type": "code",
   "execution_count": null,
   "metadata": {
    "id": "I6ly5azSPZKr"
   },
   "outputs": [],
   "source": [
    "dead_people_indices = voter_file.index[voter_file['DATE_OF_BIRTH'] == date(year=1800, month=1, day=1)]"
   ]
  },
  {
   "cell_type": "code",
   "execution_count": null,
   "metadata": {
    "colab": {
     "base_uri": "https://localhost:8080/"
    },
    "executionInfo": {
     "elapsed": 368,
     "status": "ok",
     "timestamp": 1619048926779,
     "user": {
      "displayName": "Kevin Hengehold",
      "photoUrl": "https://lh3.googleusercontent.com/a-/AOh14GiNt2EajN8cmNcY3jUV0m5P3ZObvv8s77fL5wlv=s64",
      "userId": "18305800173505984629"
     },
     "user_tz": 240
    },
    "id": "Wj5jiOs-PZNJ",
    "outputId": "0e7aaa40-ddac-4391-f0f0-228a03ac7113"
   },
   "outputs": [
    {
     "data": {
      "text/plain": [
       "Int64Index([  6372,  14799,  18664,  19107,  21018,  22004,  25480,  29031,\n",
       "             30294,  33951,  35823,  41593,  43532,  44800,  47705,  48442,\n",
       "             52041,  53051,  53792,  58376,  61964,  67888,  72251,  72975,\n",
       "             80114,  88232,  90105,  91667,  98678,  99149, 101158, 103386,\n",
       "            107138, 110419, 111774, 112368, 113735, 117732, 120312, 120347,\n",
       "            121859, 122477, 123800, 135938, 138009, 140814, 144782, 147226,\n",
       "            155210, 159578, 160339, 160340, 169929, 172396, 178584, 179081,\n",
       "            188612, 190218, 196511, 196675, 199700, 202953, 210515, 211377,\n",
       "            216247],\n",
       "           dtype='int64')"
      ]
     },
     "execution_count": 8,
     "metadata": {
      "tags": []
     },
     "output_type": "execute_result"
    }
   ],
   "source": [
    "dead_people_indices"
   ]
  },
  {
   "cell_type": "code",
   "execution_count": null,
   "metadata": {
    "id": "93Bgefc5PZPd"
   },
   "outputs": [],
   "source": [
    "voter_file.drop(dead_people_indices, inplace=True)"
   ]
  },
  {
   "cell_type": "code",
   "execution_count": null,
   "metadata": {
    "colab": {
     "base_uri": "https://localhost:8080/"
    },
    "executionInfo": {
     "elapsed": 767,
     "status": "ok",
     "timestamp": 1619048928525,
     "user": {
      "displayName": "Kevin Hengehold",
      "photoUrl": "https://lh3.googleusercontent.com/a-/AOh14GiNt2EajN8cmNcY3jUV0m5P3ZObvv8s77fL5wlv=s64",
      "userId": "18305800173505984629"
     },
     "user_tz": 240
    },
    "id": "Hn63PyecPZSD",
    "outputId": "0e79e745-f126-4a92-f512-bc75cfef35b7"
   },
   "outputs": [
    {
     "data": {
      "text/plain": [
       "(0,)"
      ]
     },
     "execution_count": 10,
     "metadata": {
      "tags": []
     },
     "output_type": "execute_result"
    }
   ],
   "source": [
    "voter_file.index[voter_file['DATE_OF_BIRTH'] == date(year=1800, month=1, day=1)].shape"
   ]
  },
  {
   "cell_type": "code",
   "execution_count": null,
   "metadata": {
    "id": "UhSxSAE_P7EQ"
   },
   "outputs": [],
   "source": [
    "#voter_file.to_csv(os.path.join(data_dir, \"voter file features no dead people.csv\"), index=False)"
   ]
  },
  {
   "cell_type": "markdown",
   "metadata": {
    "id": "DLNxMKfb70pC"
   },
   "source": [
    "# Calculate Age, Years Registered"
   ]
  },
  {
   "cell_type": "code",
   "execution_count": null,
   "metadata": {
    "id": "9pTkfLrsCH_r"
   },
   "outputs": [],
   "source": [
    "#PRIMARY-05/08/2018\t \n",
    "election_date = date(year=2021,month=5,day=4)"
   ]
  },
  {
   "cell_type": "code",
   "execution_count": null,
   "metadata": {
    "id": "Iq589xdd7_10"
   },
   "outputs": [],
   "source": [
    "voter_file['AGE'] = voter_file['DATE_OF_BIRTH'].apply(lambda x: (election_date - x).days/365.25)\n",
    "\n",
    "voter_file['YEARS_REGISTERED'] = voter_file['REGISTRATION_DATE'].apply(lambda x: (date.today() - x).days/365.25)"
   ]
  },
  {
   "cell_type": "markdown",
   "metadata": {
    "id": "yMy7oePM8G6w"
   },
   "source": [
    "# If model builing: remove folks registered after the election.  \n",
    "# If predicting, skip"
   ]
  },
  {
   "cell_type": "code",
   "execution_count": null,
   "metadata": {
    "id": "GP2EOfgg8CP_"
   },
   "outputs": [],
   "source": [
    "#get rid of people who registered on or after the election date\n",
    "too_late_index = voter_file.index[voter_file['REGISTRATION_DATE'] >= election_date]"
   ]
  },
  {
   "cell_type": "code",
   "execution_count": null,
   "metadata": {
    "id": "LzJoKf3F8OhL"
   },
   "outputs": [],
   "source": [
    "voter_file.drop(too_late_index, inplace=True)"
   ]
  },
  {
   "cell_type": "markdown",
   "metadata": {
    "id": "xYnHTHuE8YH3"
   },
   "source": [
    "# When model building, use the \"model_build\" functions.\n",
    "# When predicting, use the \"prediction\" functions"
   ]
  },
  {
   "cell_type": "code",
   "execution_count": null,
   "metadata": {
    "id": "D_iz8leV8Qtm"
   },
   "outputs": [],
   "source": [
    "def primary_elections_turnout_model_build(row, var_election_cols, current_election_str):\n",
    "    if pd.isna(row['FIRST_ELIGIBLE_ELECTION']) == True:\n",
    "        return 0\n",
    "    \n",
    "    if row['FIRST_ELIGIBLE_ELECTION'] == current_election_str:\n",
    "        return 0\n",
    "    \n",
    "    total_eligible_elections = var_election_cols[var_election_cols.index(row['FIRST_ELIGIBLE_ELECTION']):]\n",
    "    primary_eligible_elections = [col_name for col_name in total_eligible_elections if col_name.find(\"PRIMARY\") != -1]\n",
    "    \n",
    "    if len(primary_eligible_elections) == 0:\n",
    "        return 0\n",
    "    \n",
    "    ballots_cast = 0\n",
    "\n",
    "    for col_name in primary_eligible_elections:\n",
    "        if pd.notna(row[col_name]) == True:\n",
    "            ballots_cast += 1\n",
    "\n",
    "    return ballots_cast/len(primary_eligible_elections)"
   ]
  },
  {
   "cell_type": "code",
   "execution_count": null,
   "metadata": {
    "id": "UHmRyu1B8cdg"
   },
   "outputs": [],
   "source": [
    "def total_elections_turnout_model_build(row, var_election_cols, current_election_str):\n",
    "    \n",
    "    if pd.isna(row['FIRST_ELIGIBLE_ELECTION']) == True:\n",
    "        return 0\n",
    "    \n",
    "    if row['FIRST_ELIGIBLE_ELECTION'] == current_election_str or row['FIRST_ELIGIBLE_ELECTION'] == 'upcoming':\n",
    "        return 0\n",
    "    \n",
    "    eligible_elections = var_election_cols[var_election_cols.index(row['FIRST_ELIGIBLE_ELECTION']):]\n",
    "\n",
    "    ballots_cast = 0\n",
    "\n",
    "    for col_name in eligible_elections:\n",
    "        if pd.notna(row[col_name]) == True:\n",
    "            ballots_cast += 1\n",
    "\n",
    "    return ballots_cast/len(eligible_elections)\n"
   ]
  },
  {
   "cell_type": "code",
   "execution_count": null,
   "metadata": {
    "id": "jY_N15yk8e1X"
   },
   "outputs": [],
   "source": [
    "election_col_words = ['GENERAL', 'PRIMARY', 'SPECIAL']\n",
    "\n",
    "election_cols = [name for name in voter_file.columns if name.split('-')[0] in election_col_words]\n",
    "\n",
    "proxy_election_cols = [col_name for col_name in election_cols if datetime.strptime(col_name.split('-')[-1],\"%m/%d/%Y\").date() < election_date]"
   ]
  },
  {
   "cell_type": "code",
   "execution_count": null,
   "metadata": {
    "id": "FfCz_1Fv8t2m"
   },
   "outputs": [],
   "source": [
    "proxy_election_str = \"PRIMARY-05/08/2018\"\n",
    "voter_file['PCT_TOTAL_BALLOTS_CAST'] = voter_file.apply(total_elections_turnout_model_build, var_election_cols=proxy_election_cols, current_election_str = proxy_election_str, axis=1)\n"
   ]
  },
  {
   "cell_type": "code",
   "execution_count": null,
   "metadata": {
    "id": "_Gr_k6EJ8wrl"
   },
   "outputs": [],
   "source": [
    "voter_file['PCT_PRIMARY_BALLOTS_CAST'] = voter_file.apply(primary_elections_turnout_model_build, var_election_cols=proxy_election_cols, current_election_str = proxy_election_str, axis=1)\n"
   ]
  },
  {
   "cell_type": "code",
   "execution_count": null,
   "metadata": {
    "colab": {
     "base_uri": "https://localhost:8080/",
     "height": 274
    },
    "executionInfo": {
     "elapsed": 58812,
     "status": "ok",
     "timestamp": 1619034517108,
     "user": {
      "displayName": "Kevin Hengehold",
      "photoUrl": "https://lh3.googleusercontent.com/a-/AOh14GiNt2EajN8cmNcY3jUV0m5P3ZObvv8s77fL5wlv=s64",
      "userId": "18305800173505984629"
     },
     "user_tz": 240
    },
    "id": "FZX9CIIPEiPm",
    "outputId": "6b605b45-7db9-4964-9407-8e09b4e52229"
   },
   "outputs": [
    {
     "data": {
      "text/html": [
       "<div>\n",
       "<style scoped>\n",
       "    .dataframe tbody tr th:only-of-type {\n",
       "        vertical-align: middle;\n",
       "    }\n",
       "\n",
       "    .dataframe tbody tr th {\n",
       "        vertical-align: top;\n",
       "    }\n",
       "\n",
       "    .dataframe thead th {\n",
       "        text-align: right;\n",
       "    }\n",
       "</style>\n",
       "<table border=\"1\" class=\"dataframe\">\n",
       "  <thead>\n",
       "    <tr style=\"text-align: right;\">\n",
       "      <th></th>\n",
       "      <th>SOS_VOTERID</th>\n",
       "      <th>COUNTY_NUMBER</th>\n",
       "      <th>COUNTY_ID</th>\n",
       "      <th>LAST_NAME</th>\n",
       "      <th>FIRST_NAME</th>\n",
       "      <th>MIDDLE_NAME</th>\n",
       "      <th>SUFFIX</th>\n",
       "      <th>DATE_OF_BIRTH</th>\n",
       "      <th>REGISTRATION_DATE</th>\n",
       "      <th>VOTER_STATUS</th>\n",
       "      <th>PARTY_AFFILIATION</th>\n",
       "      <th>RESIDENTIAL_ADDRESS1_voter</th>\n",
       "      <th>RESIDENTIAL_SECONDARY_ADDR</th>\n",
       "      <th>RESIDENTIAL_CITY_voter</th>\n",
       "      <th>RESIDENTIAL_STATE_voter</th>\n",
       "      <th>RESIDENTIAL_ZIP_voter</th>\n",
       "      <th>RESIDENTIAL_ZIP_PLUS4</th>\n",
       "      <th>RESIDENTIAL_COUNTRY</th>\n",
       "      <th>RESIDENTIAL_POSTALCODE</th>\n",
       "      <th>tigerlineid</th>\n",
       "      <th>side</th>\n",
       "      <th>tract</th>\n",
       "      <th>block</th>\n",
       "      <th>lat</th>\n",
       "      <th>lon</th>\n",
       "      <th>MAILING_ADDRESS1</th>\n",
       "      <th>MAILING_SECONDARY_ADDRESS</th>\n",
       "      <th>MAILING_CITY</th>\n",
       "      <th>MAILING_STATE</th>\n",
       "      <th>MAILING_ZIP</th>\n",
       "      <th>MAILING_ZIP_PLUS4</th>\n",
       "      <th>MAILING_COUNTRY</th>\n",
       "      <th>MAILING_POSTAL_CODE</th>\n",
       "      <th>CAREER_CENTER</th>\n",
       "      <th>CITY</th>\n",
       "      <th>CITY_SCHOOL_DISTRICT</th>\n",
       "      <th>COUNTY_COURT_DISTRICT</th>\n",
       "      <th>CONGRESSIONAL_DISTRICT</th>\n",
       "      <th>COURT_OF_APPEALS</th>\n",
       "      <th>EDU_SERVICE_CENTER_DISTRICT</th>\n",
       "      <th>EXEMPTED_VILL_SCHOOL_DISTRICT</th>\n",
       "      <th>LIBRARY</th>\n",
       "      <th>LOCAL_SCHOOL_DISTRICT</th>\n",
       "      <th>MUNICIPAL_COURT_DISTRICT</th>\n",
       "      <th>PRECINCT_NAME</th>\n",
       "      <th>PRECINCT_CODE</th>\n",
       "      <th>STATE_BOARD_OF_EDUCATION</th>\n",
       "      <th>STATE_REPRESENTATIVE_DISTRICT</th>\n",
       "      <th>STATE_SENATE_DISTRICT</th>\n",
       "      <th>TOWNSHIP</th>\n",
       "      <th>VILLAGE</th>\n",
       "      <th>WARD</th>\n",
       "      <th>PRIMARY-03/07/2000</th>\n",
       "      <th>GENERAL-11/07/2000</th>\n",
       "      <th>SPECIAL-05/08/2001</th>\n",
       "      <th>GENERAL-11/06/2001</th>\n",
       "      <th>PRIMARY-05/07/2002</th>\n",
       "      <th>GENERAL-11/05/2002</th>\n",
       "      <th>SPECIAL-05/06/2003</th>\n",
       "      <th>GENERAL-11/04/2003</th>\n",
       "      <th>PRIMARY-03/02/2004</th>\n",
       "      <th>GENERAL-11/02/2004</th>\n",
       "      <th>SPECIAL-02/08/2005</th>\n",
       "      <th>PRIMARY-05/03/2005</th>\n",
       "      <th>PRIMARY-09/13/2005</th>\n",
       "      <th>GENERAL-11/08/2005</th>\n",
       "      <th>SPECIAL-02/07/2006</th>\n",
       "      <th>PRIMARY-05/02/2006</th>\n",
       "      <th>GENERAL-11/07/2006</th>\n",
       "      <th>PRIMARY-05/08/2007</th>\n",
       "      <th>PRIMARY-09/11/2007</th>\n",
       "      <th>GENERAL-11/06/2007</th>\n",
       "      <th>PRIMARY-11/06/2007</th>\n",
       "      <th>GENERAL-12/11/2007</th>\n",
       "      <th>PRIMARY-03/04/2008</th>\n",
       "      <th>PRIMARY-10/14/2008</th>\n",
       "      <th>GENERAL-11/04/2008</th>\n",
       "      <th>GENERAL-11/18/2008</th>\n",
       "      <th>PRIMARY-05/05/2009</th>\n",
       "      <th>PRIMARY-09/08/2009</th>\n",
       "      <th>PRIMARY-09/15/2009</th>\n",
       "      <th>PRIMARY-09/29/2009</th>\n",
       "      <th>GENERAL-11/03/2009</th>\n",
       "      <th>PRIMARY-05/04/2010</th>\n",
       "      <th>PRIMARY-07/13/2010</th>\n",
       "      <th>PRIMARY-09/07/2010</th>\n",
       "      <th>GENERAL-11/02/2010</th>\n",
       "      <th>PRIMARY-05/03/2011</th>\n",
       "      <th>PRIMARY-09/13/2011</th>\n",
       "      <th>GENERAL-11/08/2011</th>\n",
       "      <th>PRIMARY-03/06/2012</th>\n",
       "      <th>GENERAL-11/06/2012</th>\n",
       "      <th>PRIMARY-05/07/2013</th>\n",
       "      <th>PRIMARY-09/10/2013</th>\n",
       "      <th>PRIMARY-10/01/2013</th>\n",
       "      <th>GENERAL-11/05/2013</th>\n",
       "      <th>PRIMARY-05/06/2014</th>\n",
       "      <th>GENERAL-11/04/2014</th>\n",
       "      <th>PRIMARY-05/05/2015</th>\n",
       "      <th>PRIMARY-09/15/2015</th>\n",
       "      <th>GENERAL-11/03/2015</th>\n",
       "      <th>PRIMARY-03/15/2016</th>\n",
       "      <th>GENERAL-06/07/2016</th>\n",
       "      <th>PRIMARY-09/13/2016</th>\n",
       "      <th>GENERAL-11/08/2016</th>\n",
       "      <th>PRIMARY-05/02/2017</th>\n",
       "      <th>PRIMARY-09/12/2017</th>\n",
       "      <th>GENERAL-11/07/2017</th>\n",
       "      <th>PRIMARY-05/08/2018</th>\n",
       "      <th>GENERAL-08/07/2018</th>\n",
       "      <th>GENERAL-11/06/2018</th>\n",
       "      <th>PRIMARY-05/07/2019</th>\n",
       "      <th>PRIMARY-09/10/2019</th>\n",
       "      <th>GENERAL-11/05/2019</th>\n",
       "      <th>PRIMARY-03/17/2020</th>\n",
       "      <th>GENERAL-11/03/2020</th>\n",
       "      <th>block_str</th>\n",
       "      <th>fips_bg</th>\n",
       "      <th>census_block_number</th>\n",
       "      <th>race_name</th>\n",
       "      <th>GENDER</th>\n",
       "      <th>pct_under_30k</th>\n",
       "      <th>pct_post_grad</th>\n",
       "      <th>pct_renters</th>\n",
       "      <th>is_apartment</th>\n",
       "      <th>FIRST_ELIGIBLE_ELECTION</th>\n",
       "      <th>AGE</th>\n",
       "      <th>YEARS_REGISTERED</th>\n",
       "      <th>PCT_TOTAL_BALLOTS_CAST</th>\n",
       "      <th>PCT_PRIMARY_BALLOTS_CAST</th>\n",
       "    </tr>\n",
       "  </thead>\n",
       "  <tbody>\n",
       "    <tr>\n",
       "      <th>223062</th>\n",
       "      <td>OH0019632146</td>\n",
       "      <td>31</td>\n",
       "      <td>1624241</td>\n",
       "      <td>LUEBBE</td>\n",
       "      <td>DOUGLAS</td>\n",
       "      <td>STEPHEN</td>\n",
       "      <td>NaN</td>\n",
       "      <td>1989-12-23</td>\n",
       "      <td>2008-01-31</td>\n",
       "      <td>ACTIVE</td>\n",
       "      <td>NaN</td>\n",
       "      <td>4246 CENTURY LN</td>\n",
       "      <td>NaN</td>\n",
       "      <td>CINCINNATI</td>\n",
       "      <td>OH</td>\n",
       "      <td>45205</td>\n",
       "      <td>NaN</td>\n",
       "      <td>NaN</td>\n",
       "      <td>NaN</td>\n",
       "      <td>103918945.0</td>\n",
       "      <td>R</td>\n",
       "      <td>9902.0</td>\n",
       "      <td>2015.0</td>\n",
       "      <td>39.109700</td>\n",
       "      <td>-84.590515</td>\n",
       "      <td>NaN</td>\n",
       "      <td>NaN</td>\n",
       "      <td>NaN</td>\n",
       "      <td>NaN</td>\n",
       "      <td>NaN</td>\n",
       "      <td>NaN</td>\n",
       "      <td>NaN</td>\n",
       "      <td>NaN</td>\n",
       "      <td>NaN</td>\n",
       "      <td>CINCINNATI CITY</td>\n",
       "      <td>CINCINNATI PUBLIC SCHOOLS CITY SD</td>\n",
       "      <td>NaN</td>\n",
       "      <td>1</td>\n",
       "      <td>1</td>\n",
       "      <td>NaN</td>\n",
       "      <td>NaN</td>\n",
       "      <td>NaN</td>\n",
       "      <td>NaN</td>\n",
       "      <td>HAMILTON-CO</td>\n",
       "      <td>CINCINNATI 25-F</td>\n",
       "      <td>31-AOP</td>\n",
       "      <td>4</td>\n",
       "      <td>30</td>\n",
       "      <td>8</td>\n",
       "      <td>NaN</td>\n",
       "      <td>NaN</td>\n",
       "      <td>CINTI WARD 25</td>\n",
       "      <td>NaN</td>\n",
       "      <td>NaN</td>\n",
       "      <td>NaN</td>\n",
       "      <td>NaN</td>\n",
       "      <td>NaN</td>\n",
       "      <td>NaN</td>\n",
       "      <td>NaN</td>\n",
       "      <td>NaN</td>\n",
       "      <td>NaN</td>\n",
       "      <td>NaN</td>\n",
       "      <td>NaN</td>\n",
       "      <td>NaN</td>\n",
       "      <td>NaN</td>\n",
       "      <td>NaN</td>\n",
       "      <td>NaN</td>\n",
       "      <td>NaN</td>\n",
       "      <td>NaN</td>\n",
       "      <td>NaN</td>\n",
       "      <td>NaN</td>\n",
       "      <td>NaN</td>\n",
       "      <td>NaN</td>\n",
       "      <td>NaN</td>\n",
       "      <td>R</td>\n",
       "      <td>NaN</td>\n",
       "      <td>X</td>\n",
       "      <td>NaN</td>\n",
       "      <td>NaN</td>\n",
       "      <td>NaN</td>\n",
       "      <td>NaN</td>\n",
       "      <td>NaN</td>\n",
       "      <td>NaN</td>\n",
       "      <td>NaN</td>\n",
       "      <td>NaN</td>\n",
       "      <td>NaN</td>\n",
       "      <td>NaN</td>\n",
       "      <td>NaN</td>\n",
       "      <td>NaN</td>\n",
       "      <td>X</td>\n",
       "      <td>NaN</td>\n",
       "      <td>NaN</td>\n",
       "      <td>NaN</td>\n",
       "      <td>NaN</td>\n",
       "      <td>NaN</td>\n",
       "      <td>NaN</td>\n",
       "      <td>NaN</td>\n",
       "      <td>NaN</td>\n",
       "      <td>NaN</td>\n",
       "      <td>NaN</td>\n",
       "      <td>NaN</td>\n",
       "      <td>NaN</td>\n",
       "      <td>NaN</td>\n",
       "      <td>NaN</td>\n",
       "      <td>X</td>\n",
       "      <td>NaN</td>\n",
       "      <td>NaN</td>\n",
       "      <td>NaN</td>\n",
       "      <td>NaN</td>\n",
       "      <td>NaN</td>\n",
       "      <td>NaN</td>\n",
       "      <td>NaN</td>\n",
       "      <td>NaN</td>\n",
       "      <td>NaN</td>\n",
       "      <td>NaN</td>\n",
       "      <td>X</td>\n",
       "      <td>2015</td>\n",
       "      <td>390610099022</td>\n",
       "      <td>390610099022015</td>\n",
       "      <td>white</td>\n",
       "      <td>male</td>\n",
       "      <td>0.529478</td>\n",
       "      <td>0.051667</td>\n",
       "      <td>0.721088</td>\n",
       "      <td>0</td>\n",
       "      <td>PRIMARY-03/04/2008</td>\n",
       "      <td>28.372348</td>\n",
       "      <td>13.221081</td>\n",
       "      <td>0.117647</td>\n",
       "      <td>0.045455</td>\n",
       "    </tr>\n",
       "    <tr>\n",
       "      <th>223311</th>\n",
       "      <td>OH0020321853</td>\n",
       "      <td>31</td>\n",
       "      <td>1680305</td>\n",
       "      <td>KROEGER</td>\n",
       "      <td>TIMOTHY</td>\n",
       "      <td>J</td>\n",
       "      <td>NaN</td>\n",
       "      <td>1990-07-08</td>\n",
       "      <td>2008-10-06</td>\n",
       "      <td>ACTIVE</td>\n",
       "      <td>NaN</td>\n",
       "      <td>224 TWAIN AVE</td>\n",
       "      <td>NaN</td>\n",
       "      <td>CINCINNATI</td>\n",
       "      <td>OH</td>\n",
       "      <td>45233</td>\n",
       "      <td>NaN</td>\n",
       "      <td>NaN</td>\n",
       "      <td>NaN</td>\n",
       "      <td>103918107.0</td>\n",
       "      <td>R</td>\n",
       "      <td>10500.0</td>\n",
       "      <td>1003.0</td>\n",
       "      <td>39.113720</td>\n",
       "      <td>-84.687900</td>\n",
       "      <td>NaN</td>\n",
       "      <td>NaN</td>\n",
       "      <td>NaN</td>\n",
       "      <td>NaN</td>\n",
       "      <td>NaN</td>\n",
       "      <td>NaN</td>\n",
       "      <td>NaN</td>\n",
       "      <td>NaN</td>\n",
       "      <td>NaN</td>\n",
       "      <td>CINCINNATI CITY</td>\n",
       "      <td>CINCINNATI PUBLIC SCHOOLS CITY SD</td>\n",
       "      <td>NaN</td>\n",
       "      <td>1</td>\n",
       "      <td>1</td>\n",
       "      <td>NaN</td>\n",
       "      <td>NaN</td>\n",
       "      <td>NaN</td>\n",
       "      <td>NaN</td>\n",
       "      <td>HAMILTON-CO</td>\n",
       "      <td>CINCINNATI 19-B</td>\n",
       "      <td>31-AKX</td>\n",
       "      <td>4</td>\n",
       "      <td>29</td>\n",
       "      <td>8</td>\n",
       "      <td>NaN</td>\n",
       "      <td>NaN</td>\n",
       "      <td>CINTI WARD 19</td>\n",
       "      <td>NaN</td>\n",
       "      <td>NaN</td>\n",
       "      <td>NaN</td>\n",
       "      <td>NaN</td>\n",
       "      <td>NaN</td>\n",
       "      <td>NaN</td>\n",
       "      <td>NaN</td>\n",
       "      <td>NaN</td>\n",
       "      <td>NaN</td>\n",
       "      <td>NaN</td>\n",
       "      <td>NaN</td>\n",
       "      <td>NaN</td>\n",
       "      <td>NaN</td>\n",
       "      <td>NaN</td>\n",
       "      <td>NaN</td>\n",
       "      <td>NaN</td>\n",
       "      <td>NaN</td>\n",
       "      <td>NaN</td>\n",
       "      <td>NaN</td>\n",
       "      <td>NaN</td>\n",
       "      <td>NaN</td>\n",
       "      <td>NaN</td>\n",
       "      <td>NaN</td>\n",
       "      <td>NaN</td>\n",
       "      <td>X</td>\n",
       "      <td>NaN</td>\n",
       "      <td>NaN</td>\n",
       "      <td>NaN</td>\n",
       "      <td>NaN</td>\n",
       "      <td>NaN</td>\n",
       "      <td>NaN</td>\n",
       "      <td>NaN</td>\n",
       "      <td>NaN</td>\n",
       "      <td>NaN</td>\n",
       "      <td>NaN</td>\n",
       "      <td>NaN</td>\n",
       "      <td>NaN</td>\n",
       "      <td>NaN</td>\n",
       "      <td>NaN</td>\n",
       "      <td>X</td>\n",
       "      <td>NaN</td>\n",
       "      <td>NaN</td>\n",
       "      <td>NaN</td>\n",
       "      <td>NaN</td>\n",
       "      <td>NaN</td>\n",
       "      <td>NaN</td>\n",
       "      <td>NaN</td>\n",
       "      <td>NaN</td>\n",
       "      <td>NaN</td>\n",
       "      <td>NaN</td>\n",
       "      <td>NaN</td>\n",
       "      <td>NaN</td>\n",
       "      <td>NaN</td>\n",
       "      <td>NaN</td>\n",
       "      <td>NaN</td>\n",
       "      <td>NaN</td>\n",
       "      <td>NaN</td>\n",
       "      <td>NaN</td>\n",
       "      <td>NaN</td>\n",
       "      <td>NaN</td>\n",
       "      <td>NaN</td>\n",
       "      <td>NaN</td>\n",
       "      <td>NaN</td>\n",
       "      <td>X</td>\n",
       "      <td>1003</td>\n",
       "      <td>390610105001</td>\n",
       "      <td>390610105001003</td>\n",
       "      <td>white</td>\n",
       "      <td>male</td>\n",
       "      <td>0.357414</td>\n",
       "      <td>0.086475</td>\n",
       "      <td>0.463878</td>\n",
       "      <td>0</td>\n",
       "      <td>PRIMARY-10/14/2008</td>\n",
       "      <td>27.832991</td>\n",
       "      <td>12.539357</td>\n",
       "      <td>0.060606</td>\n",
       "      <td>0.000000</td>\n",
       "    </tr>\n",
       "    <tr>\n",
       "      <th>223465</th>\n",
       "      <td>OH0021686075</td>\n",
       "      <td>31</td>\n",
       "      <td>1752223</td>\n",
       "      <td>BARGE</td>\n",
       "      <td>COLIN</td>\n",
       "      <td>MICHAEL</td>\n",
       "      <td>NaN</td>\n",
       "      <td>1994-04-23</td>\n",
       "      <td>2012-02-01</td>\n",
       "      <td>ACTIVE</td>\n",
       "      <td>D</td>\n",
       "      <td>2031 DUNLAP ST</td>\n",
       "      <td>NaN</td>\n",
       "      <td>CINCINNATI</td>\n",
       "      <td>OH</td>\n",
       "      <td>45214</td>\n",
       "      <td>NaN</td>\n",
       "      <td>NaN</td>\n",
       "      <td>NaN</td>\n",
       "      <td>103924868.0</td>\n",
       "      <td>L</td>\n",
       "      <td>1600.0</td>\n",
       "      <td>1007.0</td>\n",
       "      <td>39.117714</td>\n",
       "      <td>-84.521470</td>\n",
       "      <td>NaN</td>\n",
       "      <td>NaN</td>\n",
       "      <td>NaN</td>\n",
       "      <td>NaN</td>\n",
       "      <td>NaN</td>\n",
       "      <td>NaN</td>\n",
       "      <td>NaN</td>\n",
       "      <td>NaN</td>\n",
       "      <td>NaN</td>\n",
       "      <td>CINCINNATI CITY</td>\n",
       "      <td>CINCINNATI PUBLIC SCHOOLS CITY SD</td>\n",
       "      <td>NaN</td>\n",
       "      <td>1</td>\n",
       "      <td>1</td>\n",
       "      <td>NaN</td>\n",
       "      <td>NaN</td>\n",
       "      <td>NaN</td>\n",
       "      <td>NaN</td>\n",
       "      <td>HAMILTON-CO</td>\n",
       "      <td>CINCINNATI 10-B</td>\n",
       "      <td>31-AGZ</td>\n",
       "      <td>4</td>\n",
       "      <td>32</td>\n",
       "      <td>9</td>\n",
       "      <td>NaN</td>\n",
       "      <td>NaN</td>\n",
       "      <td>CINTI WARD 10</td>\n",
       "      <td>NaN</td>\n",
       "      <td>NaN</td>\n",
       "      <td>NaN</td>\n",
       "      <td>NaN</td>\n",
       "      <td>NaN</td>\n",
       "      <td>NaN</td>\n",
       "      <td>NaN</td>\n",
       "      <td>NaN</td>\n",
       "      <td>NaN</td>\n",
       "      <td>NaN</td>\n",
       "      <td>NaN</td>\n",
       "      <td>NaN</td>\n",
       "      <td>NaN</td>\n",
       "      <td>NaN</td>\n",
       "      <td>NaN</td>\n",
       "      <td>NaN</td>\n",
       "      <td>NaN</td>\n",
       "      <td>NaN</td>\n",
       "      <td>NaN</td>\n",
       "      <td>NaN</td>\n",
       "      <td>NaN</td>\n",
       "      <td>NaN</td>\n",
       "      <td>NaN</td>\n",
       "      <td>NaN</td>\n",
       "      <td>NaN</td>\n",
       "      <td>NaN</td>\n",
       "      <td>NaN</td>\n",
       "      <td>NaN</td>\n",
       "      <td>NaN</td>\n",
       "      <td>NaN</td>\n",
       "      <td>NaN</td>\n",
       "      <td>NaN</td>\n",
       "      <td>NaN</td>\n",
       "      <td>NaN</td>\n",
       "      <td>NaN</td>\n",
       "      <td>NaN</td>\n",
       "      <td>NaN</td>\n",
       "      <td>NaN</td>\n",
       "      <td>R</td>\n",
       "      <td>X</td>\n",
       "      <td>NaN</td>\n",
       "      <td>NaN</td>\n",
       "      <td>NaN</td>\n",
       "      <td>X</td>\n",
       "      <td>NaN</td>\n",
       "      <td>NaN</td>\n",
       "      <td>NaN</td>\n",
       "      <td>NaN</td>\n",
       "      <td>X</td>\n",
       "      <td>R</td>\n",
       "      <td>NaN</td>\n",
       "      <td>NaN</td>\n",
       "      <td>X</td>\n",
       "      <td>NaN</td>\n",
       "      <td>NaN</td>\n",
       "      <td>X</td>\n",
       "      <td>D</td>\n",
       "      <td>NaN</td>\n",
       "      <td>X</td>\n",
       "      <td>NaN</td>\n",
       "      <td>NaN</td>\n",
       "      <td>NaN</td>\n",
       "      <td>NaN</td>\n",
       "      <td>X</td>\n",
       "      <td>1007</td>\n",
       "      <td>390610016001</td>\n",
       "      <td>390610016001007</td>\n",
       "      <td>white</td>\n",
       "      <td>male</td>\n",
       "      <td>0.720165</td>\n",
       "      <td>0.105263</td>\n",
       "      <td>0.938272</td>\n",
       "      <td>0</td>\n",
       "      <td>PRIMARY-03/06/2012</td>\n",
       "      <td>24.041068</td>\n",
       "      <td>9.218344</td>\n",
       "      <td>0.388889</td>\n",
       "      <td>0.181818</td>\n",
       "    </tr>\n",
       "  </tbody>\n",
       "</table>\n",
       "</div>"
      ],
      "text/plain": [
       "         SOS_VOTERID  COUNTY_NUMBER  COUNTY_ID LAST_NAME FIRST_NAME  \\\n",
       "223062  OH0019632146             31    1624241    LUEBBE    DOUGLAS   \n",
       "223311  OH0020321853             31    1680305   KROEGER    TIMOTHY   \n",
       "223465  OH0021686075             31    1752223     BARGE      COLIN   \n",
       "\n",
       "       MIDDLE_NAME SUFFIX DATE_OF_BIRTH REGISTRATION_DATE VOTER_STATUS  \\\n",
       "223062     STEPHEN    NaN    1989-12-23        2008-01-31       ACTIVE   \n",
       "223311           J    NaN    1990-07-08        2008-10-06       ACTIVE   \n",
       "223465     MICHAEL    NaN    1994-04-23        2012-02-01       ACTIVE   \n",
       "\n",
       "       PARTY_AFFILIATION RESIDENTIAL_ADDRESS1_voter  \\\n",
       "223062               NaN            4246 CENTURY LN   \n",
       "223311               NaN              224 TWAIN AVE   \n",
       "223465                 D             2031 DUNLAP ST   \n",
       "\n",
       "       RESIDENTIAL_SECONDARY_ADDR RESIDENTIAL_CITY_voter  \\\n",
       "223062                        NaN             CINCINNATI   \n",
       "223311                        NaN             CINCINNATI   \n",
       "223465                        NaN             CINCINNATI   \n",
       "\n",
       "       RESIDENTIAL_STATE_voter  RESIDENTIAL_ZIP_voter  RESIDENTIAL_ZIP_PLUS4  \\\n",
       "223062                      OH                  45205                    NaN   \n",
       "223311                      OH                  45233                    NaN   \n",
       "223465                      OH                  45214                    NaN   \n",
       "\n",
       "        RESIDENTIAL_COUNTRY  RESIDENTIAL_POSTALCODE  tigerlineid side  \\\n",
       "223062                  NaN                     NaN  103918945.0    R   \n",
       "223311                  NaN                     NaN  103918107.0    R   \n",
       "223465                  NaN                     NaN  103924868.0    L   \n",
       "\n",
       "          tract   block        lat        lon MAILING_ADDRESS1  \\\n",
       "223062   9902.0  2015.0  39.109700 -84.590515              NaN   \n",
       "223311  10500.0  1003.0  39.113720 -84.687900              NaN   \n",
       "223465   1600.0  1007.0  39.117714 -84.521470              NaN   \n",
       "\n",
       "        MAILING_SECONDARY_ADDRESS MAILING_CITY MAILING_STATE  MAILING_ZIP  \\\n",
       "223062                        NaN          NaN           NaN          NaN   \n",
       "223311                        NaN          NaN           NaN          NaN   \n",
       "223465                        NaN          NaN           NaN          NaN   \n",
       "\n",
       "        MAILING_ZIP_PLUS4  MAILING_COUNTRY  MAILING_POSTAL_CODE CAREER_CENTER  \\\n",
       "223062                NaN              NaN                  NaN           NaN   \n",
       "223311                NaN              NaN                  NaN           NaN   \n",
       "223465                NaN              NaN                  NaN           NaN   \n",
       "\n",
       "                   CITY               CITY_SCHOOL_DISTRICT  \\\n",
       "223062  CINCINNATI CITY  CINCINNATI PUBLIC SCHOOLS CITY SD   \n",
       "223311  CINCINNATI CITY  CINCINNATI PUBLIC SCHOOLS CITY SD   \n",
       "223465  CINCINNATI CITY  CINCINNATI PUBLIC SCHOOLS CITY SD   \n",
       "\n",
       "        COUNTY_COURT_DISTRICT  CONGRESSIONAL_DISTRICT  COURT_OF_APPEALS  \\\n",
       "223062                    NaN                       1                 1   \n",
       "223311                    NaN                       1                 1   \n",
       "223465                    NaN                       1                 1   \n",
       "\n",
       "       EDU_SERVICE_CENTER_DISTRICT  EXEMPTED_VILL_SCHOOL_DISTRICT  LIBRARY  \\\n",
       "223062                         NaN                            NaN      NaN   \n",
       "223311                         NaN                            NaN      NaN   \n",
       "223465                         NaN                            NaN      NaN   \n",
       "\n",
       "       LOCAL_SCHOOL_DISTRICT MUNICIPAL_COURT_DISTRICT    PRECINCT_NAME  \\\n",
       "223062                   NaN              HAMILTON-CO  CINCINNATI 25-F   \n",
       "223311                   NaN              HAMILTON-CO  CINCINNATI 19-B   \n",
       "223465                   NaN              HAMILTON-CO  CINCINNATI 10-B   \n",
       "\n",
       "       PRECINCT_CODE  STATE_BOARD_OF_EDUCATION  STATE_REPRESENTATIVE_DISTRICT  \\\n",
       "223062        31-AOP                         4                             30   \n",
       "223311        31-AKX                         4                             29   \n",
       "223465        31-AGZ                         4                             32   \n",
       "\n",
       "        STATE_SENATE_DISTRICT TOWNSHIP  VILLAGE           WARD  \\\n",
       "223062                      8      NaN      NaN  CINTI WARD 25   \n",
       "223311                      8      NaN      NaN  CINTI WARD 19   \n",
       "223465                      9      NaN      NaN  CINTI WARD 10   \n",
       "\n",
       "       PRIMARY-03/07/2000 GENERAL-11/07/2000 SPECIAL-05/08/2001  \\\n",
       "223062                NaN                NaN                NaN   \n",
       "223311                NaN                NaN                NaN   \n",
       "223465                NaN                NaN                NaN   \n",
       "\n",
       "       GENERAL-11/06/2001 PRIMARY-05/07/2002 GENERAL-11/05/2002  \\\n",
       "223062                NaN                NaN                NaN   \n",
       "223311                NaN                NaN                NaN   \n",
       "223465                NaN                NaN                NaN   \n",
       "\n",
       "       SPECIAL-05/06/2003 GENERAL-11/04/2003 PRIMARY-03/02/2004  \\\n",
       "223062                NaN                NaN                NaN   \n",
       "223311                NaN                NaN                NaN   \n",
       "223465                NaN                NaN                NaN   \n",
       "\n",
       "       GENERAL-11/02/2004 SPECIAL-02/08/2005 PRIMARY-05/03/2005  \\\n",
       "223062                NaN                NaN                NaN   \n",
       "223311                NaN                NaN                NaN   \n",
       "223465                NaN                NaN                NaN   \n",
       "\n",
       "       PRIMARY-09/13/2005 GENERAL-11/08/2005 SPECIAL-02/07/2006  \\\n",
       "223062                NaN                NaN                NaN   \n",
       "223311                NaN                NaN                NaN   \n",
       "223465                NaN                NaN                NaN   \n",
       "\n",
       "       PRIMARY-05/02/2006 GENERAL-11/07/2006 PRIMARY-05/08/2007  \\\n",
       "223062                NaN                NaN                NaN   \n",
       "223311                NaN                NaN                NaN   \n",
       "223465                NaN                NaN                NaN   \n",
       "\n",
       "       PRIMARY-09/11/2007 GENERAL-11/06/2007 PRIMARY-11/06/2007  \\\n",
       "223062                NaN                NaN                NaN   \n",
       "223311                NaN                NaN                NaN   \n",
       "223465                NaN                NaN                NaN   \n",
       "\n",
       "       GENERAL-12/11/2007 PRIMARY-03/04/2008  PRIMARY-10/14/2008  \\\n",
       "223062                NaN                  R                 NaN   \n",
       "223311                NaN                NaN                 NaN   \n",
       "223465                NaN                NaN                 NaN   \n",
       "\n",
       "       GENERAL-11/04/2008  GENERAL-11/18/2008 PRIMARY-05/05/2009  \\\n",
       "223062                  X                 NaN                NaN   \n",
       "223311                  X                 NaN                NaN   \n",
       "223465                NaN                 NaN                NaN   \n",
       "\n",
       "       PRIMARY-09/08/2009 PRIMARY-09/15/2009  PRIMARY-09/29/2009  \\\n",
       "223062                NaN                NaN                 NaN   \n",
       "223311                NaN                NaN                 NaN   \n",
       "223465                NaN                NaN                 NaN   \n",
       "\n",
       "       GENERAL-11/03/2009 PRIMARY-05/04/2010 PRIMARY-07/13/2010  \\\n",
       "223062                NaN                NaN                NaN   \n",
       "223311                NaN                NaN                NaN   \n",
       "223465                NaN                NaN                NaN   \n",
       "\n",
       "       PRIMARY-09/07/2010 GENERAL-11/02/2010 PRIMARY-05/03/2011  \\\n",
       "223062                NaN                NaN                NaN   \n",
       "223311                NaN                NaN                NaN   \n",
       "223465                NaN                NaN                NaN   \n",
       "\n",
       "       PRIMARY-09/13/2011 GENERAL-11/08/2011 PRIMARY-03/06/2012  \\\n",
       "223062                NaN                  X                NaN   \n",
       "223311                NaN                NaN                NaN   \n",
       "223465                NaN                NaN                  R   \n",
       "\n",
       "       GENERAL-11/06/2012 PRIMARY-05/07/2013 PRIMARY-09/10/2013  \\\n",
       "223062                NaN                NaN                NaN   \n",
       "223311                  X                NaN                NaN   \n",
       "223465                  X                NaN                NaN   \n",
       "\n",
       "        PRIMARY-10/01/2013 GENERAL-11/05/2013 PRIMARY-05/06/2014  \\\n",
       "223062                 NaN                NaN                NaN   \n",
       "223311                 NaN                NaN                NaN   \n",
       "223465                 NaN                  X                NaN   \n",
       "\n",
       "       GENERAL-11/04/2014 PRIMARY-05/05/2015 PRIMARY-09/15/2015  \\\n",
       "223062                NaN                NaN                NaN   \n",
       "223311                NaN                NaN                NaN   \n",
       "223465                NaN                NaN                NaN   \n",
       "\n",
       "       GENERAL-11/03/2015 PRIMARY-03/15/2016 GENERAL-06/07/2016  \\\n",
       "223062                NaN                NaN                NaN   \n",
       "223311                NaN                NaN                NaN   \n",
       "223465                  X                  R                NaN   \n",
       "\n",
       "       PRIMARY-09/13/2016 GENERAL-11/08/2016 PRIMARY-05/02/2017  \\\n",
       "223062                NaN                  X                NaN   \n",
       "223311                NaN                NaN                NaN   \n",
       "223465                NaN                  X                NaN   \n",
       "\n",
       "       PRIMARY-09/12/2017 GENERAL-11/07/2017 PRIMARY-05/08/2018  \\\n",
       "223062                NaN                NaN                NaN   \n",
       "223311                NaN                NaN                NaN   \n",
       "223465                NaN                  X                  D   \n",
       "\n",
       "       GENERAL-08/07/2018 GENERAL-11/06/2018 PRIMARY-05/07/2019  \\\n",
       "223062                NaN                NaN                NaN   \n",
       "223311                NaN                NaN                NaN   \n",
       "223465                NaN                  X                NaN   \n",
       "\n",
       "       PRIMARY-09/10/2019 GENERAL-11/05/2019 PRIMARY-03/17/2020  \\\n",
       "223062                NaN                NaN                NaN   \n",
       "223311                NaN                NaN                NaN   \n",
       "223465                NaN                NaN                NaN   \n",
       "\n",
       "       GENERAL-11/03/2020 block_str       fips_bg census_block_number  \\\n",
       "223062                  X      2015  390610099022     390610099022015   \n",
       "223311                  X      1003  390610105001     390610105001003   \n",
       "223465                  X      1007  390610016001     390610016001007   \n",
       "\n",
       "       race_name GENDER  pct_under_30k  pct_post_grad  pct_renters  \\\n",
       "223062     white   male       0.529478       0.051667     0.721088   \n",
       "223311     white   male       0.357414       0.086475     0.463878   \n",
       "223465     white   male       0.720165       0.105263     0.938272   \n",
       "\n",
       "        is_apartment FIRST_ELIGIBLE_ELECTION        AGE  YEARS_REGISTERED  \\\n",
       "223062             0      PRIMARY-03/04/2008  28.372348         13.221081   \n",
       "223311             0      PRIMARY-10/14/2008  27.832991         12.539357   \n",
       "223465             0      PRIMARY-03/06/2012  24.041068          9.218344   \n",
       "\n",
       "        PCT_TOTAL_BALLOTS_CAST  PCT_PRIMARY_BALLOTS_CAST  \n",
       "223062                0.117647                  0.045455  \n",
       "223311                0.060606                  0.000000  \n",
       "223465                0.388889                  0.181818  "
      ]
     },
     "execution_count": 366,
     "metadata": {
      "tags": []
     },
     "output_type": "execute_result"
    }
   ],
   "source": [
    "voter_file.tail(3)"
   ]
  },
  {
   "cell_type": "markdown",
   "metadata": {
    "id": "82NZkFQf-jYA"
   },
   "source": [
    "# Prediction: calculate percent voting scores for"
   ]
  },
  {
   "cell_type": "code",
   "execution_count": null,
   "metadata": {
    "id": "fNcvRo3_-opc"
   },
   "outputs": [],
   "source": [
    "def all_elections_turnout_prediction(row): \n",
    "    if pd.isna(row['FIRST_ELIGIBLE_ELECTION']) == True or row['FIRST_ELIGIBLE_ELECTION'] == \"upcoming\":\n",
    "        return 0\n",
    "\n",
    "    eligible_elections = election_cols[election_cols.index(row['FIRST_ELIGIBLE_ELECTION']):]\n",
    "\n",
    "    if len(eligible_elections) == 0:\n",
    "    return 0\n",
    "\n",
    "    ballots_cast = 0\n",
    "\n",
    "    for col_name in eligible_elections:\n",
    "        if pd.notna(row[col_name]) == True:\n",
    "            ballots_cast += 1\n",
    "\n",
    "    return ballots_cast/len(eligible_elections)\n",
    "\n",
    "def primary_elections_turnout_prediction(row):\n",
    "    if pd.isna(row['FIRST_ELIGIBLE_ELECTION']) == True or row['FIRST_ELIGIBLE_ELECTION'] == \"upcoming\":\n",
    "        return 0\n",
    "\n",
    "    total_eligible_elections = election_cols[election_cols.index(row['FIRST_ELIGIBLE_ELECTION']):]\n",
    "    primary_eligible_elections = [col_name for col_name in total_eligible_elections if col_name.find(\"PRIMARY\") != -1]\n",
    "\n",
    "    if len(primary_eligible_elections) == 0:\n",
    "        return 0\n",
    "\n",
    "    ballots_cast = 0\n",
    "\n",
    "    for col_name in primary_eligible_elections:\n",
    "        if pd.notna(row[col_name]) == True:\n",
    "            ballots_cast += 1\n",
    "\n",
    "    return ballots_cast/len(primary_eligible_elections)"
   ]
  },
  {
   "cell_type": "code",
   "execution_count": null,
   "metadata": {
    "id": "Kus-jqm9-osh"
   },
   "outputs": [],
   "source": [
    "election_col_words = ['GENERAL', 'PRIMARY', 'SPECIAL']\n",
    "\n",
    "election_cols = [name for name in voter_file.columns if name.split('-')[0] in election_col_words]"
   ]
  },
  {
   "cell_type": "code",
   "execution_count": null,
   "metadata": {
    "id": "Yu5OIEG6-ozp"
   },
   "outputs": [],
   "source": [
    "voter_file['PCT_TOTAL_BALLOTS_CAST'] = voter_file.apply(all_elections_turnout_prediction, axis=1)"
   ]
  },
  {
   "cell_type": "code",
   "execution_count": null,
   "metadata": {
    "id": "-dCmdoD0-x1C"
   },
   "outputs": [],
   "source": [
    "voter_file['PCT_PRIMARY_BALLOTS_CAST'] = voter_file.apply(primary_elections_turnout_prediction, axis=1)"
   ]
  },
  {
   "cell_type": "code",
   "execution_count": null,
   "metadata": {
    "colab": {
     "base_uri": "https://localhost:8080/",
     "height": 274
    },
    "executionInfo": {
     "elapsed": 760,
     "status": "ok",
     "timestamp": 1619049050663,
     "user": {
      "displayName": "Kevin Hengehold",
      "photoUrl": "https://lh3.googleusercontent.com/a-/AOh14GiNt2EajN8cmNcY3jUV0m5P3ZObvv8s77fL5wlv=s64",
      "userId": "18305800173505984629"
     },
     "user_tz": 240
    },
    "id": "ngKzHSJg8zRN",
    "outputId": "47a2af03-81d9-485d-801f-f63855765b17"
   },
   "outputs": [
    {
     "data": {
      "text/html": [
       "<div>\n",
       "<style scoped>\n",
       "    .dataframe tbody tr th:only-of-type {\n",
       "        vertical-align: middle;\n",
       "    }\n",
       "\n",
       "    .dataframe tbody tr th {\n",
       "        vertical-align: top;\n",
       "    }\n",
       "\n",
       "    .dataframe thead th {\n",
       "        text-align: right;\n",
       "    }\n",
       "</style>\n",
       "<table border=\"1\" class=\"dataframe\">\n",
       "  <thead>\n",
       "    <tr style=\"text-align: right;\">\n",
       "      <th></th>\n",
       "      <th>SOS_VOTERID</th>\n",
       "      <th>COUNTY_NUMBER</th>\n",
       "      <th>COUNTY_ID</th>\n",
       "      <th>LAST_NAME</th>\n",
       "      <th>FIRST_NAME</th>\n",
       "      <th>MIDDLE_NAME</th>\n",
       "      <th>SUFFIX</th>\n",
       "      <th>DATE_OF_BIRTH</th>\n",
       "      <th>REGISTRATION_DATE</th>\n",
       "      <th>VOTER_STATUS</th>\n",
       "      <th>PARTY_AFFILIATION</th>\n",
       "      <th>RESIDENTIAL_ADDRESS1_voter</th>\n",
       "      <th>RESIDENTIAL_SECONDARY_ADDR</th>\n",
       "      <th>RESIDENTIAL_CITY_voter</th>\n",
       "      <th>RESIDENTIAL_STATE_voter</th>\n",
       "      <th>RESIDENTIAL_ZIP_voter</th>\n",
       "      <th>RESIDENTIAL_ZIP_PLUS4</th>\n",
       "      <th>RESIDENTIAL_COUNTRY</th>\n",
       "      <th>RESIDENTIAL_POSTALCODE</th>\n",
       "      <th>tigerlineid</th>\n",
       "      <th>side</th>\n",
       "      <th>tract</th>\n",
       "      <th>block</th>\n",
       "      <th>lat</th>\n",
       "      <th>lon</th>\n",
       "      <th>MAILING_ADDRESS1</th>\n",
       "      <th>MAILING_SECONDARY_ADDRESS</th>\n",
       "      <th>MAILING_CITY</th>\n",
       "      <th>MAILING_STATE</th>\n",
       "      <th>MAILING_ZIP</th>\n",
       "      <th>MAILING_ZIP_PLUS4</th>\n",
       "      <th>MAILING_COUNTRY</th>\n",
       "      <th>MAILING_POSTAL_CODE</th>\n",
       "      <th>CAREER_CENTER</th>\n",
       "      <th>CITY</th>\n",
       "      <th>CITY_SCHOOL_DISTRICT</th>\n",
       "      <th>COUNTY_COURT_DISTRICT</th>\n",
       "      <th>CONGRESSIONAL_DISTRICT</th>\n",
       "      <th>COURT_OF_APPEALS</th>\n",
       "      <th>EDU_SERVICE_CENTER_DISTRICT</th>\n",
       "      <th>EXEMPTED_VILL_SCHOOL_DISTRICT</th>\n",
       "      <th>LIBRARY</th>\n",
       "      <th>LOCAL_SCHOOL_DISTRICT</th>\n",
       "      <th>MUNICIPAL_COURT_DISTRICT</th>\n",
       "      <th>PRECINCT_NAME</th>\n",
       "      <th>PRECINCT_CODE</th>\n",
       "      <th>STATE_BOARD_OF_EDUCATION</th>\n",
       "      <th>STATE_REPRESENTATIVE_DISTRICT</th>\n",
       "      <th>STATE_SENATE_DISTRICT</th>\n",
       "      <th>TOWNSHIP</th>\n",
       "      <th>VILLAGE</th>\n",
       "      <th>WARD</th>\n",
       "      <th>PRIMARY-03/07/2000</th>\n",
       "      <th>GENERAL-11/07/2000</th>\n",
       "      <th>SPECIAL-05/08/2001</th>\n",
       "      <th>GENERAL-11/06/2001</th>\n",
       "      <th>PRIMARY-05/07/2002</th>\n",
       "      <th>GENERAL-11/05/2002</th>\n",
       "      <th>SPECIAL-05/06/2003</th>\n",
       "      <th>GENERAL-11/04/2003</th>\n",
       "      <th>PRIMARY-03/02/2004</th>\n",
       "      <th>GENERAL-11/02/2004</th>\n",
       "      <th>SPECIAL-02/08/2005</th>\n",
       "      <th>PRIMARY-05/03/2005</th>\n",
       "      <th>PRIMARY-09/13/2005</th>\n",
       "      <th>GENERAL-11/08/2005</th>\n",
       "      <th>SPECIAL-02/07/2006</th>\n",
       "      <th>PRIMARY-05/02/2006</th>\n",
       "      <th>GENERAL-11/07/2006</th>\n",
       "      <th>PRIMARY-05/08/2007</th>\n",
       "      <th>PRIMARY-09/11/2007</th>\n",
       "      <th>GENERAL-11/06/2007</th>\n",
       "      <th>PRIMARY-11/06/2007</th>\n",
       "      <th>GENERAL-12/11/2007</th>\n",
       "      <th>PRIMARY-03/04/2008</th>\n",
       "      <th>PRIMARY-10/14/2008</th>\n",
       "      <th>GENERAL-11/04/2008</th>\n",
       "      <th>GENERAL-11/18/2008</th>\n",
       "      <th>PRIMARY-05/05/2009</th>\n",
       "      <th>PRIMARY-09/08/2009</th>\n",
       "      <th>PRIMARY-09/15/2009</th>\n",
       "      <th>PRIMARY-09/29/2009</th>\n",
       "      <th>GENERAL-11/03/2009</th>\n",
       "      <th>PRIMARY-05/04/2010</th>\n",
       "      <th>PRIMARY-07/13/2010</th>\n",
       "      <th>PRIMARY-09/07/2010</th>\n",
       "      <th>GENERAL-11/02/2010</th>\n",
       "      <th>PRIMARY-05/03/2011</th>\n",
       "      <th>PRIMARY-09/13/2011</th>\n",
       "      <th>GENERAL-11/08/2011</th>\n",
       "      <th>PRIMARY-03/06/2012</th>\n",
       "      <th>GENERAL-11/06/2012</th>\n",
       "      <th>PRIMARY-05/07/2013</th>\n",
       "      <th>PRIMARY-09/10/2013</th>\n",
       "      <th>PRIMARY-10/01/2013</th>\n",
       "      <th>GENERAL-11/05/2013</th>\n",
       "      <th>PRIMARY-05/06/2014</th>\n",
       "      <th>GENERAL-11/04/2014</th>\n",
       "      <th>PRIMARY-05/05/2015</th>\n",
       "      <th>PRIMARY-09/15/2015</th>\n",
       "      <th>GENERAL-11/03/2015</th>\n",
       "      <th>PRIMARY-03/15/2016</th>\n",
       "      <th>GENERAL-06/07/2016</th>\n",
       "      <th>PRIMARY-09/13/2016</th>\n",
       "      <th>GENERAL-11/08/2016</th>\n",
       "      <th>PRIMARY-05/02/2017</th>\n",
       "      <th>PRIMARY-09/12/2017</th>\n",
       "      <th>GENERAL-11/07/2017</th>\n",
       "      <th>PRIMARY-05/08/2018</th>\n",
       "      <th>GENERAL-08/07/2018</th>\n",
       "      <th>GENERAL-11/06/2018</th>\n",
       "      <th>PRIMARY-05/07/2019</th>\n",
       "      <th>PRIMARY-09/10/2019</th>\n",
       "      <th>GENERAL-11/05/2019</th>\n",
       "      <th>PRIMARY-03/17/2020</th>\n",
       "      <th>GENERAL-11/03/2020</th>\n",
       "      <th>block_str</th>\n",
       "      <th>fips_bg</th>\n",
       "      <th>census_block_number</th>\n",
       "      <th>race_name</th>\n",
       "      <th>GENDER</th>\n",
       "      <th>pct_under_30k</th>\n",
       "      <th>pct_post_grad</th>\n",
       "      <th>pct_renters</th>\n",
       "      <th>is_apartment</th>\n",
       "      <th>FIRST_ELIGIBLE_ELECTION</th>\n",
       "      <th>AGE</th>\n",
       "      <th>YEARS_REGISTERED</th>\n",
       "      <th>PCT_TOTAL_BALLOTS_CAST</th>\n",
       "      <th>PCT_PRIMARY_BALLOTS_CAST</th>\n",
       "    </tr>\n",
       "  </thead>\n",
       "  <tbody>\n",
       "    <tr>\n",
       "      <th>0</th>\n",
       "      <td>OH0023466264</td>\n",
       "      <td>31</td>\n",
       "      <td>1884306</td>\n",
       "      <td>POKORNY</td>\n",
       "      <td>MICHAEL</td>\n",
       "      <td>F</td>\n",
       "      <td>NaN</td>\n",
       "      <td>1987-07-19</td>\n",
       "      <td>2015-12-22</td>\n",
       "      <td>ACTIVE</td>\n",
       "      <td>NaN</td>\n",
       "      <td>526 LIBERTY HILL</td>\n",
       "      <td>NaN</td>\n",
       "      <td>CINCINNATI</td>\n",
       "      <td>OH</td>\n",
       "      <td>45202</td>\n",
       "      <td>NaN</td>\n",
       "      <td>NaN</td>\n",
       "      <td>NaN</td>\n",
       "      <td>103953039.0</td>\n",
       "      <td>L</td>\n",
       "      <td>1800.0</td>\n",
       "      <td>1017.0</td>\n",
       "      <td>39.112280</td>\n",
       "      <td>-84.505615</td>\n",
       "      <td>NaN</td>\n",
       "      <td>NaN</td>\n",
       "      <td>NaN</td>\n",
       "      <td>NaN</td>\n",
       "      <td>NaN</td>\n",
       "      <td>NaN</td>\n",
       "      <td>NaN</td>\n",
       "      <td>NaN</td>\n",
       "      <td>NaN</td>\n",
       "      <td>CINCINNATI CITY</td>\n",
       "      <td>CINCINNATI PUBLIC SCHOOLS CITY SD</td>\n",
       "      <td>NaN</td>\n",
       "      <td>1</td>\n",
       "      <td>1</td>\n",
       "      <td>NaN</td>\n",
       "      <td>NaN</td>\n",
       "      <td>NaN</td>\n",
       "      <td>NaN</td>\n",
       "      <td>HAMILTON-CO</td>\n",
       "      <td>CINCINNATI 10-A</td>\n",
       "      <td>31-AGY</td>\n",
       "      <td>4</td>\n",
       "      <td>32</td>\n",
       "      <td>9</td>\n",
       "      <td>NaN</td>\n",
       "      <td>NaN</td>\n",
       "      <td>CINTI WARD 10</td>\n",
       "      <td>NaN</td>\n",
       "      <td>NaN</td>\n",
       "      <td>NaN</td>\n",
       "      <td>NaN</td>\n",
       "      <td>NaN</td>\n",
       "      <td>NaN</td>\n",
       "      <td>NaN</td>\n",
       "      <td>NaN</td>\n",
       "      <td>NaN</td>\n",
       "      <td>NaN</td>\n",
       "      <td>NaN</td>\n",
       "      <td>NaN</td>\n",
       "      <td>NaN</td>\n",
       "      <td>NaN</td>\n",
       "      <td>NaN</td>\n",
       "      <td>NaN</td>\n",
       "      <td>NaN</td>\n",
       "      <td>NaN</td>\n",
       "      <td>NaN</td>\n",
       "      <td>NaN</td>\n",
       "      <td>NaN</td>\n",
       "      <td>NaN</td>\n",
       "      <td>NaN</td>\n",
       "      <td>NaN</td>\n",
       "      <td>X</td>\n",
       "      <td>NaN</td>\n",
       "      <td>NaN</td>\n",
       "      <td>NaN</td>\n",
       "      <td>NaN</td>\n",
       "      <td>NaN</td>\n",
       "      <td>X</td>\n",
       "      <td>NaN</td>\n",
       "      <td>NaN</td>\n",
       "      <td>NaN</td>\n",
       "      <td>NaN</td>\n",
       "      <td>NaN</td>\n",
       "      <td>NaN</td>\n",
       "      <td>NaN</td>\n",
       "      <td>NaN</td>\n",
       "      <td>NaN</td>\n",
       "      <td>NaN</td>\n",
       "      <td>NaN</td>\n",
       "      <td>NaN</td>\n",
       "      <td>NaN</td>\n",
       "      <td>NaN</td>\n",
       "      <td>NaN</td>\n",
       "      <td>NaN</td>\n",
       "      <td>NaN</td>\n",
       "      <td>NaN</td>\n",
       "      <td>NaN</td>\n",
       "      <td>NaN</td>\n",
       "      <td>NaN</td>\n",
       "      <td>X</td>\n",
       "      <td>NaN</td>\n",
       "      <td>NaN</td>\n",
       "      <td>NaN</td>\n",
       "      <td>NaN</td>\n",
       "      <td>NaN</td>\n",
       "      <td>X</td>\n",
       "      <td>NaN</td>\n",
       "      <td>NaN</td>\n",
       "      <td>NaN</td>\n",
       "      <td>NaN</td>\n",
       "      <td>X</td>\n",
       "      <td>1017</td>\n",
       "      <td>390610018001</td>\n",
       "      <td>390610018001017</td>\n",
       "      <td>white</td>\n",
       "      <td>male</td>\n",
       "      <td>0.124260</td>\n",
       "      <td>0.272593</td>\n",
       "      <td>0.568047</td>\n",
       "      <td>0</td>\n",
       "      <td>PRIMARY-03/15/2016</td>\n",
       "      <td>33.793292</td>\n",
       "      <td>5.330595</td>\n",
       "      <td>0.2</td>\n",
       "      <td>0.0</td>\n",
       "    </tr>\n",
       "    <tr>\n",
       "      <th>1</th>\n",
       "      <td>OH0023768498</td>\n",
       "      <td>31</td>\n",
       "      <td>1907972</td>\n",
       "      <td>SCARBOROUGH</td>\n",
       "      <td>ANTHONY</td>\n",
       "      <td>M</td>\n",
       "      <td>NaN</td>\n",
       "      <td>1968-08-24</td>\n",
       "      <td>2016-06-27</td>\n",
       "      <td>CONFIRMATION</td>\n",
       "      <td>NaN</td>\n",
       "      <td>1022 YALE AVE</td>\n",
       "      <td>NaN</td>\n",
       "      <td>CINCINNATI</td>\n",
       "      <td>OH</td>\n",
       "      <td>45206</td>\n",
       "      <td>NaN</td>\n",
       "      <td>NaN</td>\n",
       "      <td>NaN</td>\n",
       "      <td>103970492.0</td>\n",
       "      <td>L</td>\n",
       "      <td>3700.0</td>\n",
       "      <td>1005.0</td>\n",
       "      <td>39.128967</td>\n",
       "      <td>-84.487260</td>\n",
       "      <td>NaN</td>\n",
       "      <td>NaN</td>\n",
       "      <td>NaN</td>\n",
       "      <td>NaN</td>\n",
       "      <td>NaN</td>\n",
       "      <td>NaN</td>\n",
       "      <td>NaN</td>\n",
       "      <td>NaN</td>\n",
       "      <td>NaN</td>\n",
       "      <td>CINCINNATI CITY</td>\n",
       "      <td>CINCINNATI PUBLIC SCHOOLS CITY SD</td>\n",
       "      <td>NaN</td>\n",
       "      <td>1</td>\n",
       "      <td>1</td>\n",
       "      <td>NaN</td>\n",
       "      <td>NaN</td>\n",
       "      <td>NaN</td>\n",
       "      <td>NaN</td>\n",
       "      <td>HAMILTON-CO</td>\n",
       "      <td>CINCINNATI 9-D</td>\n",
       "      <td>31-AGQ</td>\n",
       "      <td>4</td>\n",
       "      <td>31</td>\n",
       "      <td>9</td>\n",
       "      <td>NaN</td>\n",
       "      <td>NaN</td>\n",
       "      <td>CINTI WARD 9</td>\n",
       "      <td>NaN</td>\n",
       "      <td>NaN</td>\n",
       "      <td>NaN</td>\n",
       "      <td>NaN</td>\n",
       "      <td>NaN</td>\n",
       "      <td>NaN</td>\n",
       "      <td>NaN</td>\n",
       "      <td>NaN</td>\n",
       "      <td>NaN</td>\n",
       "      <td>NaN</td>\n",
       "      <td>NaN</td>\n",
       "      <td>NaN</td>\n",
       "      <td>NaN</td>\n",
       "      <td>NaN</td>\n",
       "      <td>NaN</td>\n",
       "      <td>NaN</td>\n",
       "      <td>NaN</td>\n",
       "      <td>NaN</td>\n",
       "      <td>NaN</td>\n",
       "      <td>NaN</td>\n",
       "      <td>NaN</td>\n",
       "      <td>NaN</td>\n",
       "      <td>NaN</td>\n",
       "      <td>NaN</td>\n",
       "      <td>NaN</td>\n",
       "      <td>NaN</td>\n",
       "      <td>NaN</td>\n",
       "      <td>NaN</td>\n",
       "      <td>NaN</td>\n",
       "      <td>NaN</td>\n",
       "      <td>NaN</td>\n",
       "      <td>NaN</td>\n",
       "      <td>NaN</td>\n",
       "      <td>NaN</td>\n",
       "      <td>NaN</td>\n",
       "      <td>NaN</td>\n",
       "      <td>NaN</td>\n",
       "      <td>NaN</td>\n",
       "      <td>NaN</td>\n",
       "      <td>NaN</td>\n",
       "      <td>NaN</td>\n",
       "      <td>NaN</td>\n",
       "      <td>NaN</td>\n",
       "      <td>NaN</td>\n",
       "      <td>NaN</td>\n",
       "      <td>NaN</td>\n",
       "      <td>NaN</td>\n",
       "      <td>NaN</td>\n",
       "      <td>NaN</td>\n",
       "      <td>NaN</td>\n",
       "      <td>NaN</td>\n",
       "      <td>NaN</td>\n",
       "      <td>NaN</td>\n",
       "      <td>NaN</td>\n",
       "      <td>NaN</td>\n",
       "      <td>NaN</td>\n",
       "      <td>NaN</td>\n",
       "      <td>NaN</td>\n",
       "      <td>NaN</td>\n",
       "      <td>NaN</td>\n",
       "      <td>NaN</td>\n",
       "      <td>NaN</td>\n",
       "      <td>NaN</td>\n",
       "      <td>NaN</td>\n",
       "      <td>1005</td>\n",
       "      <td>390610037001</td>\n",
       "      <td>390610037001005</td>\n",
       "      <td>white</td>\n",
       "      <td>male</td>\n",
       "      <td>0.413636</td>\n",
       "      <td>0.061789</td>\n",
       "      <td>0.636364</td>\n",
       "      <td>0</td>\n",
       "      <td>PRIMARY-09/13/2016</td>\n",
       "      <td>52.692676</td>\n",
       "      <td>4.815880</td>\n",
       "      <td>0.0</td>\n",
       "      <td>0.0</td>\n",
       "    </tr>\n",
       "    <tr>\n",
       "      <th>2</th>\n",
       "      <td>OH0019612471</td>\n",
       "      <td>31</td>\n",
       "      <td>1617057</td>\n",
       "      <td>ROEHM</td>\n",
       "      <td>PAMELA</td>\n",
       "      <td>JEAN</td>\n",
       "      <td>NaN</td>\n",
       "      <td>1964-10-11</td>\n",
       "      <td>2007-12-07</td>\n",
       "      <td>ACTIVE</td>\n",
       "      <td>NaN</td>\n",
       "      <td>7100 EASTLAWN DR</td>\n",
       "      <td>APT 1</td>\n",
       "      <td>CINCINNATI</td>\n",
       "      <td>OH</td>\n",
       "      <td>45237</td>\n",
       "      <td>NaN</td>\n",
       "      <td>NaN</td>\n",
       "      <td>NaN</td>\n",
       "      <td>650379265.0</td>\n",
       "      <td>R</td>\n",
       "      <td>27100.0</td>\n",
       "      <td>2000.0</td>\n",
       "      <td>39.189327</td>\n",
       "      <td>-84.456894</td>\n",
       "      <td>NaN</td>\n",
       "      <td>NaN</td>\n",
       "      <td>NaN</td>\n",
       "      <td>NaN</td>\n",
       "      <td>NaN</td>\n",
       "      <td>NaN</td>\n",
       "      <td>NaN</td>\n",
       "      <td>NaN</td>\n",
       "      <td>NaN</td>\n",
       "      <td>CINCINNATI CITY</td>\n",
       "      <td>CINCINNATI PUBLIC SCHOOLS CITY SD</td>\n",
       "      <td>NaN</td>\n",
       "      <td>1</td>\n",
       "      <td>1</td>\n",
       "      <td>NaN</td>\n",
       "      <td>NaN</td>\n",
       "      <td>NaN</td>\n",
       "      <td>NaN</td>\n",
       "      <td>HAMILTON-CO</td>\n",
       "      <td>CINCINNATI 7-B</td>\n",
       "      <td>31-AFG</td>\n",
       "      <td>4</td>\n",
       "      <td>33</td>\n",
       "      <td>9</td>\n",
       "      <td>NaN</td>\n",
       "      <td>NaN</td>\n",
       "      <td>CINTI WARD 7</td>\n",
       "      <td>NaN</td>\n",
       "      <td>NaN</td>\n",
       "      <td>NaN</td>\n",
       "      <td>NaN</td>\n",
       "      <td>NaN</td>\n",
       "      <td>NaN</td>\n",
       "      <td>NaN</td>\n",
       "      <td>NaN</td>\n",
       "      <td>NaN</td>\n",
       "      <td>NaN</td>\n",
       "      <td>NaN</td>\n",
       "      <td>NaN</td>\n",
       "      <td>NaN</td>\n",
       "      <td>NaN</td>\n",
       "      <td>NaN</td>\n",
       "      <td>NaN</td>\n",
       "      <td>NaN</td>\n",
       "      <td>NaN</td>\n",
       "      <td>NaN</td>\n",
       "      <td>NaN</td>\n",
       "      <td>NaN</td>\n",
       "      <td>NaN</td>\n",
       "      <td>NaN</td>\n",
       "      <td>NaN</td>\n",
       "      <td>NaN</td>\n",
       "      <td>NaN</td>\n",
       "      <td>NaN</td>\n",
       "      <td>NaN</td>\n",
       "      <td>NaN</td>\n",
       "      <td>NaN</td>\n",
       "      <td>NaN</td>\n",
       "      <td>NaN</td>\n",
       "      <td>NaN</td>\n",
       "      <td>NaN</td>\n",
       "      <td>NaN</td>\n",
       "      <td>NaN</td>\n",
       "      <td>NaN</td>\n",
       "      <td>NaN</td>\n",
       "      <td>NaN</td>\n",
       "      <td>NaN</td>\n",
       "      <td>NaN</td>\n",
       "      <td>NaN</td>\n",
       "      <td>NaN</td>\n",
       "      <td>NaN</td>\n",
       "      <td>NaN</td>\n",
       "      <td>NaN</td>\n",
       "      <td>NaN</td>\n",
       "      <td>NaN</td>\n",
       "      <td>NaN</td>\n",
       "      <td>NaN</td>\n",
       "      <td>NaN</td>\n",
       "      <td>NaN</td>\n",
       "      <td>NaN</td>\n",
       "      <td>NaN</td>\n",
       "      <td>NaN</td>\n",
       "      <td>NaN</td>\n",
       "      <td>NaN</td>\n",
       "      <td>NaN</td>\n",
       "      <td>NaN</td>\n",
       "      <td>NaN</td>\n",
       "      <td>NaN</td>\n",
       "      <td>NaN</td>\n",
       "      <td>NaN</td>\n",
       "      <td>NaN</td>\n",
       "      <td>2000</td>\n",
       "      <td>390610271002</td>\n",
       "      <td>390610271002000</td>\n",
       "      <td>white</td>\n",
       "      <td>female</td>\n",
       "      <td>0.863262</td>\n",
       "      <td>0.026114</td>\n",
       "      <td>0.962109</td>\n",
       "      <td>1</td>\n",
       "      <td>GENERAL-12/11/2007</td>\n",
       "      <td>56.561259</td>\n",
       "      <td>13.371663</td>\n",
       "      <td>0.0</td>\n",
       "      <td>0.0</td>\n",
       "    </tr>\n",
       "  </tbody>\n",
       "</table>\n",
       "</div>"
      ],
      "text/plain": [
       "    SOS_VOTERID  COUNTY_NUMBER  COUNTY_ID    LAST_NAME FIRST_NAME MIDDLE_NAME  \\\n",
       "0  OH0023466264             31    1884306      POKORNY    MICHAEL           F   \n",
       "1  OH0023768498             31    1907972  SCARBOROUGH    ANTHONY           M   \n",
       "2  OH0019612471             31    1617057        ROEHM     PAMELA        JEAN   \n",
       "\n",
       "  SUFFIX DATE_OF_BIRTH REGISTRATION_DATE  VOTER_STATUS PARTY_AFFILIATION  \\\n",
       "0    NaN    1987-07-19        2015-12-22        ACTIVE               NaN   \n",
       "1    NaN    1968-08-24        2016-06-27  CONFIRMATION               NaN   \n",
       "2    NaN    1964-10-11        2007-12-07        ACTIVE               NaN   \n",
       "\n",
       "  RESIDENTIAL_ADDRESS1_voter RESIDENTIAL_SECONDARY_ADDR  \\\n",
       "0           526 LIBERTY HILL                        NaN   \n",
       "1              1022 YALE AVE                        NaN   \n",
       "2           7100 EASTLAWN DR                      APT 1   \n",
       "\n",
       "  RESIDENTIAL_CITY_voter RESIDENTIAL_STATE_voter  RESIDENTIAL_ZIP_voter  \\\n",
       "0             CINCINNATI                      OH                  45202   \n",
       "1             CINCINNATI                      OH                  45206   \n",
       "2             CINCINNATI                      OH                  45237   \n",
       "\n",
       "   RESIDENTIAL_ZIP_PLUS4  RESIDENTIAL_COUNTRY  RESIDENTIAL_POSTALCODE  \\\n",
       "0                    NaN                  NaN                     NaN   \n",
       "1                    NaN                  NaN                     NaN   \n",
       "2                    NaN                  NaN                     NaN   \n",
       "\n",
       "   tigerlineid side    tract   block        lat        lon MAILING_ADDRESS1  \\\n",
       "0  103953039.0    L   1800.0  1017.0  39.112280 -84.505615              NaN   \n",
       "1  103970492.0    L   3700.0  1005.0  39.128967 -84.487260              NaN   \n",
       "2  650379265.0    R  27100.0  2000.0  39.189327 -84.456894              NaN   \n",
       "\n",
       "   MAILING_SECONDARY_ADDRESS MAILING_CITY MAILING_STATE  MAILING_ZIP  \\\n",
       "0                        NaN          NaN           NaN          NaN   \n",
       "1                        NaN          NaN           NaN          NaN   \n",
       "2                        NaN          NaN           NaN          NaN   \n",
       "\n",
       "   MAILING_ZIP_PLUS4  MAILING_COUNTRY  MAILING_POSTAL_CODE CAREER_CENTER  \\\n",
       "0                NaN              NaN                  NaN           NaN   \n",
       "1                NaN              NaN                  NaN           NaN   \n",
       "2                NaN              NaN                  NaN           NaN   \n",
       "\n",
       "              CITY               CITY_SCHOOL_DISTRICT  COUNTY_COURT_DISTRICT  \\\n",
       "0  CINCINNATI CITY  CINCINNATI PUBLIC SCHOOLS CITY SD                    NaN   \n",
       "1  CINCINNATI CITY  CINCINNATI PUBLIC SCHOOLS CITY SD                    NaN   \n",
       "2  CINCINNATI CITY  CINCINNATI PUBLIC SCHOOLS CITY SD                    NaN   \n",
       "\n",
       "   CONGRESSIONAL_DISTRICT  COURT_OF_APPEALS EDU_SERVICE_CENTER_DISTRICT  \\\n",
       "0                       1                 1                         NaN   \n",
       "1                       1                 1                         NaN   \n",
       "2                       1                 1                         NaN   \n",
       "\n",
       "   EXEMPTED_VILL_SCHOOL_DISTRICT  LIBRARY LOCAL_SCHOOL_DISTRICT  \\\n",
       "0                            NaN      NaN                   NaN   \n",
       "1                            NaN      NaN                   NaN   \n",
       "2                            NaN      NaN                   NaN   \n",
       "\n",
       "  MUNICIPAL_COURT_DISTRICT    PRECINCT_NAME PRECINCT_CODE  \\\n",
       "0              HAMILTON-CO  CINCINNATI 10-A        31-AGY   \n",
       "1              HAMILTON-CO   CINCINNATI 9-D        31-AGQ   \n",
       "2              HAMILTON-CO   CINCINNATI 7-B        31-AFG   \n",
       "\n",
       "   STATE_BOARD_OF_EDUCATION  STATE_REPRESENTATIVE_DISTRICT  \\\n",
       "0                         4                             32   \n",
       "1                         4                             31   \n",
       "2                         4                             33   \n",
       "\n",
       "   STATE_SENATE_DISTRICT TOWNSHIP  VILLAGE           WARD PRIMARY-03/07/2000  \\\n",
       "0                      9      NaN      NaN  CINTI WARD 10                NaN   \n",
       "1                      9      NaN      NaN   CINTI WARD 9                NaN   \n",
       "2                      9      NaN      NaN   CINTI WARD 7                NaN   \n",
       "\n",
       "  GENERAL-11/07/2000 SPECIAL-05/08/2001 GENERAL-11/06/2001 PRIMARY-05/07/2002  \\\n",
       "0                NaN                NaN                NaN                NaN   \n",
       "1                NaN                NaN                NaN                NaN   \n",
       "2                NaN                NaN                NaN                NaN   \n",
       "\n",
       "  GENERAL-11/05/2002 SPECIAL-05/06/2003 GENERAL-11/04/2003 PRIMARY-03/02/2004  \\\n",
       "0                NaN                NaN                NaN                NaN   \n",
       "1                NaN                NaN                NaN                NaN   \n",
       "2                NaN                NaN                NaN                NaN   \n",
       "\n",
       "  GENERAL-11/02/2004 SPECIAL-02/08/2005 PRIMARY-05/03/2005 PRIMARY-09/13/2005  \\\n",
       "0                NaN                NaN                NaN                NaN   \n",
       "1                NaN                NaN                NaN                NaN   \n",
       "2                NaN                NaN                NaN                NaN   \n",
       "\n",
       "  GENERAL-11/08/2005 SPECIAL-02/07/2006 PRIMARY-05/02/2006 GENERAL-11/07/2006  \\\n",
       "0                NaN                NaN                NaN                NaN   \n",
       "1                NaN                NaN                NaN                NaN   \n",
       "2                NaN                NaN                NaN                NaN   \n",
       "\n",
       "  PRIMARY-05/08/2007 PRIMARY-09/11/2007 GENERAL-11/06/2007 PRIMARY-11/06/2007  \\\n",
       "0                NaN                NaN                NaN                NaN   \n",
       "1                NaN                NaN                NaN                NaN   \n",
       "2                NaN                NaN                NaN                NaN   \n",
       "\n",
       "  GENERAL-12/11/2007 PRIMARY-03/04/2008  PRIMARY-10/14/2008  \\\n",
       "0                NaN                NaN                 NaN   \n",
       "1                NaN                NaN                 NaN   \n",
       "2                NaN                NaN                 NaN   \n",
       "\n",
       "  GENERAL-11/04/2008  GENERAL-11/18/2008 PRIMARY-05/05/2009  \\\n",
       "0                  X                 NaN                NaN   \n",
       "1                NaN                 NaN                NaN   \n",
       "2                NaN                 NaN                NaN   \n",
       "\n",
       "  PRIMARY-09/08/2009 PRIMARY-09/15/2009  PRIMARY-09/29/2009  \\\n",
       "0                NaN                NaN                 NaN   \n",
       "1                NaN                NaN                 NaN   \n",
       "2                NaN                NaN                 NaN   \n",
       "\n",
       "  GENERAL-11/03/2009 PRIMARY-05/04/2010 PRIMARY-07/13/2010 PRIMARY-09/07/2010  \\\n",
       "0                  X                NaN                NaN                NaN   \n",
       "1                NaN                NaN                NaN                NaN   \n",
       "2                NaN                NaN                NaN                NaN   \n",
       "\n",
       "  GENERAL-11/02/2010 PRIMARY-05/03/2011 PRIMARY-09/13/2011 GENERAL-11/08/2011  \\\n",
       "0                NaN                NaN                NaN                NaN   \n",
       "1                NaN                NaN                NaN                NaN   \n",
       "2                NaN                NaN                NaN                NaN   \n",
       "\n",
       "  PRIMARY-03/06/2012 GENERAL-11/06/2012 PRIMARY-05/07/2013 PRIMARY-09/10/2013  \\\n",
       "0                NaN                NaN                NaN                NaN   \n",
       "1                NaN                NaN                NaN                NaN   \n",
       "2                NaN                NaN                NaN                NaN   \n",
       "\n",
       "   PRIMARY-10/01/2013 GENERAL-11/05/2013 PRIMARY-05/06/2014  \\\n",
       "0                 NaN                NaN                NaN   \n",
       "1                 NaN                NaN                NaN   \n",
       "2                 NaN                NaN                NaN   \n",
       "\n",
       "  GENERAL-11/04/2014 PRIMARY-05/05/2015 PRIMARY-09/15/2015 GENERAL-11/03/2015  \\\n",
       "0                NaN                NaN                NaN                NaN   \n",
       "1                NaN                NaN                NaN                NaN   \n",
       "2                NaN                NaN                NaN                NaN   \n",
       "\n",
       "  PRIMARY-03/15/2016 GENERAL-06/07/2016 PRIMARY-09/13/2016 GENERAL-11/08/2016  \\\n",
       "0                NaN                NaN                NaN                  X   \n",
       "1                NaN                NaN                NaN                NaN   \n",
       "2                NaN                NaN                NaN                NaN   \n",
       "\n",
       "  PRIMARY-05/02/2017 PRIMARY-09/12/2017 GENERAL-11/07/2017 PRIMARY-05/08/2018  \\\n",
       "0                NaN                NaN                NaN                NaN   \n",
       "1                NaN                NaN                NaN                NaN   \n",
       "2                NaN                NaN                NaN                NaN   \n",
       "\n",
       "  GENERAL-08/07/2018 GENERAL-11/06/2018 PRIMARY-05/07/2019 PRIMARY-09/10/2019  \\\n",
       "0                NaN                  X                NaN                NaN   \n",
       "1                NaN                NaN                NaN                NaN   \n",
       "2                NaN                NaN                NaN                NaN   \n",
       "\n",
       "  GENERAL-11/05/2019 PRIMARY-03/17/2020 GENERAL-11/03/2020 block_str  \\\n",
       "0                NaN                NaN                  X      1017   \n",
       "1                NaN                NaN                NaN      1005   \n",
       "2                NaN                NaN                NaN      2000   \n",
       "\n",
       "        fips_bg census_block_number race_name  GENDER  pct_under_30k  \\\n",
       "0  390610018001     390610018001017     white    male       0.124260   \n",
       "1  390610037001     390610037001005     white    male       0.413636   \n",
       "2  390610271002     390610271002000     white  female       0.863262   \n",
       "\n",
       "   pct_post_grad  pct_renters  is_apartment FIRST_ELIGIBLE_ELECTION  \\\n",
       "0       0.272593     0.568047             0      PRIMARY-03/15/2016   \n",
       "1       0.061789     0.636364             0      PRIMARY-09/13/2016   \n",
       "2       0.026114     0.962109             1      GENERAL-12/11/2007   \n",
       "\n",
       "         AGE  YEARS_REGISTERED  PCT_TOTAL_BALLOTS_CAST  \\\n",
       "0  33.793292          5.330595                     0.2   \n",
       "1  52.692676          4.815880                     0.0   \n",
       "2  56.561259         13.371663                     0.0   \n",
       "\n",
       "   PCT_PRIMARY_BALLOTS_CAST  \n",
       "0                       0.0  \n",
       "1                       0.0  \n",
       "2                       0.0  "
      ]
     },
     "execution_count": 17,
     "metadata": {
      "tags": []
     },
     "output_type": "execute_result"
    }
   ],
   "source": [
    "voter_file.head(3)"
   ]
  },
  {
   "cell_type": "markdown",
   "metadata": {
    "id": "9gVTO9sO888K"
   },
   "source": [
    "# Turn proxy election's column into target dummy variable"
   ]
  },
  {
   "cell_type": "code",
   "execution_count": null,
   "metadata": {
    "colab": {
     "base_uri": "https://localhost:8080/"
    },
    "executionInfo": {
     "elapsed": 227,
     "status": "ok",
     "timestamp": 1618962181255,
     "user": {
      "displayName": "Kevin Hengehold",
      "photoUrl": "",
      "userId": "11914732309930846664"
     },
     "user_tz": 240
    },
    "id": "U-PmCiJy82OP",
    "outputId": "b4f9a76d-97a0-4d1b-ef46-1199dc13bf35"
   },
   "outputs": [
    {
     "data": {
      "text/plain": [
       "D    0.124339\n",
       "R    0.041472\n",
       "X    0.011852\n",
       "G    0.000887\n",
       "Name: PRIMARY-05/08/2018, dtype: float64"
      ]
     },
     "execution_count": 35,
     "metadata": {
      "tags": []
     },
     "output_type": "execute_result"
    }
   ],
   "source": [
    "voter_file[proxy_election_str].value_counts()/len(voter_file)"
   ]
  },
  {
   "cell_type": "code",
   "execution_count": null,
   "metadata": {
    "id": "CbStOp0s9LOa"
   },
   "outputs": [],
   "source": [
    "voter_file['proxy_election_turnout'] = voter_file[proxy_election_str].apply(lambda x: 1 if pd.notna(x) else 0)"
   ]
  },
  {
   "cell_type": "code",
   "execution_count": null,
   "metadata": {
    "colab": {
     "base_uri": "https://localhost:8080/"
    },
    "executionInfo": {
     "elapsed": 662,
     "status": "ok",
     "timestamp": 1619034566949,
     "user": {
      "displayName": "Kevin Hengehold",
      "photoUrl": "https://lh3.googleusercontent.com/a-/AOh14GiNt2EajN8cmNcY3jUV0m5P3ZObvv8s77fL5wlv=s64",
      "userId": "18305800173505984629"
     },
     "user_tz": 240
    },
    "id": "KNwdb6vt99gv",
    "outputId": "1f7bc1a7-1ca5-482e-830b-f85b0c7a4a52"
   },
   "outputs": [
    {
     "data": {
      "text/plain": [
       "0    150953\n",
       "1     32811\n",
       "Name: proxy_election_turnout, dtype: int64"
      ]
     },
     "execution_count": 368,
     "metadata": {
      "tags": []
     },
     "output_type": "execute_result"
    }
   ],
   "source": [
    "voter_file['proxy_election_turnout'].value_counts()"
   ]
  },
  {
   "cell_type": "code",
   "execution_count": null,
   "metadata": {
    "colab": {
     "base_uri": "https://localhost:8080/",
     "height": 639
    },
    "executionInfo": {
     "elapsed": 506,
     "status": "ok",
     "timestamp": 1619034638056,
     "user": {
      "displayName": "Kevin Hengehold",
      "photoUrl": "https://lh3.googleusercontent.com/a-/AOh14GiNt2EajN8cmNcY3jUV0m5P3ZObvv8s77fL5wlv=s64",
      "userId": "18305800173505984629"
     },
     "user_tz": 240
    },
    "id": "jjHCS0ox-vwQ",
    "outputId": "42d58147-ffde-4f0f-c2d4-08b89d6365d8"
   },
   "outputs": [
    {
     "data": {
      "text/html": [
       "<div>\n",
       "<style scoped>\n",
       "    .dataframe tbody tr th:only-of-type {\n",
       "        vertical-align: middle;\n",
       "    }\n",
       "\n",
       "    .dataframe tbody tr th {\n",
       "        vertical-align: top;\n",
       "    }\n",
       "\n",
       "    .dataframe thead th {\n",
       "        text-align: right;\n",
       "    }\n",
       "</style>\n",
       "<table border=\"1\" class=\"dataframe\">\n",
       "  <thead>\n",
       "    <tr style=\"text-align: right;\">\n",
       "      <th></th>\n",
       "      <th>PRIMARY-05/08/2018</th>\n",
       "      <th>proxy_election_turnout</th>\n",
       "    </tr>\n",
       "  </thead>\n",
       "  <tbody>\n",
       "    <tr>\n",
       "      <th>0</th>\n",
       "      <td>NaN</td>\n",
       "      <td>0</td>\n",
       "    </tr>\n",
       "    <tr>\n",
       "      <th>1</th>\n",
       "      <td>NaN</td>\n",
       "      <td>0</td>\n",
       "    </tr>\n",
       "    <tr>\n",
       "      <th>2</th>\n",
       "      <td>NaN</td>\n",
       "      <td>0</td>\n",
       "    </tr>\n",
       "    <tr>\n",
       "      <th>3</th>\n",
       "      <td>NaN</td>\n",
       "      <td>0</td>\n",
       "    </tr>\n",
       "    <tr>\n",
       "      <th>4</th>\n",
       "      <td>NaN</td>\n",
       "      <td>0</td>\n",
       "    </tr>\n",
       "    <tr>\n",
       "      <th>5</th>\n",
       "      <td>NaN</td>\n",
       "      <td>0</td>\n",
       "    </tr>\n",
       "    <tr>\n",
       "      <th>6</th>\n",
       "      <td>NaN</td>\n",
       "      <td>0</td>\n",
       "    </tr>\n",
       "    <tr>\n",
       "      <th>7</th>\n",
       "      <td>NaN</td>\n",
       "      <td>0</td>\n",
       "    </tr>\n",
       "    <tr>\n",
       "      <th>8</th>\n",
       "      <td>D</td>\n",
       "      <td>1</td>\n",
       "    </tr>\n",
       "    <tr>\n",
       "      <th>9</th>\n",
       "      <td>NaN</td>\n",
       "      <td>0</td>\n",
       "    </tr>\n",
       "    <tr>\n",
       "      <th>10</th>\n",
       "      <td>NaN</td>\n",
       "      <td>0</td>\n",
       "    </tr>\n",
       "    <tr>\n",
       "      <th>15</th>\n",
       "      <td>NaN</td>\n",
       "      <td>0</td>\n",
       "    </tr>\n",
       "    <tr>\n",
       "      <th>16</th>\n",
       "      <td>NaN</td>\n",
       "      <td>0</td>\n",
       "    </tr>\n",
       "    <tr>\n",
       "      <th>17</th>\n",
       "      <td>NaN</td>\n",
       "      <td>0</td>\n",
       "    </tr>\n",
       "    <tr>\n",
       "      <th>18</th>\n",
       "      <td>NaN</td>\n",
       "      <td>0</td>\n",
       "    </tr>\n",
       "    <tr>\n",
       "      <th>19</th>\n",
       "      <td>D</td>\n",
       "      <td>1</td>\n",
       "    </tr>\n",
       "    <tr>\n",
       "      <th>20</th>\n",
       "      <td>NaN</td>\n",
       "      <td>0</td>\n",
       "    </tr>\n",
       "    <tr>\n",
       "      <th>21</th>\n",
       "      <td>NaN</td>\n",
       "      <td>0</td>\n",
       "    </tr>\n",
       "    <tr>\n",
       "      <th>22</th>\n",
       "      <td>D</td>\n",
       "      <td>1</td>\n",
       "    </tr>\n",
       "    <tr>\n",
       "      <th>26</th>\n",
       "      <td>R</td>\n",
       "      <td>1</td>\n",
       "    </tr>\n",
       "  </tbody>\n",
       "</table>\n",
       "</div>"
      ],
      "text/plain": [
       "   PRIMARY-05/08/2018  proxy_election_turnout\n",
       "0                 NaN                       0\n",
       "1                 NaN                       0\n",
       "2                 NaN                       0\n",
       "3                 NaN                       0\n",
       "4                 NaN                       0\n",
       "5                 NaN                       0\n",
       "6                 NaN                       0\n",
       "7                 NaN                       0\n",
       "8                   D                       1\n",
       "9                 NaN                       0\n",
       "10                NaN                       0\n",
       "15                NaN                       0\n",
       "16                NaN                       0\n",
       "17                NaN                       0\n",
       "18                NaN                       0\n",
       "19                  D                       1\n",
       "20                NaN                       0\n",
       "21                NaN                       0\n",
       "22                  D                       1\n",
       "26                  R                       1"
      ]
     },
     "execution_count": 370,
     "metadata": {
      "tags": []
     },
     "output_type": "execute_result"
    }
   ],
   "source": [
    "voter_file[[proxy_election_str, 'proxy_election_turnout']].head(20)"
   ]
  },
  {
   "cell_type": "markdown",
   "metadata": {
    "id": "qnge5qkp-W1P"
   },
   "source": [
    "# Create features_and_target dataframe"
   ]
  },
  {
   "cell_type": "code",
   "execution_count": null,
   "metadata": {
    "id": "SuhXfn_f-JQG"
   },
   "outputs": [],
   "source": [
    "voter_status_dummies = pd.get_dummies(voter_file['VOTER_STATUS'])\n",
    "party_affiliation_dummies = pd.get_dummies(voter_file['PARTY_AFFILIATION'])\n",
    "race_dummies = pd.get_dummies(voter_file['race_name'])\n",
    "gender_dummies = pd.get_dummies(voter_file['GENDER'])\n"
   ]
  },
  {
   "cell_type": "code",
   "execution_count": null,
   "metadata": {
    "colab": {
     "base_uri": "https://localhost:8080/",
     "height": 195
    },
    "executionInfo": {
     "elapsed": 1144,
     "status": "ok",
     "timestamp": 1619034676947,
     "user": {
      "displayName": "Kevin Hengehold",
      "photoUrl": "https://lh3.googleusercontent.com/a-/AOh14GiNt2EajN8cmNcY3jUV0m5P3ZObvv8s77fL5wlv=s64",
      "userId": "18305800173505984629"
     },
     "user_tz": 240
    },
    "id": "bHYjD1db-c6j",
    "outputId": "f14081f7-fda0-44a2-fb43-a00816e1d2d2"
   },
   "outputs": [
    {
     "data": {
      "text/html": [
       "<div>\n",
       "<style scoped>\n",
       "    .dataframe tbody tr th:only-of-type {\n",
       "        vertical-align: middle;\n",
       "    }\n",
       "\n",
       "    .dataframe tbody tr th {\n",
       "        vertical-align: top;\n",
       "    }\n",
       "\n",
       "    .dataframe thead th {\n",
       "        text-align: right;\n",
       "    }\n",
       "</style>\n",
       "<table border=\"1\" class=\"dataframe\">\n",
       "  <thead>\n",
       "    <tr style=\"text-align: right;\">\n",
       "      <th></th>\n",
       "      <th>ACTIVE</th>\n",
       "      <th>CONFIRMATION</th>\n",
       "    </tr>\n",
       "  </thead>\n",
       "  <tbody>\n",
       "    <tr>\n",
       "      <th>0</th>\n",
       "      <td>1</td>\n",
       "      <td>0</td>\n",
       "    </tr>\n",
       "    <tr>\n",
       "      <th>1</th>\n",
       "      <td>0</td>\n",
       "      <td>1</td>\n",
       "    </tr>\n",
       "    <tr>\n",
       "      <th>2</th>\n",
       "      <td>1</td>\n",
       "      <td>0</td>\n",
       "    </tr>\n",
       "    <tr>\n",
       "      <th>3</th>\n",
       "      <td>1</td>\n",
       "      <td>0</td>\n",
       "    </tr>\n",
       "    <tr>\n",
       "      <th>4</th>\n",
       "      <td>1</td>\n",
       "      <td>0</td>\n",
       "    </tr>\n",
       "  </tbody>\n",
       "</table>\n",
       "</div>"
      ],
      "text/plain": [
       "   ACTIVE  CONFIRMATION\n",
       "0       1             0\n",
       "1       0             1\n",
       "2       1             0\n",
       "3       1             0\n",
       "4       1             0"
      ]
     },
     "execution_count": 372,
     "metadata": {
      "tags": []
     },
     "output_type": "execute_result"
    }
   ],
   "source": [
    "voter_status_dummies.head()"
   ]
  },
  {
   "cell_type": "code",
   "execution_count": null,
   "metadata": {
    "id": "qCiJnk72-ffC"
   },
   "outputs": [],
   "source": [
    "voter_status_dummies.drop(columns=['CONFIRMATION'], inplace=True)"
   ]
  },
  {
   "cell_type": "code",
   "execution_count": null,
   "metadata": {
    "colab": {
     "base_uri": "https://localhost:8080/"
    },
    "executionInfo": {
     "elapsed": 703,
     "status": "ok",
     "timestamp": 1619049096427,
     "user": {
      "displayName": "Kevin Hengehold",
      "photoUrl": "https://lh3.googleusercontent.com/a-/AOh14GiNt2EajN8cmNcY3jUV0m5P3ZObvv8s77fL5wlv=s64",
      "userId": "18305800173505984629"
     },
     "user_tz": 240
    },
    "id": "V58WCXPS-hz_",
    "outputId": "df990e77-f547-4a25-eef2-a8baba1de958"
   },
   "outputs": [
    {
     "data": {
      "text/plain": [
       "D    0.267341\n",
       "G    0.000877\n",
       "L    0.000184\n",
       "R    0.091220\n",
       "dtype: float64"
      ]
     },
     "execution_count": 20,
     "metadata": {
      "tags": []
     },
     "output_type": "execute_result"
    }
   ],
   "source": [
    "party_affiliation_dummies.sum()/len(party_affiliation_dummies)"
   ]
  },
  {
   "cell_type": "code",
   "execution_count": null,
   "metadata": {
    "colab": {
     "base_uri": "https://localhost:8080/"
    },
    "executionInfo": {
     "elapsed": 546,
     "status": "ok",
     "timestamp": 1619049098013,
     "user": {
      "displayName": "Kevin Hengehold",
      "photoUrl": "https://lh3.googleusercontent.com/a-/AOh14GiNt2EajN8cmNcY3jUV0m5P3ZObvv8s77fL5wlv=s64",
      "userId": "18305800173505984629"
     },
     "user_tz": 240
    },
    "id": "jpe8rdJI-kMO",
    "outputId": "68aff949-e5c2-4be0-e87e-03fe64b090ab"
   },
   "outputs": [
    {
     "data": {
      "text/plain": [
       "Index(['2prace', 'aian', 'api', 'black', 'hispanic', 'no_race', 'white'], dtype='object')"
      ]
     },
     "execution_count": 21,
     "metadata": {
      "tags": []
     },
     "output_type": "execute_result"
    }
   ],
   "source": [
    "race_dummies.columns"
   ]
  },
  {
   "cell_type": "code",
   "execution_count": null,
   "metadata": {
    "id": "3SVAgmlR-ri8"
   },
   "outputs": [],
   "source": [
    "race_dummies.drop(columns=['no_race'], inplace=True) "
   ]
  },
  {
   "cell_type": "code",
   "execution_count": null,
   "metadata": {
    "colab": {
     "base_uri": "https://localhost:8080/"
    },
    "executionInfo": {
     "elapsed": 556,
     "status": "ok",
     "timestamp": 1619049098987,
     "user": {
      "displayName": "Kevin Hengehold",
      "photoUrl": "https://lh3.googleusercontent.com/a-/AOh14GiNt2EajN8cmNcY3jUV0m5P3ZObvv8s77fL5wlv=s64",
      "userId": "18305800173505984629"
     },
     "user_tz": 240
    },
    "id": "aLiPiygT-tks",
    "outputId": "d567bb65-de9c-477e-eadd-7477b103a279"
   },
   "outputs": [
    {
     "data": {
      "text/plain": [
       "Index(['female', 'male', 'unknown'], dtype='object')"
      ]
     },
     "execution_count": 23,
     "metadata": {
      "tags": []
     },
     "output_type": "execute_result"
    }
   ],
   "source": [
    "gender_dummies.columns"
   ]
  },
  {
   "cell_type": "code",
   "execution_count": null,
   "metadata": {
    "id": "tnljlO2I-viW"
   },
   "outputs": [],
   "source": [
    "gender_dummies.drop(columns=['unknown'], inplace=True)"
   ]
  },
  {
   "cell_type": "code",
   "execution_count": null,
   "metadata": {
    "colab": {
     "base_uri": "https://localhost:8080/"
    },
    "executionInfo": {
     "elapsed": 486,
     "status": "ok",
     "timestamp": 1619049106614,
     "user": {
      "displayName": "Kevin Hengehold",
      "photoUrl": "https://lh3.googleusercontent.com/a-/AOh14GiNt2EajN8cmNcY3jUV0m5P3ZObvv8s77fL5wlv=s64",
      "userId": "18305800173505984629"
     },
     "user_tz": 240
    },
    "id": "9gkxvEYx-3vF",
    "outputId": "92b03add-73bf-4976-f760-5bba14a2af54"
   },
   "outputs": [
    {
     "name": "stdout",
     "output_type": "stream",
     "text": [
      "<class 'pandas.core.frame.DataFrame'>\n",
      "Int64Index: 223404 entries, 0 to 223468\n",
      "Data columns (total 2 columns):\n",
      " #   Column       Non-Null Count   Dtype  \n",
      "---  ------       --------------   -----  \n",
      " 0   AGE          223404 non-null  float64\n",
      " 1   pct_renters  215035 non-null  float64\n",
      "dtypes: float64(2)\n",
      "memory usage: 5.1 MB\n"
     ]
    }
   ],
   "source": [
    "voter_file[['AGE', 'pct_renters']].info()"
   ]
  },
  {
   "cell_type": "code",
   "execution_count": null,
   "metadata": {
    "colab": {
     "base_uri": "https://localhost:8080/"
    },
    "executionInfo": {
     "elapsed": 258,
     "status": "ok",
     "timestamp": 1618962618392,
     "user": {
      "displayName": "Kevin Hengehold",
      "photoUrl": "",
      "userId": "11914732309930846664"
     },
     "user_tz": 240
    },
    "id": "XCi5Cop_sMv-",
    "outputId": "2f40e777-0ff3-492c-bc94-dfc8a15ef724"
   },
   "outputs": [
    {
     "data": {
      "text/plain": [
       "numpy.int64"
      ]
     },
     "execution_count": 49,
     "metadata": {
      "tags": []
     },
     "output_type": "execute_result"
    }
   ],
   "source": [
    "type(voter_file.loc[2,'RESIDENTIAL_ZIP_voter'])"
   ]
  },
  {
   "cell_type": "code",
   "execution_count": null,
   "metadata": {
    "id": "Zh2wijverHAi"
   },
   "outputs": [],
   "source": [
    "voter_file['RESIDENTIAL_ZIP_voter'].value_counts()"
   ]
  },
  {
   "cell_type": "code",
   "execution_count": null,
   "metadata": {
    "id": "ZsuLjeyJrHDV"
   },
   "outputs": [],
   "source": [
    "zip_code_dummies = pd.get_dummies(voter_file['RESIDENTIAL_ZIP_voter'])"
   ]
  },
  {
   "cell_type": "code",
   "execution_count": null,
   "metadata": {
    "colab": {
     "base_uri": "https://localhost:8080/"
    },
    "executionInfo": {
     "elapsed": 296,
     "status": "ok",
     "timestamp": 1618962645294,
     "user": {
      "displayName": "Kevin Hengehold",
      "photoUrl": "",
      "userId": "11914732309930846664"
     },
     "user_tz": 240
    },
    "id": "EMEB5BLsrHFw",
    "outputId": "7cced2ad-d734-4b55-ce24-bcd6653400dd"
   },
   "outputs": [
    {
     "data": {
      "text/plain": [
       "(183764, 40)"
      ]
     },
     "execution_count": 50,
     "metadata": {
      "tags": []
     },
     "output_type": "execute_result"
    }
   ],
   "source": [
    "zip_code_dummies.shape"
   ]
  },
  {
   "cell_type": "code",
   "execution_count": null,
   "metadata": {
    "id": "GEAAESkOrhJ2"
   },
   "outputs": [],
   "source": [
    "zip_code_dummies.drop(columns=[45247], inplace=True)"
   ]
  },
  {
   "cell_type": "code",
   "execution_count": null,
   "metadata": {
    "colab": {
     "base_uri": "https://localhost:8080/"
    },
    "executionInfo": {
     "elapsed": 228,
     "status": "ok",
     "timestamp": 1618962660587,
     "user": {
      "displayName": "Kevin Hengehold",
      "photoUrl": "",
      "userId": "11914732309930846664"
     },
     "user_tz": 240
    },
    "id": "ARW5rmBrrhMV",
    "outputId": "12e3821a-9227-4805-e6b0-5091e9047822"
   },
   "outputs": [
    {
     "data": {
      "text/plain": [
       "(183764, 39)"
      ]
     },
     "execution_count": 52,
     "metadata": {
      "tags": []
     },
     "output_type": "execute_result"
    }
   ],
   "source": [
    "zip_code_dummies.shape"
   ]
  },
  {
   "cell_type": "markdown",
   "metadata": {
    "id": "9E0Pj7jt_CkU"
   },
   "source": [
    "# Prediction: don't include \"proxy_election_turnout\" in features_and_target"
   ]
  },
  {
   "cell_type": "code",
   "execution_count": null,
   "metadata": {
    "id": "in3Mzt_AAjiJ"
   },
   "outputs": [],
   "source": [
    "voter_file_cols = ['pct_under_30k', 'pct_post_grad', 'pct_renters', 'is_apartment', 'AGE', \n",
    "                   'YEARS_REGISTERED','PCT_TOTAL_BALLOTS_CAST', 'PCT_PRIMARY_BALLOTS_CAST']"
   ]
  },
  {
   "cell_type": "code",
   "execution_count": null,
   "metadata": {
    "id": "miD6YhYRAo6H"
   },
   "outputs": [],
   "source": [
    "features_and_target =  pd.concat([voter_status_dummies, party_affiliation_dummies, \n",
    "                             race_dummies, gender_dummies, voter_file[voter_file_cols] ], axis=1)\n"
   ]
  },
  {
   "cell_type": "code",
   "execution_count": null,
   "metadata": {
    "colab": {
     "base_uri": "https://localhost:8080/"
    },
    "executionInfo": {
     "elapsed": 500,
     "status": "ok",
     "timestamp": 1619049155446,
     "user": {
      "displayName": "Kevin Hengehold",
      "photoUrl": "https://lh3.googleusercontent.com/a-/AOh14GiNt2EajN8cmNcY3jUV0m5P3ZObvv8s77fL5wlv=s64",
      "userId": "18305800173505984629"
     },
     "user_tz": 240
    },
    "id": "nogkTBxsAjmx",
    "outputId": "9f071d44-0b13-428c-877d-f6c10f28003e"
   },
   "outputs": [
    {
     "data": {
      "text/plain": [
       "(223404, 21)"
      ]
     },
     "execution_count": 28,
     "metadata": {
      "tags": []
     },
     "output_type": "execute_result"
    }
   ],
   "source": [
    "features_and_target.shape"
   ]
  },
  {
   "cell_type": "markdown",
   "metadata": {
    "id": "AFnrPezxAkXK"
   },
   "source": [
    "# Model Building: do include \"proxy_election_turnout\" in features_and_target"
   ]
  },
  {
   "cell_type": "code",
   "execution_count": null,
   "metadata": {
    "id": "BX_lImYN-9Yr"
   },
   "outputs": [],
   "source": [
    "voter_file_cols = ['pct_under_30k', 'pct_post_grad', 'pct_renters', 'is_apartment', 'AGE', \n",
    "                   'YEARS_REGISTERED','PCT_TOTAL_BALLOTS_CAST', 'PCT_PRIMARY_BALLOTS_CAST', 'proxy_election_turnout']"
   ]
  },
  {
   "cell_type": "code",
   "execution_count": null,
   "metadata": {
    "id": "ClXd8fVv_Rte"
   },
   "outputs": [],
   "source": [
    "features_and_target =  pd.concat([voter_status_dummies, party_affiliation_dummies, \n",
    "                             race_dummies, gender_dummies, voter_file[voter_file_cols] ], axis=1)\n"
   ]
  },
  {
   "cell_type": "code",
   "execution_count": null,
   "metadata": {
    "colab": {
     "base_uri": "https://localhost:8080/"
    },
    "executionInfo": {
     "elapsed": 793,
     "status": "ok",
     "timestamp": 1618962752658,
     "user": {
      "displayName": "Kevin Hengehold",
      "photoUrl": "",
      "userId": "11914732309930846664"
     },
     "user_tz": 240
    },
    "id": "QzJuwEodFKFy",
    "outputId": "b666e2a7-13aa-4cad-9d56-4477cc98e054"
   },
   "outputs": [
    {
     "data": {
      "text/plain": [
       "(183764, 61)"
      ]
     },
     "execution_count": 56,
     "metadata": {
      "tags": []
     },
     "output_type": "execute_result"
    }
   ],
   "source": [
    "features_and_target.shape"
   ]
  },
  {
   "cell_type": "code",
   "execution_count": null,
   "metadata": {
    "colab": {
     "base_uri": "https://localhost:8080/",
     "height": 215
    },
    "executionInfo": {
     "elapsed": 433,
     "status": "ok",
     "timestamp": 1619012852696,
     "user": {
      "displayName": "Kevin Hengehold",
      "photoUrl": "https://lh3.googleusercontent.com/a-/AOh14GiNt2EajN8cmNcY3jUV0m5P3ZObvv8s77fL5wlv=s64",
      "userId": "18305800173505984629"
     },
     "user_tz": 240
    },
    "id": "ZgZS33GPOC0B",
    "outputId": "e2922655-5652-43ec-8f5b-329632181bcd"
   },
   "outputs": [
    {
     "data": {
      "text/html": [
       "<div>\n",
       "<style scoped>\n",
       "    .dataframe tbody tr th:only-of-type {\n",
       "        vertical-align: middle;\n",
       "    }\n",
       "\n",
       "    .dataframe tbody tr th {\n",
       "        vertical-align: top;\n",
       "    }\n",
       "\n",
       "    .dataframe thead th {\n",
       "        text-align: right;\n",
       "    }\n",
       "</style>\n",
       "<table border=\"1\" class=\"dataframe\">\n",
       "  <thead>\n",
       "    <tr style=\"text-align: right;\">\n",
       "      <th></th>\n",
       "      <th>ACTIVE</th>\n",
       "      <th>D</th>\n",
       "      <th>G</th>\n",
       "      <th>L</th>\n",
       "      <th>R</th>\n",
       "      <th>45202</th>\n",
       "      <th>45203</th>\n",
       "      <th>45204</th>\n",
       "      <th>45205</th>\n",
       "      <th>45206</th>\n",
       "      <th>45207</th>\n",
       "      <th>45208</th>\n",
       "      <th>45209</th>\n",
       "      <th>45211</th>\n",
       "      <th>45212</th>\n",
       "      <th>45213</th>\n",
       "      <th>45214</th>\n",
       "      <th>45215</th>\n",
       "      <th>45216</th>\n",
       "      <th>45217</th>\n",
       "      <th>45219</th>\n",
       "      <th>45220</th>\n",
       "      <th>45223</th>\n",
       "      <th>45224</th>\n",
       "      <th>45225</th>\n",
       "      <th>45226</th>\n",
       "      <th>45227</th>\n",
       "      <th>45229</th>\n",
       "      <th>45230</th>\n",
       "      <th>45231</th>\n",
       "      <th>45232</th>\n",
       "      <th>45233</th>\n",
       "      <th>45236</th>\n",
       "      <th>45237</th>\n",
       "      <th>45238</th>\n",
       "      <th>45239</th>\n",
       "      <th>45240</th>\n",
       "      <th>45241</th>\n",
       "      <th>45242</th>\n",
       "      <th>45243</th>\n",
       "      <th>45244</th>\n",
       "      <th>45248</th>\n",
       "      <th>45249</th>\n",
       "      <th>45251</th>\n",
       "      <th>2prace</th>\n",
       "      <th>aian</th>\n",
       "      <th>api</th>\n",
       "      <th>black</th>\n",
       "      <th>hispanic</th>\n",
       "      <th>white</th>\n",
       "      <th>female</th>\n",
       "      <th>male</th>\n",
       "      <th>pct_under_30k</th>\n",
       "      <th>pct_post_grad</th>\n",
       "      <th>pct_renters</th>\n",
       "      <th>is_apartment</th>\n",
       "      <th>AGE</th>\n",
       "      <th>YEARS_REGISTERED</th>\n",
       "      <th>PCT_TOTAL_BALLOTS_CAST</th>\n",
       "      <th>PCT_PRIMARY_BALLOTS_CAST</th>\n",
       "      <th>proxy_election_turnout</th>\n",
       "    </tr>\n",
       "  </thead>\n",
       "  <tbody>\n",
       "    <tr>\n",
       "      <th>0</th>\n",
       "      <td>1</td>\n",
       "      <td>0</td>\n",
       "      <td>0</td>\n",
       "      <td>0</td>\n",
       "      <td>0</td>\n",
       "      <td>1</td>\n",
       "      <td>0</td>\n",
       "      <td>0</td>\n",
       "      <td>0</td>\n",
       "      <td>0</td>\n",
       "      <td>0</td>\n",
       "      <td>0</td>\n",
       "      <td>0</td>\n",
       "      <td>0</td>\n",
       "      <td>0</td>\n",
       "      <td>0</td>\n",
       "      <td>0</td>\n",
       "      <td>0</td>\n",
       "      <td>0</td>\n",
       "      <td>0</td>\n",
       "      <td>0</td>\n",
       "      <td>0</td>\n",
       "      <td>0</td>\n",
       "      <td>0</td>\n",
       "      <td>0</td>\n",
       "      <td>0</td>\n",
       "      <td>0</td>\n",
       "      <td>0</td>\n",
       "      <td>0</td>\n",
       "      <td>0</td>\n",
       "      <td>0</td>\n",
       "      <td>0</td>\n",
       "      <td>0</td>\n",
       "      <td>0</td>\n",
       "      <td>0</td>\n",
       "      <td>0</td>\n",
       "      <td>0</td>\n",
       "      <td>0</td>\n",
       "      <td>0</td>\n",
       "      <td>0</td>\n",
       "      <td>0</td>\n",
       "      <td>0</td>\n",
       "      <td>0</td>\n",
       "      <td>0</td>\n",
       "      <td>0</td>\n",
       "      <td>0</td>\n",
       "      <td>0</td>\n",
       "      <td>0</td>\n",
       "      <td>0</td>\n",
       "      <td>1</td>\n",
       "      <td>0</td>\n",
       "      <td>1</td>\n",
       "      <td>0.124260</td>\n",
       "      <td>0.272593</td>\n",
       "      <td>0.568047</td>\n",
       "      <td>0</td>\n",
       "      <td>30.803559</td>\n",
       "      <td>5.327858</td>\n",
       "      <td>0.142857</td>\n",
       "      <td>0.000000</td>\n",
       "      <td>0</td>\n",
       "    </tr>\n",
       "    <tr>\n",
       "      <th>1</th>\n",
       "      <td>0</td>\n",
       "      <td>0</td>\n",
       "      <td>0</td>\n",
       "      <td>0</td>\n",
       "      <td>0</td>\n",
       "      <td>0</td>\n",
       "      <td>0</td>\n",
       "      <td>0</td>\n",
       "      <td>0</td>\n",
       "      <td>1</td>\n",
       "      <td>0</td>\n",
       "      <td>0</td>\n",
       "      <td>0</td>\n",
       "      <td>0</td>\n",
       "      <td>0</td>\n",
       "      <td>0</td>\n",
       "      <td>0</td>\n",
       "      <td>0</td>\n",
       "      <td>0</td>\n",
       "      <td>0</td>\n",
       "      <td>0</td>\n",
       "      <td>0</td>\n",
       "      <td>0</td>\n",
       "      <td>0</td>\n",
       "      <td>0</td>\n",
       "      <td>0</td>\n",
       "      <td>0</td>\n",
       "      <td>0</td>\n",
       "      <td>0</td>\n",
       "      <td>0</td>\n",
       "      <td>0</td>\n",
       "      <td>0</td>\n",
       "      <td>0</td>\n",
       "      <td>0</td>\n",
       "      <td>0</td>\n",
       "      <td>0</td>\n",
       "      <td>0</td>\n",
       "      <td>0</td>\n",
       "      <td>0</td>\n",
       "      <td>0</td>\n",
       "      <td>0</td>\n",
       "      <td>0</td>\n",
       "      <td>0</td>\n",
       "      <td>0</td>\n",
       "      <td>0</td>\n",
       "      <td>0</td>\n",
       "      <td>0</td>\n",
       "      <td>0</td>\n",
       "      <td>0</td>\n",
       "      <td>1</td>\n",
       "      <td>0</td>\n",
       "      <td>1</td>\n",
       "      <td>0.413636</td>\n",
       "      <td>0.061789</td>\n",
       "      <td>0.636364</td>\n",
       "      <td>0</td>\n",
       "      <td>49.702943</td>\n",
       "      <td>4.813142</td>\n",
       "      <td>0.000000</td>\n",
       "      <td>0.000000</td>\n",
       "      <td>0</td>\n",
       "    </tr>\n",
       "    <tr>\n",
       "      <th>2</th>\n",
       "      <td>1</td>\n",
       "      <td>0</td>\n",
       "      <td>0</td>\n",
       "      <td>0</td>\n",
       "      <td>0</td>\n",
       "      <td>0</td>\n",
       "      <td>0</td>\n",
       "      <td>0</td>\n",
       "      <td>0</td>\n",
       "      <td>0</td>\n",
       "      <td>0</td>\n",
       "      <td>0</td>\n",
       "      <td>0</td>\n",
       "      <td>0</td>\n",
       "      <td>0</td>\n",
       "      <td>0</td>\n",
       "      <td>0</td>\n",
       "      <td>0</td>\n",
       "      <td>0</td>\n",
       "      <td>0</td>\n",
       "      <td>0</td>\n",
       "      <td>0</td>\n",
       "      <td>0</td>\n",
       "      <td>0</td>\n",
       "      <td>0</td>\n",
       "      <td>0</td>\n",
       "      <td>0</td>\n",
       "      <td>0</td>\n",
       "      <td>0</td>\n",
       "      <td>0</td>\n",
       "      <td>0</td>\n",
       "      <td>0</td>\n",
       "      <td>0</td>\n",
       "      <td>1</td>\n",
       "      <td>0</td>\n",
       "      <td>0</td>\n",
       "      <td>0</td>\n",
       "      <td>0</td>\n",
       "      <td>0</td>\n",
       "      <td>0</td>\n",
       "      <td>0</td>\n",
       "      <td>0</td>\n",
       "      <td>0</td>\n",
       "      <td>0</td>\n",
       "      <td>0</td>\n",
       "      <td>0</td>\n",
       "      <td>0</td>\n",
       "      <td>0</td>\n",
       "      <td>0</td>\n",
       "      <td>1</td>\n",
       "      <td>1</td>\n",
       "      <td>0</td>\n",
       "      <td>0.863262</td>\n",
       "      <td>0.026114</td>\n",
       "      <td>0.962109</td>\n",
       "      <td>1</td>\n",
       "      <td>53.571526</td>\n",
       "      <td>13.368925</td>\n",
       "      <td>0.000000</td>\n",
       "      <td>0.000000</td>\n",
       "      <td>0</td>\n",
       "    </tr>\n",
       "    <tr>\n",
       "      <th>3</th>\n",
       "      <td>1</td>\n",
       "      <td>0</td>\n",
       "      <td>0</td>\n",
       "      <td>0</td>\n",
       "      <td>0</td>\n",
       "      <td>0</td>\n",
       "      <td>0</td>\n",
       "      <td>0</td>\n",
       "      <td>0</td>\n",
       "      <td>0</td>\n",
       "      <td>0</td>\n",
       "      <td>0</td>\n",
       "      <td>0</td>\n",
       "      <td>0</td>\n",
       "      <td>0</td>\n",
       "      <td>0</td>\n",
       "      <td>0</td>\n",
       "      <td>0</td>\n",
       "      <td>0</td>\n",
       "      <td>0</td>\n",
       "      <td>0</td>\n",
       "      <td>0</td>\n",
       "      <td>0</td>\n",
       "      <td>0</td>\n",
       "      <td>0</td>\n",
       "      <td>0</td>\n",
       "      <td>0</td>\n",
       "      <td>0</td>\n",
       "      <td>0</td>\n",
       "      <td>0</td>\n",
       "      <td>0</td>\n",
       "      <td>0</td>\n",
       "      <td>0</td>\n",
       "      <td>1</td>\n",
       "      <td>0</td>\n",
       "      <td>0</td>\n",
       "      <td>0</td>\n",
       "      <td>0</td>\n",
       "      <td>0</td>\n",
       "      <td>0</td>\n",
       "      <td>0</td>\n",
       "      <td>0</td>\n",
       "      <td>0</td>\n",
       "      <td>0</td>\n",
       "      <td>0</td>\n",
       "      <td>0</td>\n",
       "      <td>0</td>\n",
       "      <td>1</td>\n",
       "      <td>0</td>\n",
       "      <td>0</td>\n",
       "      <td>1</td>\n",
       "      <td>0</td>\n",
       "      <td>0.546875</td>\n",
       "      <td>0.012077</td>\n",
       "      <td>0.293403</td>\n",
       "      <td>0</td>\n",
       "      <td>51.917864</td>\n",
       "      <td>31.759069</td>\n",
       "      <td>0.089286</td>\n",
       "      <td>0.000000</td>\n",
       "      <td>0</td>\n",
       "    </tr>\n",
       "    <tr>\n",
       "      <th>4</th>\n",
       "      <td>1</td>\n",
       "      <td>1</td>\n",
       "      <td>0</td>\n",
       "      <td>0</td>\n",
       "      <td>0</td>\n",
       "      <td>0</td>\n",
       "      <td>0</td>\n",
       "      <td>0</td>\n",
       "      <td>0</td>\n",
       "      <td>0</td>\n",
       "      <td>0</td>\n",
       "      <td>0</td>\n",
       "      <td>0</td>\n",
       "      <td>0</td>\n",
       "      <td>0</td>\n",
       "      <td>0</td>\n",
       "      <td>0</td>\n",
       "      <td>0</td>\n",
       "      <td>0</td>\n",
       "      <td>0</td>\n",
       "      <td>0</td>\n",
       "      <td>0</td>\n",
       "      <td>0</td>\n",
       "      <td>0</td>\n",
       "      <td>0</td>\n",
       "      <td>0</td>\n",
       "      <td>0</td>\n",
       "      <td>1</td>\n",
       "      <td>0</td>\n",
       "      <td>0</td>\n",
       "      <td>0</td>\n",
       "      <td>0</td>\n",
       "      <td>0</td>\n",
       "      <td>0</td>\n",
       "      <td>0</td>\n",
       "      <td>0</td>\n",
       "      <td>0</td>\n",
       "      <td>0</td>\n",
       "      <td>0</td>\n",
       "      <td>0</td>\n",
       "      <td>0</td>\n",
       "      <td>0</td>\n",
       "      <td>0</td>\n",
       "      <td>0</td>\n",
       "      <td>0</td>\n",
       "      <td>0</td>\n",
       "      <td>0</td>\n",
       "      <td>0</td>\n",
       "      <td>0</td>\n",
       "      <td>1</td>\n",
       "      <td>1</td>\n",
       "      <td>0</td>\n",
       "      <td>0.738520</td>\n",
       "      <td>0.056291</td>\n",
       "      <td>0.942602</td>\n",
       "      <td>0</td>\n",
       "      <td>81.522245</td>\n",
       "      <td>31.759069</td>\n",
       "      <td>0.178571</td>\n",
       "      <td>0.032258</td>\n",
       "      <td>0</td>\n",
       "    </tr>\n",
       "  </tbody>\n",
       "</table>\n",
       "</div>"
      ],
      "text/plain": [
       "   ACTIVE  D  G  L  R  45202  45203  45204  45205  45206  45207  45208  45209  \\\n",
       "0       1  0  0  0  0      1      0      0      0      0      0      0      0   \n",
       "1       0  0  0  0  0      0      0      0      0      1      0      0      0   \n",
       "2       1  0  0  0  0      0      0      0      0      0      0      0      0   \n",
       "3       1  0  0  0  0      0      0      0      0      0      0      0      0   \n",
       "4       1  1  0  0  0      0      0      0      0      0      0      0      0   \n",
       "\n",
       "   45211  45212  45213  45214  45215  45216  45217  45219  45220  45223  \\\n",
       "0      0      0      0      0      0      0      0      0      0      0   \n",
       "1      0      0      0      0      0      0      0      0      0      0   \n",
       "2      0      0      0      0      0      0      0      0      0      0   \n",
       "3      0      0      0      0      0      0      0      0      0      0   \n",
       "4      0      0      0      0      0      0      0      0      0      0   \n",
       "\n",
       "   45224  45225  45226  45227  45229  45230  45231  45232  45233  45236  \\\n",
       "0      0      0      0      0      0      0      0      0      0      0   \n",
       "1      0      0      0      0      0      0      0      0      0      0   \n",
       "2      0      0      0      0      0      0      0      0      0      0   \n",
       "3      0      0      0      0      0      0      0      0      0      0   \n",
       "4      0      0      0      0      1      0      0      0      0      0   \n",
       "\n",
       "   45237  45238  45239  45240  45241  45242  45243  45244  45248  45249  \\\n",
       "0      0      0      0      0      0      0      0      0      0      0   \n",
       "1      0      0      0      0      0      0      0      0      0      0   \n",
       "2      1      0      0      0      0      0      0      0      0      0   \n",
       "3      1      0      0      0      0      0      0      0      0      0   \n",
       "4      0      0      0      0      0      0      0      0      0      0   \n",
       "\n",
       "   45251  2prace  aian  api  black  hispanic  white  female  male  \\\n",
       "0      0       0     0    0      0         0      1       0     1   \n",
       "1      0       0     0    0      0         0      1       0     1   \n",
       "2      0       0     0    0      0         0      1       1     0   \n",
       "3      0       0     0    0      1         0      0       1     0   \n",
       "4      0       0     0    0      0         0      1       1     0   \n",
       "\n",
       "   pct_under_30k  pct_post_grad  pct_renters  is_apartment        AGE  \\\n",
       "0       0.124260       0.272593     0.568047             0  30.803559   \n",
       "1       0.413636       0.061789     0.636364             0  49.702943   \n",
       "2       0.863262       0.026114     0.962109             1  53.571526   \n",
       "3       0.546875       0.012077     0.293403             0  51.917864   \n",
       "4       0.738520       0.056291     0.942602             0  81.522245   \n",
       "\n",
       "   YEARS_REGISTERED  PCT_TOTAL_BALLOTS_CAST  PCT_PRIMARY_BALLOTS_CAST  \\\n",
       "0          5.327858                0.142857                  0.000000   \n",
       "1          4.813142                0.000000                  0.000000   \n",
       "2         13.368925                0.000000                  0.000000   \n",
       "3         31.759069                0.089286                  0.000000   \n",
       "4         31.759069                0.178571                  0.032258   \n",
       "\n",
       "   proxy_election_turnout  \n",
       "0                       0  \n",
       "1                       0  \n",
       "2                       0  \n",
       "3                       0  \n",
       "4                       0  "
      ]
     },
     "execution_count": 99,
     "metadata": {
      "tags": []
     },
     "output_type": "execute_result"
    }
   ],
   "source": [
    "features_and_target.head()"
   ]
  },
  {
   "cell_type": "code",
   "execution_count": null,
   "metadata": {
    "colab": {
     "base_uri": "https://localhost:8080/",
     "height": 35
    },
    "executionInfo": {
     "elapsed": 392,
     "status": "ok",
     "timestamp": 1619017207508,
     "user": {
      "displayName": "Kevin Hengehold",
      "photoUrl": "https://lh3.googleusercontent.com/a-/AOh14GiNt2EajN8cmNcY3jUV0m5P3ZObvv8s77fL5wlv=s64",
      "userId": "18305800173505984629"
     },
     "user_tz": 240
    },
    "id": "SzGdV242OHvl",
    "outputId": "d8c81395-c63f-4583-eeb4-ac56c54ba436"
   },
   "outputs": [
    {
     "data": {
      "application/vnd.google.colaboratory.intrinsic+json": {
       "type": "string"
      },
      "text/plain": [
       "'452'"
      ]
     },
     "execution_count": 154,
     "metadata": {
      "tags": []
     },
     "output_type": "execute_result"
    }
   ],
   "source": [
    "features_and_target.columns[6][:3]"
   ]
  },
  {
   "cell_type": "code",
   "execution_count": null,
   "metadata": {
    "id": "duY-NtwSOH5z"
   },
   "outputs": [],
   "source": [
    "zip_code_cols = [col for col in features_and_target.columns if col[:3] == '452']"
   ]
  },
  {
   "cell_type": "code",
   "execution_count": null,
   "metadata": {
    "id": "9hKB-2UZOke8"
   },
   "outputs": [],
   "source": [
    "features_and_target.drop(columns=zip_code_cols, inplace=True)"
   ]
  },
  {
   "cell_type": "markdown",
   "metadata": {
    "id": "BrnQlOwLvAea"
   },
   "source": [
    "# Split into train, val, test.  No over or under sampling"
   ]
  },
  {
   "cell_type": "code",
   "execution_count": null,
   "metadata": {
    "id": "maMWRzfSvFgu"
   },
   "outputs": [],
   "source": [
    "X = features_and_target.drop(columns=['proxy_election_turnout'])\n",
    "y = features_and_target['proxy_election_turnout']\n",
    "\n",
    "X_train, X_output, y_train, y_output = train_test_split(X, y, test_size=0.20, random_state=420)\n",
    "X_test, X_val, y_test, y_val = train_test_split(X_output, y_output, test_size=0.50, random_state=666)"
   ]
  },
  {
   "cell_type": "code",
   "execution_count": null,
   "metadata": {
    "id": "5mMOsPKevaUr"
   },
   "outputs": [],
   "source": [
    "X_train = X_train.copy()\n",
    "X_test = X_test.copy()\n",
    "X_val = X_val.copy()"
   ]
  },
  {
   "cell_type": "markdown",
   "metadata": {
    "id": "7AwVfVhGAE4V"
   },
   "source": [
    "# Impute missing census values"
   ]
  },
  {
   "cell_type": "code",
   "execution_count": null,
   "metadata": {
    "id": "GijA_nm7_0_R"
   },
   "outputs": [],
   "source": [
    "x_train_missing_indices = X_train.index[X_train['pct_under_30k'].isna()]\n",
    "\n",
    "X_train.loc[x_train_missing_indices, 'pct_under_30k'] = X_train['pct_under_30k'].mean()\n",
    "X_train.loc[x_train_missing_indices, 'pct_post_grad'] = X_train['pct_post_grad'].mean()\n",
    "X_train.loc[x_train_missing_indices, 'pct_renters'] = X_train['pct_renters'].mean()\n",
    "\n",
    "#repeat for x_val and x_test\n",
    "x_test_missing_indices = X_test.index[X_test['pct_under_30k'].isna()]\n",
    "\n",
    "X_test.loc[x_test_missing_indices, 'pct_under_30k'] = X_test['pct_under_30k'].mean()\n",
    "X_test.loc[x_test_missing_indices, 'pct_post_grad'] = X_test['pct_post_grad'].mean()\n",
    "X_test.loc[x_test_missing_indices, 'pct_renters'] = X_test['pct_renters'].mean()\n",
    "\n",
    "x_val_missing_indices = X_val.index[X_val['pct_under_30k'].isna()]\n",
    "\n",
    "X_val.loc[x_val_missing_indices, 'pct_under_30k'] = X_val['pct_under_30k'].mean()\n",
    "X_val.loc[x_val_missing_indices, 'pct_post_grad'] = X_val['pct_post_grad'].mean()\n",
    "X_val.loc[x_val_missing_indices, 'pct_renters'] = X_val['pct_renters'].mean()"
   ]
  },
  {
   "cell_type": "code",
   "execution_count": null,
   "metadata": {
    "id": "fhhr4CbV_1B8"
   },
   "outputs": [],
   "source": [
    "scaler_train = StandardScaler()\n",
    "\n",
    "scaler_train.fit(X_train)\n",
    "X_train_scale = scaler_train.transform(X_train)\n",
    "\n",
    "scaler_test = StandardScaler()\n",
    "\n",
    "scaler_test.fit(X_test)\n",
    "X_test_scale = scaler_test.transform(X_test)\n",
    "\n",
    "scaler_val = StandardScaler()\n",
    "\n",
    "scaler_val.fit(X_val)\n",
    "X_val_scale = scaler_val.transform(X_val)"
   ]
  },
  {
   "cell_type": "markdown",
   "metadata": {
    "id": "-4LC4AHzF_l-"
   },
   "source": [
    "# Full model build: one imptation, one scaling"
   ]
  },
  {
   "cell_type": "code",
   "execution_count": null,
   "metadata": {
    "id": "ECt9hyAPGDXe"
   },
   "outputs": [],
   "source": [
    "x_missing_indices = X.index[X['pct_under_30k'].isna()]\n",
    "\n",
    "X.loc[x_missing_indices, 'pct_under_30k'] = X['pct_under_30k'].mean()\n",
    "X.loc[x_missing_indices, 'pct_post_grad'] = X['pct_post_grad'].mean()\n",
    "X.loc[x_missing_indices, 'pct_renters'] = X['pct_renters'].mean()"
   ]
  },
  {
   "cell_type": "code",
   "execution_count": null,
   "metadata": {
    "id": "YBdNTBlfGDa6"
   },
   "outputs": [],
   "source": [
    "scaler = StandardScaler()\n",
    "\n",
    "scaler.fit(X)\n",
    "X_scale = scaler.transform(X)"
   ]
  },
  {
   "cell_type": "markdown",
   "metadata": {
    "id": "d4LIwjGZC2hw"
   },
   "source": [
    "# Tune Parameters"
   ]
  },
  {
   "cell_type": "code",
   "execution_count": null,
   "metadata": {
    "colab": {
     "base_uri": "https://localhost:8080/"
    },
    "executionInfo": {
     "elapsed": 286,
     "status": "ok",
     "timestamp": 1618963863506,
     "user": {
      "displayName": "Kevin Hengehold",
      "photoUrl": "",
      "userId": "11914732309930846664"
     },
     "user_tz": 240
    },
    "id": "WuFXINhlw_sQ",
    "outputId": "892ba235-c2f2-4f1a-b5a9-8da3cbb157e9"
   },
   "outputs": [
    {
     "data": {
      "text/plain": [
       "(147011, 60)"
      ]
     },
     "execution_count": 65,
     "metadata": {
      "tags": []
     },
     "output_type": "execute_result"
    }
   ],
   "source": [
    "X_train_scale.shape"
   ]
  },
  {
   "cell_type": "code",
   "execution_count": null,
   "metadata": {
    "id": "hJeRLWRSylrf"
   },
   "outputs": [],
   "source": [
    "  METRICS = [\n",
    "  #    TruePositives(name='tp'),\n",
    "  #    FalsePositives(name='fp'),\n",
    "  #    TrueNegatives(name='tn'),\n",
    "  #    FalseNegatives(name='fn'), \n",
    "      BinaryAccuracy(name='accuracy'),\n",
    "      Precision(name='precision'),\n",
    "      Recall(name='recall'),\n",
    "  #    AUC(name='auc'),\n",
    "  ]"
   ]
  },
  {
   "cell_type": "code",
   "execution_count": null,
   "metadata": {
    "id": "l6W0CP4Ew9Jv"
   },
   "outputs": [],
   "source": [
    "stop_early = EarlyStopping(monitor='val_loss', patience=10)"
   ]
  },
  {
   "cell_type": "code",
   "execution_count": null,
   "metadata": {
    "id": "g6tVEjqhGFNe"
   },
   "outputs": [],
   "source": [
    "\n"
   ]
  },
  {
   "cell_type": "code",
   "execution_count": null,
   "metadata": {
    "id": "c-xu8LRzpPJT"
   },
   "outputs": [],
   "source": [
    "def model_builder(hp):\n",
    "\n",
    "    model = Sequential()\n",
    "\n",
    "    # model.add(Input(shape=X_train_scale.shape[0]))\n",
    "\n",
    "    #hp_units_layer0 = hp.Int('units_layer_0', min_value=50, max_value=70, step=10)\n",
    "\n",
    "    #model.add(Dense(hp_units_layer0, activation='relu'))\n",
    "    #input_dim=X_train_scale.shape[0],\n",
    "\n",
    "    model.add(Dense(X_train_scale.shape[1], input_dim=X_train_scale.shape[1], activation='relu'))\n",
    "\n",
    "    hp_dropout_0 = hp.Choice('dropout_0', values = [0.0, 0.1, 0.2])\n",
    "    model.add(Dropout(hp_dropout_0))\n",
    "\n",
    "    hp_units_layer1 = hp.Int('units_layer1', min_value=20, max_value=80, step=20)\n",
    "    #  hp_activation_layer = hp.Choice('dense_activation', values=['relu', 'sigmoid'],default='relu') #'tanh'\n",
    "    model.add(Dense(hp_units_layer1, activation='relu'))\n",
    "\n",
    "    hp_dropout_1 = hp.Choice('dropout_1', values = [0.0, 0.1, 0.2])\n",
    "    model.add(Dropout(hp_dropout_1))\n",
    "    # hp_units_layer2 = hp.Int('units_layer2', min_value=5, max_value=35, step=5)\n",
    "    #  model.add(Dense(units=35, activation='relu'))\n",
    "\n",
    "    #  hp_dropout_2 = hp.Choice('dropout_2', values = [0.0, 0.1, 0.2, 0.3, 0.4])\n",
    "    #  model.add(Dropout(hp_dropout_2))\n",
    "    model.add(Dense(1, activation='sigmoid'))\n",
    "\n",
    "    # Tune the learning rate for the optimizer\n",
    "    # Choose an optimal value from 0.01, 0.001, or 0.0001\n",
    "    hp_learning_rate = hp.Choice('learning_rate', values=[1e-2, 1e-3, 1e-4])\n",
    "\n",
    "    model.compile(optimizer=Adam(learning_rate=hp_learning_rate),\n",
    "                loss='binary_crossentropy',\n",
    "                metrics=['accuracy'])\n",
    "\n",
    "    opt = Adam(learning_rate=hp_learning_rate)\n",
    "    model.compile(loss='binary_crossentropy', optimizer=opt, metrics=METRICS)\n",
    "\n",
    "    return model"
   ]
  },
  {
   "cell_type": "code",
   "execution_count": null,
   "metadata": {
    "id": "LULAw8ciAlC1"
   },
   "outputs": [],
   "source": [
    "tuner = kt.Hyperband(model_builder,\n",
    "                     objective='val_loss',\n",
    "                     max_epochs=20,\n",
    "                     factor=2,\n",
    "                     directory=os.path.join(gdrive_dir, \"My Drive\", \"Homeless Coalition\", 'trust fund campaign', \"neural network models\", \"turnout\", \"model tuning\"),\n",
    "                     project_name='library clasification tuning v2')\n"
   ]
  },
  {
   "cell_type": "code",
   "execution_count": null,
   "metadata": {
    "colab": {
     "base_uri": "https://localhost:8080/"
    },
    "executionInfo": {
     "elapsed": 3379688,
     "status": "ok",
     "timestamp": 1618969471489,
     "user": {
      "displayName": "Kevin Hengehold",
      "photoUrl": "",
      "userId": "11914732309930846664"
     },
     "user_tz": 240
    },
    "id": "t8B7S5YuAgi8",
    "outputId": "68123393-c53f-4fc7-e859-e11699cdf06d"
   },
   "outputs": [
    {
     "name": "stdout",
     "output_type": "stream",
     "text": [
      "Trial 92 Complete [00h 03m 11s]\n",
      "val_loss: 0.233735591173172\n",
      "\n",
      "Best val_loss So Far: 0.23142491281032562\n",
      "Total elapsed time: 01h 14m 37s\n",
      "INFO:tensorflow:Oracle triggered exit\n"
     ]
    }
   ],
   "source": [
    "\n",
    "tuner.search(X_train_scale, y_train, epochs=25, validation_data=(X_val_scale,y_val), callbacks=[stop_early])\n",
    "\n",
    "# Get the optimal hyperparameters\n",
    "best_hps=tuner.get_best_hyperparameters(num_trials=1)[0]\n"
   ]
  },
  {
   "cell_type": "code",
   "execution_count": null,
   "metadata": {
    "colab": {
     "base_uri": "https://localhost:8080/"
    },
    "executionInfo": {
     "elapsed": 260,
     "status": "ok",
     "timestamp": 1618969883221,
     "user": {
      "displayName": "Kevin Hengehold",
      "photoUrl": "",
      "userId": "11914732309930846664"
     },
     "user_tz": 240
    },
    "id": "udUtPzvrEU0Y",
    "outputId": "748babeb-af8f-4e20-ad79-27b29fe92625"
   },
   "outputs": [
    {
     "data": {
      "text/plain": [
       "{'dropout_0': 0.0,\n",
       " 'dropout_1': 0.1,\n",
       " 'learning_rate': 0.001,\n",
       " 'tuner/bracket': 3,\n",
       " 'tuner/epochs': 20,\n",
       " 'tuner/initial_epoch': 10,\n",
       " 'tuner/round': 3,\n",
       " 'tuner/trial_id': '6094ed9fa6c03a4f67e2c9d7b6124fb8',\n",
       " 'units_layer1': 60}"
      ]
     },
     "execution_count": 82,
     "metadata": {
      "tags": []
     },
     "output_type": "execute_result"
    }
   ],
   "source": [
    "best_hps.values"
   ]
  },
  {
   "cell_type": "code",
   "execution_count": null,
   "metadata": {
    "id": "wxb_dTyE8V7m"
   },
   "outputs": [],
   "source": []
  },
  {
   "cell_type": "markdown",
   "metadata": {
    "id": "jX8isauAOxS1"
   },
   "source": [
    "# Tuned turnout model\n",
    "Dropout 0: 0 \\\n",
    "layer 1 units: 60 \\\n",
    "Dropout 1: 0.1 \\\n",
    "Learning rate: .001\n"
   ]
  },
  {
   "cell_type": "markdown",
   "metadata": {
    "id": "jexV-beuC88K"
   },
   "source": [
    "# Build and run model"
   ]
  },
  {
   "cell_type": "code",
   "execution_count": null,
   "metadata": {
    "id": "f2if9Bm9O1Qb"
   },
   "outputs": [],
   "source": [
    "early_stopping = EarlyStopping(monitor='val_loss', patience=15)"
   ]
  },
  {
   "cell_type": "code",
   "execution_count": null,
   "metadata": {
    "id": "33aRj49OOnVY"
   },
   "outputs": [],
   "source": [
    "  METRICS = [\n",
    "  #    TruePositives(name='tp'),\n",
    "  #    FalsePositives(name='fp'),\n",
    "  #    TrueNegatives(name='tn'),\n",
    "  #    FalseNegatives(name='fn'), \n",
    "      BinaryAccuracy(name='accuracy'),\n",
    "      Precision(name='precision'),\n",
    "      Recall(name='recall'),\n",
    "  #    AUC(name='auc'),\n",
    "  ]\n"
   ]
  },
  {
   "cell_type": "code",
   "execution_count": null,
   "metadata": {
    "colab": {
     "base_uri": "https://localhost:8080/"
    },
    "executionInfo": {
     "elapsed": 640,
     "status": "ok",
     "timestamp": 1619035185557,
     "user": {
      "displayName": "Kevin Hengehold",
      "photoUrl": "https://lh3.googleusercontent.com/a-/AOh14GiNt2EajN8cmNcY3jUV0m5P3ZObvv8s77fL5wlv=s64",
      "userId": "18305800173505984629"
     },
     "user_tz": 240
    },
    "id": "TmOoFbRd_kqx",
    "outputId": "5f0c1be6-0a3b-4351-d394-56c7b3fdb948"
   },
   "outputs": [
    {
     "name": "stdout",
     "output_type": "stream",
     "text": [
      "Model: \"sequential_26\"\n",
      "_________________________________________________________________\n",
      "Layer (type)                 Output Shape              Param #   \n",
      "=================================================================\n",
      "dense_96 (Dense)             (None, 21)                462       \n",
      "_________________________________________________________________\n",
      "dropout_68 (Dropout)         (None, 21)                0         \n",
      "_________________________________________________________________\n",
      "dense_97 (Dense)             (None, 40)                880       \n",
      "_________________________________________________________________\n",
      "dropout_69 (Dropout)         (None, 40)                0         \n",
      "_________________________________________________________________\n",
      "dense_98 (Dense)             (None, 30)                1230      \n",
      "_________________________________________________________________\n",
      "dropout_70 (Dropout)         (None, 30)                0         \n",
      "_________________________________________________________________\n",
      "dense_99 (Dense)             (None, 1)                 31        \n",
      "=================================================================\n",
      "Total params: 2,603\n",
      "Trainable params: 2,603\n",
      "Non-trainable params: 0\n",
      "_________________________________________________________________\n"
     ]
    }
   ],
   "source": [
    "model = Sequential()\n",
    "model.add(Dense(X_train_scale.shape[1], input_dim=X_train_scale.shape[1], activation='relu'))\n",
    "model.add(Dropout(0.1))\n",
    "model.add(Dense(40, activation='relu'))\n",
    "model.add(Dropout(0.1))\n",
    "model.add(Dense(30, activation='relu'))\n",
    "model.add(Dropout(0.1))\n",
    "model.add(Dense(1, activation='sigmoid'))\n",
    "model.summary()"
   ]
  },
  {
   "cell_type": "code",
   "execution_count": null,
   "metadata": {
    "id": "yOC8EPDs_kxE"
   },
   "outputs": [],
   "source": [
    "opt = Adam(learning_rate=0.001)\n",
    "model.compile(loss='binary_crossentropy', optimizer=opt, metrics=METRICS)"
   ]
  },
  {
   "cell_type": "code",
   "execution_count": null,
   "metadata": {
    "colab": {
     "base_uri": "https://localhost:8080/"
    },
    "executionInfo": {
     "elapsed": 127078,
     "status": "ok",
     "timestamp": 1619035323736,
     "user": {
      "displayName": "Kevin Hengehold",
      "photoUrl": "https://lh3.googleusercontent.com/a-/AOh14GiNt2EajN8cmNcY3jUV0m5P3ZObvv8s77fL5wlv=s64",
      "userId": "18305800173505984629"
     },
     "user_tz": 240
    },
    "id": "fN8umSu6A7un",
    "outputId": "dca42f93-3eed-4601-865e-47b594df37a7"
   },
   "outputs": [
    {
     "name": "stdout",
     "output_type": "stream",
     "text": [
      "Epoch 1/60\n",
      "1149/1149 [==============================] - 5s 3ms/step - loss: 0.3178 - accuracy: 0.8591 - precision: 0.6330 - recall: 0.4267 - val_loss: 0.2458 - val_accuracy: 0.8832 - val_precision: 0.6852 - val_recall: 0.6165\n",
      "Epoch 2/60\n",
      "1149/1149 [==============================] - 3s 3ms/step - loss: 0.2528 - accuracy: 0.8816 - precision: 0.7016 - recall: 0.5856 - val_loss: 0.2406 - val_accuracy: 0.8853 - val_precision: 0.6974 - val_recall: 0.6099\n",
      "Epoch 3/60\n",
      "1149/1149 [==============================] - 3s 3ms/step - loss: 0.2441 - accuracy: 0.8853 - precision: 0.7063 - recall: 0.6078 - val_loss: 0.2381 - val_accuracy: 0.8848 - val_precision: 0.7195 - val_recall: 0.5615\n",
      "Epoch 4/60\n",
      "1149/1149 [==============================] - 3s 3ms/step - loss: 0.2439 - accuracy: 0.8840 - precision: 0.7102 - recall: 0.6008 - val_loss: 0.2358 - val_accuracy: 0.8868 - val_precision: 0.6999 - val_recall: 0.6199\n",
      "Epoch 5/60\n",
      "1149/1149 [==============================] - 3s 3ms/step - loss: 0.2410 - accuracy: 0.8847 - precision: 0.7053 - recall: 0.6073 - val_loss: 0.2344 - val_accuracy: 0.8884 - val_precision: 0.7033 - val_recall: 0.6286\n",
      "Epoch 6/60\n",
      "1149/1149 [==============================] - 3s 3ms/step - loss: 0.2378 - accuracy: 0.8890 - precision: 0.7165 - recall: 0.6232 - val_loss: 0.2335 - val_accuracy: 0.8881 - val_precision: 0.7034 - val_recall: 0.6245\n",
      "Epoch 7/60\n",
      "1149/1149 [==============================] - 3s 2ms/step - loss: 0.2368 - accuracy: 0.8883 - precision: 0.7150 - recall: 0.6208 - val_loss: 0.2340 - val_accuracy: 0.8873 - val_precision: 0.7181 - val_recall: 0.5870\n",
      "Epoch 8/60\n",
      "1149/1149 [==============================] - 3s 3ms/step - loss: 0.2382 - accuracy: 0.8869 - precision: 0.7094 - recall: 0.6189 - val_loss: 0.2327 - val_accuracy: 0.8886 - val_precision: 0.7097 - val_recall: 0.6165\n",
      "Epoch 9/60\n",
      "1149/1149 [==============================] - 3s 3ms/step - loss: 0.2390 - accuracy: 0.8862 - precision: 0.7086 - recall: 0.6214 - val_loss: 0.2337 - val_accuracy: 0.8878 - val_precision: 0.7116 - val_recall: 0.6047\n",
      "Epoch 10/60\n",
      "1149/1149 [==============================] - 3s 3ms/step - loss: 0.2334 - accuracy: 0.8894 - precision: 0.7147 - recall: 0.6309 - val_loss: 0.2335 - val_accuracy: 0.8886 - val_precision: 0.7103 - val_recall: 0.6152\n",
      "Epoch 11/60\n",
      "1149/1149 [==============================] - 3s 3ms/step - loss: 0.2368 - accuracy: 0.8868 - precision: 0.7070 - recall: 0.6309 - val_loss: 0.2319 - val_accuracy: 0.8885 - val_precision: 0.7182 - val_recall: 0.5984\n",
      "Epoch 12/60\n",
      "1149/1149 [==============================] - 3s 3ms/step - loss: 0.2370 - accuracy: 0.8869 - precision: 0.7114 - recall: 0.6257 - val_loss: 0.2337 - val_accuracy: 0.8880 - val_precision: 0.7421 - val_recall: 0.5531\n",
      "Epoch 13/60\n",
      "1149/1149 [==============================] - 3s 3ms/step - loss: 0.2364 - accuracy: 0.8881 - precision: 0.7167 - recall: 0.6178 - val_loss: 0.2317 - val_accuracy: 0.8887 - val_precision: 0.7226 - val_recall: 0.5922\n",
      "Epoch 14/60\n",
      "1149/1149 [==============================] - 3s 3ms/step - loss: 0.2355 - accuracy: 0.8897 - precision: 0.7169 - recall: 0.6304 - val_loss: 0.2312 - val_accuracy: 0.8888 - val_precision: 0.7015 - val_recall: 0.6357\n",
      "Epoch 15/60\n",
      "1149/1149 [==============================] - 3s 3ms/step - loss: 0.2333 - accuracy: 0.8898 - precision: 0.7110 - recall: 0.6326 - val_loss: 0.2330 - val_accuracy: 0.8892 - val_precision: 0.6926 - val_recall: 0.6606\n",
      "Epoch 16/60\n",
      "1149/1149 [==============================] - 3s 3ms/step - loss: 0.2345 - accuracy: 0.8886 - precision: 0.7155 - recall: 0.6252 - val_loss: 0.2308 - val_accuracy: 0.8886 - val_precision: 0.7082 - val_recall: 0.6196\n",
      "Epoch 17/60\n",
      "1149/1149 [==============================] - 3s 3ms/step - loss: 0.2332 - accuracy: 0.8895 - precision: 0.7178 - recall: 0.6308 - val_loss: 0.2318 - val_accuracy: 0.8900 - val_precision: 0.7050 - val_recall: 0.6404\n",
      "Epoch 18/60\n",
      "1149/1149 [==============================] - 3s 3ms/step - loss: 0.2358 - accuracy: 0.8882 - precision: 0.7126 - recall: 0.6335 - val_loss: 0.2310 - val_accuracy: 0.8887 - val_precision: 0.7071 - val_recall: 0.6224\n",
      "Epoch 19/60\n",
      "1149/1149 [==============================] - 3s 3ms/step - loss: 0.2351 - accuracy: 0.8880 - precision: 0.7158 - recall: 0.6340 - val_loss: 0.2330 - val_accuracy: 0.8871 - val_precision: 0.7368 - val_recall: 0.5537\n",
      "Epoch 20/60\n",
      "1149/1149 [==============================] - 3s 3ms/step - loss: 0.2341 - accuracy: 0.8897 - precision: 0.7156 - recall: 0.6299 - val_loss: 0.2304 - val_accuracy: 0.8888 - val_precision: 0.7163 - val_recall: 0.6047\n",
      "Epoch 21/60\n",
      "1149/1149 [==============================] - 3s 3ms/step - loss: 0.2344 - accuracy: 0.8890 - precision: 0.7202 - recall: 0.6312 - val_loss: 0.2314 - val_accuracy: 0.8889 - val_precision: 0.7257 - val_recall: 0.5882\n",
      "Epoch 22/60\n",
      "1149/1149 [==============================] - 3s 3ms/step - loss: 0.2324 - accuracy: 0.8898 - precision: 0.7185 - recall: 0.6280 - val_loss: 0.2304 - val_accuracy: 0.8877 - val_precision: 0.7096 - val_recall: 0.6078\n",
      "Epoch 23/60\n",
      "1149/1149 [==============================] - 3s 3ms/step - loss: 0.2327 - accuracy: 0.8905 - precision: 0.7135 - recall: 0.6337 - val_loss: 0.2301 - val_accuracy: 0.8888 - val_precision: 0.7142 - val_recall: 0.6093\n",
      "Epoch 24/60\n",
      "1149/1149 [==============================] - 3s 3ms/step - loss: 0.2352 - accuracy: 0.8879 - precision: 0.7170 - recall: 0.6220 - val_loss: 0.2290 - val_accuracy: 0.8888 - val_precision: 0.7103 - val_recall: 0.6168\n",
      "Epoch 25/60\n",
      "1149/1149 [==============================] - 3s 3ms/step - loss: 0.2320 - accuracy: 0.8902 - precision: 0.7216 - recall: 0.6302 - val_loss: 0.2303 - val_accuracy: 0.8884 - val_precision: 0.7245 - val_recall: 0.5857\n",
      "Epoch 26/60\n",
      "1149/1149 [==============================] - 3s 3ms/step - loss: 0.2355 - accuracy: 0.8882 - precision: 0.7174 - recall: 0.6283 - val_loss: 0.2300 - val_accuracy: 0.8901 - val_precision: 0.7262 - val_recall: 0.5981\n",
      "Epoch 27/60\n",
      "1149/1149 [==============================] - 3s 3ms/step - loss: 0.2332 - accuracy: 0.8881 - precision: 0.7100 - recall: 0.6287 - val_loss: 0.2300 - val_accuracy: 0.8887 - val_precision: 0.7342 - val_recall: 0.5714\n",
      "Epoch 28/60\n",
      "1149/1149 [==============================] - 3s 3ms/step - loss: 0.2320 - accuracy: 0.8904 - precision: 0.7213 - recall: 0.6294 - val_loss: 0.2306 - val_accuracy: 0.8881 - val_precision: 0.7103 - val_recall: 0.6106\n",
      "Epoch 29/60\n",
      "1149/1149 [==============================] - 3s 3ms/step - loss: 0.2346 - accuracy: 0.8892 - precision: 0.7198 - recall: 0.6223 - val_loss: 0.2295 - val_accuracy: 0.8897 - val_precision: 0.7151 - val_recall: 0.6158\n",
      "Epoch 30/60\n",
      "1149/1149 [==============================] - 3s 3ms/step - loss: 0.2344 - accuracy: 0.8890 - precision: 0.7121 - recall: 0.6437 - val_loss: 0.2300 - val_accuracy: 0.8888 - val_precision: 0.7262 - val_recall: 0.5863\n",
      "Epoch 31/60\n",
      "1149/1149 [==============================] - 3s 3ms/step - loss: 0.2328 - accuracy: 0.8894 - precision: 0.7115 - recall: 0.6308 - val_loss: 0.2300 - val_accuracy: 0.8885 - val_precision: 0.7299 - val_recall: 0.5773\n",
      "Epoch 32/60\n",
      "1149/1149 [==============================] - 3s 3ms/step - loss: 0.2323 - accuracy: 0.8899 - precision: 0.7170 - recall: 0.6347 - val_loss: 0.2292 - val_accuracy: 0.8896 - val_precision: 0.7263 - val_recall: 0.5935\n",
      "Epoch 33/60\n",
      "1149/1149 [==============================] - 3s 3ms/step - loss: 0.2311 - accuracy: 0.8906 - precision: 0.7159 - recall: 0.6313 - val_loss: 0.2304 - val_accuracy: 0.8890 - val_precision: 0.7331 - val_recall: 0.5767\n",
      "Epoch 34/60\n",
      "1149/1149 [==============================] - 4s 3ms/step - loss: 0.2301 - accuracy: 0.8915 - precision: 0.7239 - recall: 0.6297 - val_loss: 0.2300 - val_accuracy: 0.8893 - val_precision: 0.7297 - val_recall: 0.5851\n",
      "Epoch 35/60\n",
      "1149/1149 [==============================] - 4s 3ms/step - loss: 0.2331 - accuracy: 0.8891 - precision: 0.7120 - recall: 0.6250 - val_loss: 0.2291 - val_accuracy: 0.8898 - val_precision: 0.7189 - val_recall: 0.6093\n",
      "Epoch 36/60\n",
      "1149/1149 [==============================] - 4s 3ms/step - loss: 0.2314 - accuracy: 0.8898 - precision: 0.7134 - recall: 0.6352 - val_loss: 0.2303 - val_accuracy: 0.8893 - val_precision: 0.7245 - val_recall: 0.5938\n",
      "Epoch 37/60\n",
      "1149/1149 [==============================] - 3s 3ms/step - loss: 0.2322 - accuracy: 0.8893 - precision: 0.7131 - recall: 0.6310 - val_loss: 0.2302 - val_accuracy: 0.8889 - val_precision: 0.7307 - val_recall: 0.5798\n",
      "Epoch 38/60\n",
      "1149/1149 [==============================] - 3s 3ms/step - loss: 0.2332 - accuracy: 0.8891 - precision: 0.7167 - recall: 0.6381 - val_loss: 0.2301 - val_accuracy: 0.8894 - val_precision: 0.7146 - val_recall: 0.6143\n",
      "Epoch 39/60\n",
      "1149/1149 [==============================] - 3s 3ms/step - loss: 0.2345 - accuracy: 0.8893 - precision: 0.7180 - recall: 0.6284 - val_loss: 0.2307 - val_accuracy: 0.8895 - val_precision: 0.7274 - val_recall: 0.5910\n"
     ]
    }
   ],
   "source": [
    "batch_size = 128\n",
    "epochs = 60\n",
    "\n",
    "t0 = datetime.now()\n",
    "history = model.fit(X_train_scale, y_train, epochs=epochs, batch_size=batch_size, validation_data=(X_val_scale,y_val), callbacks=[early_stopping]) \n",
    "#class_weight=class_weight \n",
    "\n",
    "#production build\n",
    "#history = model.fit(X_scale, y, epochs=epochs, batch_size=batch_size)"
   ]
  },
  {
   "cell_type": "code",
   "execution_count": null,
   "metadata": {
    "id": "HA340FXyBU0M"
   },
   "outputs": [],
   "source": [
    "model_name = \"library turnout score prediction.h5\"\n",
    "model_output_dir = os.path.join(gdrive_dir, \"My Drive\", \"Homeless Coalition\", 'trust fund campaign', \"neural network models\", \"turnout\")\n",
    "model.save(os.path.join(model_output_dir, model_name))"
   ]
  },
  {
   "cell_type": "code",
   "execution_count": null,
   "metadata": {
    "colab": {
     "base_uri": "https://localhost:8080/"
    },
    "executionInfo": {
     "elapsed": 185074,
     "status": "ok",
     "timestamp": 1619028787533,
     "user": {
      "displayName": "Kevin Hengehold",
      "photoUrl": "https://lh3.googleusercontent.com/a-/AOh14GiNt2EajN8cmNcY3jUV0m5P3ZObvv8s77fL5wlv=s64",
      "userId": "18305800173505984629"
     },
     "user_tz": 240
    },
    "id": "HdPJI7DUBU36",
    "outputId": "b9a63b09-37c0-43a5-8355-9853e1bdd152"
   },
   "outputs": [
    {
     "name": "stdout",
     "output_type": "stream",
     "text": [
      "Time elapsed:  0:03:07.744979\n"
     ]
    }
   ],
   "source": [
    "t1 = datetime.now()\n",
    "print(\"Time elapsed: \", t1-t0)\n",
    "#print(t1)"
   ]
  },
  {
   "cell_type": "code",
   "execution_count": null,
   "metadata": {
    "colab": {
     "base_uri": "https://localhost:8080/"
    },
    "executionInfo": {
     "elapsed": 1329,
     "status": "ok",
     "timestamp": 1619026436396,
     "user": {
      "displayName": "Kevin Hengehold",
      "photoUrl": "https://lh3.googleusercontent.com/a-/AOh14GiNt2EajN8cmNcY3jUV0m5P3ZObvv8s77fL5wlv=s64",
      "userId": "18305800173505984629"
     },
     "user_tz": 240
    },
    "id": "zXRcaKh4A8BI",
    "outputId": "2bbf0e2c-8f67-49b2-a1cf-a448fe05cceb"
   },
   "outputs": [
    {
     "name": "stdout",
     "output_type": "stream",
     "text": [
      "dict_keys(['loss', 'accuracy', 'precision', 'recall', 'val_loss', 'val_accuracy', 'val_precision', 'val_recall'])\n"
     ]
    }
   ],
   "source": [
    "print(history.history.keys())"
   ]
  },
  {
   "cell_type": "code",
   "execution_count": null,
   "metadata": {
    "colab": {
     "base_uri": "https://localhost:8080/",
     "height": 295
    },
    "executionInfo": {
     "elapsed": 941,
     "status": "ok",
     "timestamp": 1619035340597,
     "user": {
      "displayName": "Kevin Hengehold",
      "photoUrl": "https://lh3.googleusercontent.com/a-/AOh14GiNt2EajN8cmNcY3jUV0m5P3ZObvv8s77fL5wlv=s64",
      "userId": "18305800173505984629"
     },
     "user_tz": 240
    },
    "id": "sTyRdxRxAgmM",
    "outputId": "5b72b80c-807e-4ac8-861f-69e3dd202045"
   },
   "outputs": [
    {
     "data": {
      "image/png": "[encoded data removed]",
      "text/plain": [
       "<Figure size 432x288 with 1 Axes>"
      ]
     },
     "metadata": {
      "needs_background": "light",
      "tags": []
     },
     "output_type": "display_data"
    }
   ],
   "source": [
    "# summarize history for accuracy\n",
    "plt.plot(history.history['accuracy'])\n",
    "plt.plot(history.history['val_accuracy'])\n",
    "plt.title('model accuracy')\n",
    "plt.ylabel('accuracy')\n",
    "plt.xlabel('epoch')\n",
    "plt.legend(['train', 'test'], loc='upper left')\n",
    "plt.show()"
   ]
  },
  {
   "cell_type": "code",
   "execution_count": null,
   "metadata": {
    "colab": {
     "base_uri": "https://localhost:8080/",
     "height": 295
    },
    "executionInfo": {
     "elapsed": 698,
     "status": "ok",
     "timestamp": 1619035346398,
     "user": {
      "displayName": "Kevin Hengehold",
      "photoUrl": "https://lh3.googleusercontent.com/a-/AOh14GiNt2EajN8cmNcY3jUV0m5P3ZObvv8s77fL5wlv=s64",
      "userId": "18305800173505984629"
     },
     "user_tz": 240
    },
    "id": "i41Rn7koAgpW",
    "outputId": "9fe9cde4-d567-455d-e10e-9727b5634953"
   },
   "outputs": [
    {
     "data": {
      "image/png": "[encoded data removed]",
      "text/plain": [
       "<Figure size 432x288 with 1 Axes>"
      ]
     },
     "metadata": {
      "needs_background": "light",
      "tags": []
     },
     "output_type": "display_data"
    }
   ],
   "source": [
    "# summarize history for loss\n",
    "plt.plot(history.history['loss'])\n",
    "plt.plot(history.history['val_loss'])\n",
    "plt.title('model loss')\n",
    "plt.ylabel('loss')\n",
    "plt.xlabel('epoch')\n",
    "plt.legend(['train', 'test'], loc='upper left')\n",
    "plt.show()"
   ]
  },
  {
   "cell_type": "code",
   "execution_count": null,
   "metadata": {
    "id": "ImU1JBFhAgso"
   },
   "outputs": [],
   "source": [
    "#y_pred = model.predict(X_test_scale)\n",
    "y_pred = model.predict(X_test_scale)"
   ]
  },
  {
   "cell_type": "code",
   "execution_count": null,
   "metadata": {
    "id": "ExkusP_mAgv_"
   },
   "outputs": [],
   "source": [
    "y_pred_binary = np.where(y_pred >= .5, 1, 0) "
   ]
  },
  {
   "cell_type": "code",
   "execution_count": null,
   "metadata": {
    "colab": {
     "base_uri": "https://localhost:8080/"
    },
    "executionInfo": {
     "elapsed": 586,
     "status": "ok",
     "timestamp": 1619035354619,
     "user": {
      "displayName": "Kevin Hengehold",
      "photoUrl": "https://lh3.googleusercontent.com/a-/AOh14GiNt2EajN8cmNcY3jUV0m5P3ZObvv8s77fL5wlv=s64",
      "userId": "18305800173505984629"
     },
     "user_tz": 240
    },
    "id": "nrmSvJYIWmba",
    "outputId": "976f1a5a-fecc-4432-81ad-3c27b869a76a"
   },
   "outputs": [
    {
     "name": "stdout",
     "output_type": "stream",
     "text": [
      "Recall:  0.5879381601102097\n",
      "Precision:  0.7339957959105675\n",
      "F1:  0.652898181200068\n",
      "Accuracy:  0.8888798193344761\n"
     ]
    }
   ],
   "source": [
    "#production model\n",
    "print(\"Recall: \", recall_score(y_test, y_pred_binary))\n",
    "print(\"Precision: \", precision_score(y_test, y_pred_binary))\n",
    "print('F1: ', f1_score(y_test, y_pred_binary))\n",
    "print(\"Accuracy: \", accuracy_score(y_test, y_pred_binary))"
   ]
  },
  {
   "cell_type": "code",
   "execution_count": null,
   "metadata": {
    "colab": {
     "base_uri": "https://localhost:8080/"
    },
    "executionInfo": {
     "elapsed": 64338,
     "status": "ok",
     "timestamp": 1619028372273,
     "user": {
      "displayName": "Kevin Hengehold",
      "photoUrl": "https://lh3.googleusercontent.com/a-/AOh14GiNt2EajN8cmNcY3jUV0m5P3ZObvv8s77fL5wlv=s64",
      "userId": "18305800173505984629"
     },
     "user_tz": 240
    },
    "id": "XUQVswqLmtDb",
    "outputId": "f008c452-3f23-4aa1-a7f1-d8cb133fa730"
   },
   "outputs": [
    {
     "name": "stdout",
     "output_type": "stream",
     "text": [
      "Epoch 1/20\n",
      "1149/1149 [==============================] - 3s 3ms/step - loss: 0.2328 - accuracy: 0.8902 - precision: 0.7185 - recall: 0.6343 - val_loss: 0.2310 - val_accuracy: 0.8875 - val_precision: 0.7262 - val_recall: 0.5748\n",
      "Epoch 2/20\n",
      "1149/1149 [==============================] - 3s 3ms/step - loss: 0.2327 - accuracy: 0.8896 - precision: 0.7166 - recall: 0.6324 - val_loss: 0.2304 - val_accuracy: 0.8881 - val_precision: 0.7244 - val_recall: 0.5835\n",
      "Epoch 3/20\n",
      "1149/1149 [==============================] - 3s 3ms/step - loss: 0.2325 - accuracy: 0.8895 - precision: 0.7152 - recall: 0.6348 - val_loss: 0.2309 - val_accuracy: 0.8888 - val_precision: 0.7320 - val_recall: 0.5767\n",
      "Epoch 4/20\n",
      "1149/1149 [==============================] - 3s 3ms/step - loss: 0.2326 - accuracy: 0.8894 - precision: 0.7154 - recall: 0.6330 - val_loss: 0.2302 - val_accuracy: 0.8884 - val_precision: 0.7213 - val_recall: 0.5922\n",
      "Epoch 5/20\n",
      "1149/1149 [==============================] - 3s 3ms/step - loss: 0.2326 - accuracy: 0.8897 - precision: 0.7166 - recall: 0.6330 - val_loss: 0.2304 - val_accuracy: 0.8892 - val_precision: 0.7188 - val_recall: 0.6040\n",
      "Epoch 6/20\n",
      "1149/1149 [==============================] - 3s 3ms/step - loss: 0.2327 - accuracy: 0.8898 - precision: 0.7155 - recall: 0.6370 - val_loss: 0.2312 - val_accuracy: 0.8869 - val_precision: 0.7376 - val_recall: 0.5500\n",
      "Epoch 7/20\n",
      "1149/1149 [==============================] - 3s 3ms/step - loss: 0.2324 - accuracy: 0.8893 - precision: 0.7165 - recall: 0.6304 - val_loss: 0.2303 - val_accuracy: 0.8902 - val_precision: 0.7135 - val_recall: 0.6242\n",
      "Epoch 8/20\n",
      "1149/1149 [==============================] - 3s 3ms/step - loss: 0.2320 - accuracy: 0.8905 - precision: 0.7190 - recall: 0.6362 - val_loss: 0.2303 - val_accuracy: 0.8897 - val_precision: 0.7227 - val_recall: 0.6012\n",
      "Epoch 9/20\n",
      "1149/1149 [==============================] - 3s 3ms/step - loss: 0.2322 - accuracy: 0.8898 - precision: 0.7163 - recall: 0.6350 - val_loss: 0.2302 - val_accuracy: 0.8895 - val_precision: 0.7227 - val_recall: 0.5997\n",
      "Epoch 10/20\n",
      "1149/1149 [==============================] - 3s 3ms/step - loss: 0.2329 - accuracy: 0.8898 - precision: 0.7166 - recall: 0.6342 - val_loss: 0.2298 - val_accuracy: 0.8888 - val_precision: 0.7137 - val_recall: 0.6099\n",
      "Epoch 11/20\n",
      "1149/1149 [==============================] - 3s 3ms/step - loss: 0.2317 - accuracy: 0.8900 - precision: 0.7155 - recall: 0.6389 - val_loss: 0.2309 - val_accuracy: 0.8894 - val_precision: 0.7186 - val_recall: 0.6059\n",
      "Epoch 12/20\n",
      "1149/1149 [==============================] - 3s 3ms/step - loss: 0.2328 - accuracy: 0.8896 - precision: 0.7145 - recall: 0.6366 - val_loss: 0.2302 - val_accuracy: 0.8881 - val_precision: 0.7288 - val_recall: 0.5752\n",
      "Epoch 13/20\n",
      "1149/1149 [==============================] - 3s 3ms/step - loss: 0.2322 - accuracy: 0.8898 - precision: 0.7161 - recall: 0.6350 - val_loss: 0.2308 - val_accuracy: 0.8885 - val_precision: 0.7107 - val_recall: 0.6134\n",
      "Epoch 14/20\n",
      "1149/1149 [==============================] - 3s 3ms/step - loss: 0.2325 - accuracy: 0.8898 - precision: 0.7133 - recall: 0.6413 - val_loss: 0.2318 - val_accuracy: 0.8883 - val_precision: 0.7330 - val_recall: 0.5705\n",
      "Epoch 15/20\n",
      "1149/1149 [==============================] - 3s 3ms/step - loss: 0.2319 - accuracy: 0.8903 - precision: 0.7173 - recall: 0.6373 - val_loss: 0.2311 - val_accuracy: 0.8881 - val_precision: 0.7245 - val_recall: 0.5832\n",
      "Epoch 16/20\n",
      "1149/1149 [==============================] - 3s 3ms/step - loss: 0.2324 - accuracy: 0.8903 - precision: 0.7170 - recall: 0.6382 - val_loss: 0.2305 - val_accuracy: 0.8906 - val_precision: 0.7218 - val_recall: 0.6109\n",
      "Epoch 17/20\n",
      "1149/1149 [==============================] - 3s 3ms/step - loss: 0.2322 - accuracy: 0.8897 - precision: 0.7165 - recall: 0.6339 - val_loss: 0.2304 - val_accuracy: 0.8906 - val_precision: 0.7178 - val_recall: 0.6186\n",
      "Epoch 18/20\n",
      "1149/1149 [==============================] - 3s 3ms/step - loss: 0.2323 - accuracy: 0.8898 - precision: 0.7157 - recall: 0.6363 - val_loss: 0.2299 - val_accuracy: 0.8899 - val_precision: 0.7219 - val_recall: 0.6047\n",
      "Epoch 19/20\n",
      "1149/1149 [==============================] - 3s 3ms/step - loss: 0.2321 - accuracy: 0.8898 - precision: 0.7130 - recall: 0.6416 - val_loss: 0.2319 - val_accuracy: 0.8886 - val_precision: 0.7293 - val_recall: 0.5789\n",
      "Epoch 20/20\n",
      "1149/1149 [==============================] - 3s 3ms/step - loss: 0.2319 - accuracy: 0.8904 - precision: 0.7162 - recall: 0.6407 - val_loss: 0.2301 - val_accuracy: 0.8893 - val_precision: 0.7222 - val_recall: 0.5981\n"
     ]
    }
   ],
   "source": [
    "#train longer:\n",
    "batch_size = 128\n",
    "epochs = 20\n",
    "\n",
    "#t0 = datetime.now()\n",
    "history = model.fit(X_train_scale, y_train, epochs=epochs, batch_size=batch_size, validation_data=(X_val_scale,y_val)) \n",
    "#class_weight=class_weight "
   ]
  },
  {
   "cell_type": "code",
   "execution_count": null,
   "metadata": {},
   "outputs": [],
   "source": []
  },
  {
   "cell_type": "code",
   "execution_count": null,
   "metadata": {
    "colab": {
     "base_uri": "https://localhost:8080/"
    },
    "executionInfo": {
     "elapsed": 3965,
     "status": "ok",
     "timestamp": 1617665246959,
     "user": {
      "displayName": "Kevin Hengehold",
      "photoUrl": "",
      "userId": "11914732309930846664"
     },
     "user_tz": 240
    },
    "id": "TlAoVZqEPR6t",
    "outputId": "8fd51446-d1ad-463e-f8c2-dc2abbbef49d"
   },
   "outputs": [
    {
     "name": "stdout",
     "output_type": "stream",
     "text": [
      "Recall:  0.7876050795922017\n",
      "Precision:  0.767444393612618\n",
      "F1:  0.7773940483940374\n",
      "Accuracy:  0.9027490564127778\n"
     ]
    }
   ],
   "source": [
    "# production model stats\n",
    "y_pred = model.predict(X_scale)\n",
    "y_pred_binary = np.where(y_pred >= .5, 1, 0) \n",
    "\n",
    "print(\"Recall: \", recall_score(y, y_pred_binary))\n",
    "print(\"Precision: \", precision_score(y, y_pred_binary))\n",
    "print('F1: ', f1_score(y, y_pred_binary))\n",
    "print(\"Accuracy: \", accuracy_score(y, y_pred_binary))"
   ]
  },
  {
   "cell_type": "code",
   "execution_count": null,
   "metadata": {
    "colab": {
     "base_uri": "https://localhost:8080/"
    },
    "executionInfo": {
     "elapsed": 546,
     "status": "ok",
     "timestamp": 1617646581457,
     "user": {
      "displayName": "Kevin Hengehold",
      "photoUrl": "https://lh3.googleusercontent.com/a-/AOh14GiNt2EajN8cmNcY3jUV0m5P3ZObvv8s77fL5wlv=s64",
      "userId": "18305800173505984629"
     },
     "user_tz": 240
    },
    "id": "br4vB24DBvzt",
    "outputId": "0cae6479-4253-48d9-e1ef-e77cb7e94724"
   },
   "outputs": [
    {
     "name": "stdout",
     "output_type": "stream",
     "text": [
      "Model: \"sequential\"\n",
      "_________________________________________________________________\n",
      "Layer (type)                 Output Shape              Param #   \n",
      "=================================================================\n",
      "dense (Dense)                (None, 21)                462       \n",
      "_________________________________________________________________\n",
      "dense_1 (Dense)              (None, 20)                440       \n",
      "_________________________________________________________________\n",
      "dropout (Dropout)            (None, 20)                0         \n",
      "_________________________________________________________________\n",
      "dense_2 (Dense)              (None, 35)                735       \n",
      "_________________________________________________________________\n",
      "dropout_1 (Dropout)          (None, 35)                0         \n",
      "_________________________________________________________________\n",
      "dense_3 (Dense)              (None, 1)                 36        \n",
      "=================================================================\n",
      "Total params: 1,673\n",
      "Trainable params: 1,673\n",
      "Non-trainable params: 0\n",
      "_________________________________________________________________\n"
     ]
    }
   ],
   "source": [
    "model.summary()"
   ]
  },
  {
   "cell_type": "code",
   "execution_count": null,
   "metadata": {
    "id": "D85Y5JEYBv3K"
   },
   "outputs": [],
   "source": [
    "model_num = 1"
   ]
  },
  {
   "cell_type": "code",
   "execution_count": null,
   "metadata": {
    "id": "F5rOtRDCBv5_"
   },
   "outputs": [],
   "source": [
    "#model_name = \"turnout_score_issue_7_v\" + str(model_num) + \".h5\"\n",
    "model_name = \"turnout_score_issue_7_production\" + str(model_num) + \".h5\"\n",
    "model_output_dir = os.path.join(gdrive_dir, \"My Drive\", \"Homeless Coalition\", 'trust fund campaign', \"neural network models\", \"turnout\")\n",
    "model.save(os.path.join(model_output_dir, model_name))"
   ]
  },
  {
   "cell_type": "code",
   "execution_count": null,
   "metadata": {
    "colab": {
     "base_uri": "https://localhost:8080/",
     "height": 36
    },
    "executionInfo": {
     "elapsed": 318,
     "status": "ok",
     "timestamp": 1617408637417,
     "user": {
      "displayName": "Kevin Hengehold",
      "photoUrl": "https://lh3.googleusercontent.com/a-/AOh14GiNt2EajN8cmNcY3jUV0m5P3ZObvv8s77fL5wlv=s64",
      "userId": "18305800173505984629"
     },
     "user_tz": 240
    },
    "id": "-frVoNhsBv-N",
    "outputId": "67d883dc-67f8-4f39-ab93-c9ba0ad114fb"
   },
   "outputs": [
    {
     "data": {
      "application/vnd.google.colaboratory.intrinsic+json": {
       "type": "string"
      },
      "text/plain": [
       "'turnout_score_issue_7_v1.h5'"
      ]
     },
     "execution_count": 70,
     "metadata": {
      "tags": []
     },
     "output_type": "execute_result"
    }
   ],
   "source": [
    "model_name"
   ]
  },
  {
   "cell_type": "markdown",
   "metadata": {
    "id": "EpiYVQn_flQB"
   },
   "source": [
    "# Reload Model"
   ]
  },
  {
   "cell_type": "code",
   "execution_count": null,
   "metadata": {
    "id": "rfMnL4lUBwB3"
   },
   "outputs": [],
   "source": [
    "model_name = \"library turnout score prediction.h5\"\n",
    "model_output_dir = os.path.join(gdrive_dir, \"My Drive\", \"Homeless Coalition\", 'trust fund campaign', \"neural network models\", \"turnout\")\n",
    "\n",
    "model = load_model(os.path.join(model_output_dir, model_name))"
   ]
  },
  {
   "cell_type": "code",
   "execution_count": null,
   "metadata": {
    "id": "HPjiprzMfnW7"
   },
   "outputs": [],
   "source": [
    "y = model.predict(X_scale)"
   ]
  },
  {
   "cell_type": "code",
   "execution_count": null,
   "metadata": {
    "colab": {
     "base_uri": "https://localhost:8080/"
    },
    "executionInfo": {
     "elapsed": 332,
     "status": "ok",
     "timestamp": 1617668049970,
     "user": {
      "displayName": "Kevin Hengehold",
      "photoUrl": "",
      "userId": "11914732309930846664"
     },
     "user_tz": 240
    },
    "id": "5yAKfAkZfnaE",
    "outputId": "6a1c1563-1c9b-40c8-f781-7cd44b989bc4"
   },
   "outputs": [
    {
     "data": {
      "text/plain": [
       "(223404, 130)"
      ]
     },
     "execution_count": 38,
     "metadata": {
      "tags": []
     },
     "output_type": "execute_result"
    }
   ],
   "source": [
    "voter_file.shape"
   ]
  },
  {
   "cell_type": "code",
   "execution_count": null,
   "metadata": {
    "colab": {
     "base_uri": "https://localhost:8080/"
    },
    "executionInfo": {
     "elapsed": 489,
     "status": "ok",
     "timestamp": 1619049522142,
     "user": {
      "displayName": "Kevin Hengehold",
      "photoUrl": "https://lh3.googleusercontent.com/a-/AOh14GiNt2EajN8cmNcY3jUV0m5P3ZObvv8s77fL5wlv=s64",
      "userId": "18305800173505984629"
     },
     "user_tz": 240
    },
    "id": "tiZrP0wffndG",
    "outputId": "31c8c2a1-6372-42f7-ca23-a4acfa87c068"
   },
   "outputs": [
    {
     "data": {
      "text/plain": [
       "(223404, 21)"
      ]
     },
     "execution_count": 35,
     "metadata": {
      "tags": []
     },
     "output_type": "execute_result"
    }
   ],
   "source": [
    "X_scale.shape"
   ]
  },
  {
   "cell_type": "code",
   "execution_count": null,
   "metadata": {
    "id": "LWJVeiuafnfL"
   },
   "outputs": [],
   "source": [
    "voter_file['turnout_score'] = y"
   ]
  },
  {
   "cell_type": "code",
   "execution_count": null,
   "metadata": {
    "colab": {
     "base_uri": "https://localhost:8080/",
     "height": 282
    },
    "executionInfo": {
     "elapsed": 690,
     "status": "ok",
     "timestamp": 1619049534408,
     "user": {
      "displayName": "Kevin Hengehold",
      "photoUrl": "https://lh3.googleusercontent.com/a-/AOh14GiNt2EajN8cmNcY3jUV0m5P3ZObvv8s77fL5wlv=s64",
      "userId": "18305800173505984629"
     },
     "user_tz": 240
    },
    "id": "dNZ__XH9fnip",
    "outputId": "3d73dea5-0726-4989-b7b9-df9a18565a23"
   },
   "outputs": [
    {
     "data": {
      "text/plain": [
       "<matplotlib.axes._subplots.AxesSubplot at 0x7f58cc07f3d0>"
      ]
     },
     "execution_count": 37,
     "metadata": {
      "tags": []
     },
     "output_type": "execute_result"
    },
    {
     "data": {
      "image/png": "[encoded data removed]",
      "text/plain": [
       "<Figure size 432x288 with 1 Axes>"
      ]
     },
     "metadata": {
      "needs_background": "light",
      "tags": []
     },
     "output_type": "display_data"
    }
   ],
   "source": [
    "voter_file['turnout_score'].hist()"
   ]
  },
  {
   "cell_type": "code",
   "execution_count": null,
   "metadata": {
    "colab": {
     "base_uri": "https://localhost:8080/"
    },
    "executionInfo": {
     "elapsed": 689,
     "status": "ok",
     "timestamp": 1619049617947,
     "user": {
      "displayName": "Kevin Hengehold",
      "photoUrl": "https://lh3.googleusercontent.com/a-/AOh14GiNt2EajN8cmNcY3jUV0m5P3ZObvv8s77fL5wlv=s64",
      "userId": "18305800173505984629"
     },
     "user_tz": 240
    },
    "id": "sya0Z3lT4Ew5",
    "outputId": "a26a2156-5c1c-4a7d-82d6-a699650e3eb6"
   },
   "outputs": [
    {
     "data": {
      "text/plain": [
       "0.25356447696685797"
      ]
     },
     "execution_count": 38,
     "metadata": {
      "tags": []
     },
     "output_type": "execute_result"
    }
   ],
   "source": [
    "voter_file['turnout_score'].quantile(0.8)"
   ]
  },
  {
   "cell_type": "code",
   "execution_count": null,
   "metadata": {
    "colab": {
     "base_uri": "https://localhost:8080/"
    },
    "executionInfo": {
     "elapsed": 625,
     "status": "ok",
     "timestamp": 1619049665353,
     "user": {
      "displayName": "Kevin Hengehold",
      "photoUrl": "https://lh3.googleusercontent.com/a-/AOh14GiNt2EajN8cmNcY3jUV0m5P3ZObvv8s77fL5wlv=s64",
      "userId": "18305800173505984629"
     },
     "user_tz": 240
    },
    "id": "So6McDTBiDJC",
    "outputId": "3bd4723c-dfa6-4669-f77c-3de7001bb598"
   },
   "outputs": [
    {
     "data": {
      "text/plain": [
       "0.20372061377593956"
      ]
     },
     "execution_count": 42,
     "metadata": {
      "tags": []
     },
     "output_type": "execute_result"
    }
   ],
   "source": [
    "voter_file[voter_file['turnout_score'] >= 0.25].shape[0]/voter_file.shape[0]"
   ]
  },
  {
   "cell_type": "code",
   "execution_count": null,
   "metadata": {
    "colab": {
     "base_uri": "https://localhost:8080/",
     "height": 210
    },
    "executionInfo": {
     "elapsed": 523,
     "status": "ok",
     "timestamp": 1619049686975,
     "user": {
      "displayName": "Kevin Hengehold",
      "photoUrl": "https://lh3.googleusercontent.com/a-/AOh14GiNt2EajN8cmNcY3jUV0m5P3ZObvv8s77fL5wlv=s64",
      "userId": "18305800173505984629"
     },
     "user_tz": 240
    },
    "id": "35ZcdfHtiMZZ",
    "outputId": "4369549a-e10b-45c4-c47c-130229523653"
   },
   "outputs": [
    {
     "data": {
      "text/html": [
       "<div>\n",
       "<style scoped>\n",
       "    .dataframe tbody tr th:only-of-type {\n",
       "        vertical-align: middle;\n",
       "    }\n",
       "\n",
       "    .dataframe tbody tr th {\n",
       "        vertical-align: top;\n",
       "    }\n",
       "\n",
       "    .dataframe thead th {\n",
       "        text-align: right;\n",
       "    }\n",
       "</style>\n",
       "<table border=\"1\" class=\"dataframe\">\n",
       "  <thead>\n",
       "    <tr style=\"text-align: right;\">\n",
       "      <th></th>\n",
       "      <th>SOS_VOTERID</th>\n",
       "      <th>COUNTY_NUMBER</th>\n",
       "      <th>COUNTY_ID</th>\n",
       "      <th>LAST_NAME</th>\n",
       "      <th>FIRST_NAME</th>\n",
       "      <th>MIDDLE_NAME</th>\n",
       "      <th>SUFFIX</th>\n",
       "      <th>DATE_OF_BIRTH</th>\n",
       "      <th>REGISTRATION_DATE</th>\n",
       "      <th>VOTER_STATUS</th>\n",
       "      <th>PARTY_AFFILIATION</th>\n",
       "      <th>RESIDENTIAL_ADDRESS1_voter</th>\n",
       "      <th>RESIDENTIAL_SECONDARY_ADDR</th>\n",
       "      <th>RESIDENTIAL_CITY_voter</th>\n",
       "      <th>RESIDENTIAL_STATE_voter</th>\n",
       "      <th>RESIDENTIAL_ZIP_voter</th>\n",
       "      <th>RESIDENTIAL_ZIP_PLUS4</th>\n",
       "      <th>RESIDENTIAL_COUNTRY</th>\n",
       "      <th>RESIDENTIAL_POSTALCODE</th>\n",
       "      <th>tigerlineid</th>\n",
       "      <th>side</th>\n",
       "      <th>tract</th>\n",
       "      <th>block</th>\n",
       "      <th>lat</th>\n",
       "      <th>lon</th>\n",
       "      <th>MAILING_ADDRESS1</th>\n",
       "      <th>MAILING_SECONDARY_ADDRESS</th>\n",
       "      <th>MAILING_CITY</th>\n",
       "      <th>MAILING_STATE</th>\n",
       "      <th>MAILING_ZIP</th>\n",
       "      <th>MAILING_ZIP_PLUS4</th>\n",
       "      <th>MAILING_COUNTRY</th>\n",
       "      <th>MAILING_POSTAL_CODE</th>\n",
       "      <th>CAREER_CENTER</th>\n",
       "      <th>CITY</th>\n",
       "      <th>CITY_SCHOOL_DISTRICT</th>\n",
       "      <th>COUNTY_COURT_DISTRICT</th>\n",
       "      <th>CONGRESSIONAL_DISTRICT</th>\n",
       "      <th>COURT_OF_APPEALS</th>\n",
       "      <th>EDU_SERVICE_CENTER_DISTRICT</th>\n",
       "      <th>EXEMPTED_VILL_SCHOOL_DISTRICT</th>\n",
       "      <th>LIBRARY</th>\n",
       "      <th>LOCAL_SCHOOL_DISTRICT</th>\n",
       "      <th>MUNICIPAL_COURT_DISTRICT</th>\n",
       "      <th>PRECINCT_NAME</th>\n",
       "      <th>PRECINCT_CODE</th>\n",
       "      <th>STATE_BOARD_OF_EDUCATION</th>\n",
       "      <th>STATE_REPRESENTATIVE_DISTRICT</th>\n",
       "      <th>STATE_SENATE_DISTRICT</th>\n",
       "      <th>TOWNSHIP</th>\n",
       "      <th>VILLAGE</th>\n",
       "      <th>WARD</th>\n",
       "      <th>PRIMARY-03/07/2000</th>\n",
       "      <th>GENERAL-11/07/2000</th>\n",
       "      <th>SPECIAL-05/08/2001</th>\n",
       "      <th>GENERAL-11/06/2001</th>\n",
       "      <th>PRIMARY-05/07/2002</th>\n",
       "      <th>GENERAL-11/05/2002</th>\n",
       "      <th>SPECIAL-05/06/2003</th>\n",
       "      <th>GENERAL-11/04/2003</th>\n",
       "      <th>PRIMARY-03/02/2004</th>\n",
       "      <th>GENERAL-11/02/2004</th>\n",
       "      <th>SPECIAL-02/08/2005</th>\n",
       "      <th>PRIMARY-05/03/2005</th>\n",
       "      <th>PRIMARY-09/13/2005</th>\n",
       "      <th>GENERAL-11/08/2005</th>\n",
       "      <th>SPECIAL-02/07/2006</th>\n",
       "      <th>PRIMARY-05/02/2006</th>\n",
       "      <th>GENERAL-11/07/2006</th>\n",
       "      <th>PRIMARY-05/08/2007</th>\n",
       "      <th>PRIMARY-09/11/2007</th>\n",
       "      <th>GENERAL-11/06/2007</th>\n",
       "      <th>PRIMARY-11/06/2007</th>\n",
       "      <th>GENERAL-12/11/2007</th>\n",
       "      <th>PRIMARY-03/04/2008</th>\n",
       "      <th>PRIMARY-10/14/2008</th>\n",
       "      <th>GENERAL-11/04/2008</th>\n",
       "      <th>GENERAL-11/18/2008</th>\n",
       "      <th>PRIMARY-05/05/2009</th>\n",
       "      <th>PRIMARY-09/08/2009</th>\n",
       "      <th>PRIMARY-09/15/2009</th>\n",
       "      <th>PRIMARY-09/29/2009</th>\n",
       "      <th>GENERAL-11/03/2009</th>\n",
       "      <th>PRIMARY-05/04/2010</th>\n",
       "      <th>PRIMARY-07/13/2010</th>\n",
       "      <th>PRIMARY-09/07/2010</th>\n",
       "      <th>GENERAL-11/02/2010</th>\n",
       "      <th>PRIMARY-05/03/2011</th>\n",
       "      <th>PRIMARY-09/13/2011</th>\n",
       "      <th>GENERAL-11/08/2011</th>\n",
       "      <th>PRIMARY-03/06/2012</th>\n",
       "      <th>GENERAL-11/06/2012</th>\n",
       "      <th>PRIMARY-05/07/2013</th>\n",
       "      <th>PRIMARY-09/10/2013</th>\n",
       "      <th>PRIMARY-10/01/2013</th>\n",
       "      <th>GENERAL-11/05/2013</th>\n",
       "      <th>PRIMARY-05/06/2014</th>\n",
       "      <th>GENERAL-11/04/2014</th>\n",
       "      <th>PRIMARY-05/05/2015</th>\n",
       "      <th>PRIMARY-09/15/2015</th>\n",
       "      <th>GENERAL-11/03/2015</th>\n",
       "      <th>PRIMARY-03/15/2016</th>\n",
       "      <th>GENERAL-06/07/2016</th>\n",
       "      <th>PRIMARY-09/13/2016</th>\n",
       "      <th>GENERAL-11/08/2016</th>\n",
       "      <th>PRIMARY-05/02/2017</th>\n",
       "      <th>PRIMARY-09/12/2017</th>\n",
       "      <th>GENERAL-11/07/2017</th>\n",
       "      <th>PRIMARY-05/08/2018</th>\n",
       "      <th>GENERAL-08/07/2018</th>\n",
       "      <th>GENERAL-11/06/2018</th>\n",
       "      <th>PRIMARY-05/07/2019</th>\n",
       "      <th>PRIMARY-09/10/2019</th>\n",
       "      <th>GENERAL-11/05/2019</th>\n",
       "      <th>PRIMARY-03/17/2020</th>\n",
       "      <th>GENERAL-11/03/2020</th>\n",
       "      <th>block_str</th>\n",
       "      <th>fips_bg</th>\n",
       "      <th>census_block_number</th>\n",
       "      <th>race_name</th>\n",
       "      <th>GENDER</th>\n",
       "      <th>pct_under_30k</th>\n",
       "      <th>pct_post_grad</th>\n",
       "      <th>pct_renters</th>\n",
       "      <th>is_apartment</th>\n",
       "      <th>FIRST_ELIGIBLE_ELECTION</th>\n",
       "      <th>AGE</th>\n",
       "      <th>YEARS_REGISTERED</th>\n",
       "      <th>PCT_TOTAL_BALLOTS_CAST</th>\n",
       "      <th>PCT_PRIMARY_BALLOTS_CAST</th>\n",
       "      <th>turnout_score</th>\n",
       "    </tr>\n",
       "  </thead>\n",
       "  <tbody>\n",
       "    <tr>\n",
       "      <th>0</th>\n",
       "      <td>OH0023466264</td>\n",
       "      <td>31</td>\n",
       "      <td>1884306</td>\n",
       "      <td>POKORNY</td>\n",
       "      <td>MICHAEL</td>\n",
       "      <td>F</td>\n",
       "      <td>NaN</td>\n",
       "      <td>1987-07-19</td>\n",
       "      <td>2015-12-22</td>\n",
       "      <td>ACTIVE</td>\n",
       "      <td>NaN</td>\n",
       "      <td>526 LIBERTY HILL</td>\n",
       "      <td>NaN</td>\n",
       "      <td>CINCINNATI</td>\n",
       "      <td>OH</td>\n",
       "      <td>45202</td>\n",
       "      <td>NaN</td>\n",
       "      <td>NaN</td>\n",
       "      <td>NaN</td>\n",
       "      <td>103953039.0</td>\n",
       "      <td>L</td>\n",
       "      <td>1800.0</td>\n",
       "      <td>1017.0</td>\n",
       "      <td>39.112280</td>\n",
       "      <td>-84.505615</td>\n",
       "      <td>NaN</td>\n",
       "      <td>NaN</td>\n",
       "      <td>NaN</td>\n",
       "      <td>NaN</td>\n",
       "      <td>NaN</td>\n",
       "      <td>NaN</td>\n",
       "      <td>NaN</td>\n",
       "      <td>NaN</td>\n",
       "      <td>NaN</td>\n",
       "      <td>CINCINNATI CITY</td>\n",
       "      <td>CINCINNATI PUBLIC SCHOOLS CITY SD</td>\n",
       "      <td>NaN</td>\n",
       "      <td>1</td>\n",
       "      <td>1</td>\n",
       "      <td>NaN</td>\n",
       "      <td>NaN</td>\n",
       "      <td>NaN</td>\n",
       "      <td>NaN</td>\n",
       "      <td>HAMILTON-CO</td>\n",
       "      <td>CINCINNATI 10-A</td>\n",
       "      <td>31-AGY</td>\n",
       "      <td>4</td>\n",
       "      <td>32</td>\n",
       "      <td>9</td>\n",
       "      <td>NaN</td>\n",
       "      <td>NaN</td>\n",
       "      <td>CINTI WARD 10</td>\n",
       "      <td>NaN</td>\n",
       "      <td>NaN</td>\n",
       "      <td>NaN</td>\n",
       "      <td>NaN</td>\n",
       "      <td>NaN</td>\n",
       "      <td>NaN</td>\n",
       "      <td>NaN</td>\n",
       "      <td>NaN</td>\n",
       "      <td>NaN</td>\n",
       "      <td>NaN</td>\n",
       "      <td>NaN</td>\n",
       "      <td>NaN</td>\n",
       "      <td>NaN</td>\n",
       "      <td>NaN</td>\n",
       "      <td>NaN</td>\n",
       "      <td>NaN</td>\n",
       "      <td>NaN</td>\n",
       "      <td>NaN</td>\n",
       "      <td>NaN</td>\n",
       "      <td>NaN</td>\n",
       "      <td>NaN</td>\n",
       "      <td>NaN</td>\n",
       "      <td>NaN</td>\n",
       "      <td>NaN</td>\n",
       "      <td>X</td>\n",
       "      <td>NaN</td>\n",
       "      <td>NaN</td>\n",
       "      <td>NaN</td>\n",
       "      <td>NaN</td>\n",
       "      <td>NaN</td>\n",
       "      <td>X</td>\n",
       "      <td>NaN</td>\n",
       "      <td>NaN</td>\n",
       "      <td>NaN</td>\n",
       "      <td>NaN</td>\n",
       "      <td>NaN</td>\n",
       "      <td>NaN</td>\n",
       "      <td>NaN</td>\n",
       "      <td>NaN</td>\n",
       "      <td>NaN</td>\n",
       "      <td>NaN</td>\n",
       "      <td>NaN</td>\n",
       "      <td>NaN</td>\n",
       "      <td>NaN</td>\n",
       "      <td>NaN</td>\n",
       "      <td>NaN</td>\n",
       "      <td>NaN</td>\n",
       "      <td>NaN</td>\n",
       "      <td>NaN</td>\n",
       "      <td>NaN</td>\n",
       "      <td>NaN</td>\n",
       "      <td>NaN</td>\n",
       "      <td>X</td>\n",
       "      <td>NaN</td>\n",
       "      <td>NaN</td>\n",
       "      <td>NaN</td>\n",
       "      <td>NaN</td>\n",
       "      <td>NaN</td>\n",
       "      <td>X</td>\n",
       "      <td>NaN</td>\n",
       "      <td>NaN</td>\n",
       "      <td>NaN</td>\n",
       "      <td>NaN</td>\n",
       "      <td>X</td>\n",
       "      <td>1017</td>\n",
       "      <td>390610018001</td>\n",
       "      <td>390610018001017</td>\n",
       "      <td>white</td>\n",
       "      <td>male</td>\n",
       "      <td>0.124260</td>\n",
       "      <td>0.272593</td>\n",
       "      <td>0.568047</td>\n",
       "      <td>0</td>\n",
       "      <td>PRIMARY-03/15/2016</td>\n",
       "      <td>33.793292</td>\n",
       "      <td>5.330595</td>\n",
       "      <td>0.2</td>\n",
       "      <td>0.0</td>\n",
       "      <td>0.015368</td>\n",
       "    </tr>\n",
       "    <tr>\n",
       "      <th>1</th>\n",
       "      <td>OH0023768498</td>\n",
       "      <td>31</td>\n",
       "      <td>1907972</td>\n",
       "      <td>SCARBOROUGH</td>\n",
       "      <td>ANTHONY</td>\n",
       "      <td>M</td>\n",
       "      <td>NaN</td>\n",
       "      <td>1968-08-24</td>\n",
       "      <td>2016-06-27</td>\n",
       "      <td>CONFIRMATION</td>\n",
       "      <td>NaN</td>\n",
       "      <td>1022 YALE AVE</td>\n",
       "      <td>NaN</td>\n",
       "      <td>CINCINNATI</td>\n",
       "      <td>OH</td>\n",
       "      <td>45206</td>\n",
       "      <td>NaN</td>\n",
       "      <td>NaN</td>\n",
       "      <td>NaN</td>\n",
       "      <td>103970492.0</td>\n",
       "      <td>L</td>\n",
       "      <td>3700.0</td>\n",
       "      <td>1005.0</td>\n",
       "      <td>39.128967</td>\n",
       "      <td>-84.487260</td>\n",
       "      <td>NaN</td>\n",
       "      <td>NaN</td>\n",
       "      <td>NaN</td>\n",
       "      <td>NaN</td>\n",
       "      <td>NaN</td>\n",
       "      <td>NaN</td>\n",
       "      <td>NaN</td>\n",
       "      <td>NaN</td>\n",
       "      <td>NaN</td>\n",
       "      <td>CINCINNATI CITY</td>\n",
       "      <td>CINCINNATI PUBLIC SCHOOLS CITY SD</td>\n",
       "      <td>NaN</td>\n",
       "      <td>1</td>\n",
       "      <td>1</td>\n",
       "      <td>NaN</td>\n",
       "      <td>NaN</td>\n",
       "      <td>NaN</td>\n",
       "      <td>NaN</td>\n",
       "      <td>HAMILTON-CO</td>\n",
       "      <td>CINCINNATI 9-D</td>\n",
       "      <td>31-AGQ</td>\n",
       "      <td>4</td>\n",
       "      <td>31</td>\n",
       "      <td>9</td>\n",
       "      <td>NaN</td>\n",
       "      <td>NaN</td>\n",
       "      <td>CINTI WARD 9</td>\n",
       "      <td>NaN</td>\n",
       "      <td>NaN</td>\n",
       "      <td>NaN</td>\n",
       "      <td>NaN</td>\n",
       "      <td>NaN</td>\n",
       "      <td>NaN</td>\n",
       "      <td>NaN</td>\n",
       "      <td>NaN</td>\n",
       "      <td>NaN</td>\n",
       "      <td>NaN</td>\n",
       "      <td>NaN</td>\n",
       "      <td>NaN</td>\n",
       "      <td>NaN</td>\n",
       "      <td>NaN</td>\n",
       "      <td>NaN</td>\n",
       "      <td>NaN</td>\n",
       "      <td>NaN</td>\n",
       "      <td>NaN</td>\n",
       "      <td>NaN</td>\n",
       "      <td>NaN</td>\n",
       "      <td>NaN</td>\n",
       "      <td>NaN</td>\n",
       "      <td>NaN</td>\n",
       "      <td>NaN</td>\n",
       "      <td>NaN</td>\n",
       "      <td>NaN</td>\n",
       "      <td>NaN</td>\n",
       "      <td>NaN</td>\n",
       "      <td>NaN</td>\n",
       "      <td>NaN</td>\n",
       "      <td>NaN</td>\n",
       "      <td>NaN</td>\n",
       "      <td>NaN</td>\n",
       "      <td>NaN</td>\n",
       "      <td>NaN</td>\n",
       "      <td>NaN</td>\n",
       "      <td>NaN</td>\n",
       "      <td>NaN</td>\n",
       "      <td>NaN</td>\n",
       "      <td>NaN</td>\n",
       "      <td>NaN</td>\n",
       "      <td>NaN</td>\n",
       "      <td>NaN</td>\n",
       "      <td>NaN</td>\n",
       "      <td>NaN</td>\n",
       "      <td>NaN</td>\n",
       "      <td>NaN</td>\n",
       "      <td>NaN</td>\n",
       "      <td>NaN</td>\n",
       "      <td>NaN</td>\n",
       "      <td>NaN</td>\n",
       "      <td>NaN</td>\n",
       "      <td>NaN</td>\n",
       "      <td>NaN</td>\n",
       "      <td>NaN</td>\n",
       "      <td>NaN</td>\n",
       "      <td>NaN</td>\n",
       "      <td>NaN</td>\n",
       "      <td>NaN</td>\n",
       "      <td>NaN</td>\n",
       "      <td>NaN</td>\n",
       "      <td>NaN</td>\n",
       "      <td>NaN</td>\n",
       "      <td>NaN</td>\n",
       "      <td>1005</td>\n",
       "      <td>390610037001</td>\n",
       "      <td>390610037001005</td>\n",
       "      <td>white</td>\n",
       "      <td>male</td>\n",
       "      <td>0.413636</td>\n",
       "      <td>0.061789</td>\n",
       "      <td>0.636364</td>\n",
       "      <td>0</td>\n",
       "      <td>PRIMARY-09/13/2016</td>\n",
       "      <td>52.692676</td>\n",
       "      <td>4.815880</td>\n",
       "      <td>0.0</td>\n",
       "      <td>0.0</td>\n",
       "      <td>0.000174</td>\n",
       "    </tr>\n",
       "  </tbody>\n",
       "</table>\n",
       "</div>"
      ],
      "text/plain": [
       "    SOS_VOTERID  COUNTY_NUMBER  COUNTY_ID    LAST_NAME FIRST_NAME MIDDLE_NAME  \\\n",
       "0  OH0023466264             31    1884306      POKORNY    MICHAEL           F   \n",
       "1  OH0023768498             31    1907972  SCARBOROUGH    ANTHONY           M   \n",
       "\n",
       "  SUFFIX DATE_OF_BIRTH REGISTRATION_DATE  VOTER_STATUS PARTY_AFFILIATION  \\\n",
       "0    NaN    1987-07-19        2015-12-22        ACTIVE               NaN   \n",
       "1    NaN    1968-08-24        2016-06-27  CONFIRMATION               NaN   \n",
       "\n",
       "  RESIDENTIAL_ADDRESS1_voter RESIDENTIAL_SECONDARY_ADDR  \\\n",
       "0           526 LIBERTY HILL                        NaN   \n",
       "1              1022 YALE AVE                        NaN   \n",
       "\n",
       "  RESIDENTIAL_CITY_voter RESIDENTIAL_STATE_voter  RESIDENTIAL_ZIP_voter  \\\n",
       "0             CINCINNATI                      OH                  45202   \n",
       "1             CINCINNATI                      OH                  45206   \n",
       "\n",
       "   RESIDENTIAL_ZIP_PLUS4  RESIDENTIAL_COUNTRY  RESIDENTIAL_POSTALCODE  \\\n",
       "0                    NaN                  NaN                     NaN   \n",
       "1                    NaN                  NaN                     NaN   \n",
       "\n",
       "   tigerlineid side   tract   block        lat        lon MAILING_ADDRESS1  \\\n",
       "0  103953039.0    L  1800.0  1017.0  39.112280 -84.505615              NaN   \n",
       "1  103970492.0    L  3700.0  1005.0  39.128967 -84.487260              NaN   \n",
       "\n",
       "   MAILING_SECONDARY_ADDRESS MAILING_CITY MAILING_STATE  MAILING_ZIP  \\\n",
       "0                        NaN          NaN           NaN          NaN   \n",
       "1                        NaN          NaN           NaN          NaN   \n",
       "\n",
       "   MAILING_ZIP_PLUS4  MAILING_COUNTRY  MAILING_POSTAL_CODE CAREER_CENTER  \\\n",
       "0                NaN              NaN                  NaN           NaN   \n",
       "1                NaN              NaN                  NaN           NaN   \n",
       "\n",
       "              CITY               CITY_SCHOOL_DISTRICT  COUNTY_COURT_DISTRICT  \\\n",
       "0  CINCINNATI CITY  CINCINNATI PUBLIC SCHOOLS CITY SD                    NaN   \n",
       "1  CINCINNATI CITY  CINCINNATI PUBLIC SCHOOLS CITY SD                    NaN   \n",
       "\n",
       "   CONGRESSIONAL_DISTRICT  COURT_OF_APPEALS EDU_SERVICE_CENTER_DISTRICT  \\\n",
       "0                       1                 1                         NaN   \n",
       "1                       1                 1                         NaN   \n",
       "\n",
       "   EXEMPTED_VILL_SCHOOL_DISTRICT  LIBRARY LOCAL_SCHOOL_DISTRICT  \\\n",
       "0                            NaN      NaN                   NaN   \n",
       "1                            NaN      NaN                   NaN   \n",
       "\n",
       "  MUNICIPAL_COURT_DISTRICT    PRECINCT_NAME PRECINCT_CODE  \\\n",
       "0              HAMILTON-CO  CINCINNATI 10-A        31-AGY   \n",
       "1              HAMILTON-CO   CINCINNATI 9-D        31-AGQ   \n",
       "\n",
       "   STATE_BOARD_OF_EDUCATION  STATE_REPRESENTATIVE_DISTRICT  \\\n",
       "0                         4                             32   \n",
       "1                         4                             31   \n",
       "\n",
       "   STATE_SENATE_DISTRICT TOWNSHIP  VILLAGE           WARD PRIMARY-03/07/2000  \\\n",
       "0                      9      NaN      NaN  CINTI WARD 10                NaN   \n",
       "1                      9      NaN      NaN   CINTI WARD 9                NaN   \n",
       "\n",
       "  GENERAL-11/07/2000 SPECIAL-05/08/2001 GENERAL-11/06/2001 PRIMARY-05/07/2002  \\\n",
       "0                NaN                NaN                NaN                NaN   \n",
       "1                NaN                NaN                NaN                NaN   \n",
       "\n",
       "  GENERAL-11/05/2002 SPECIAL-05/06/2003 GENERAL-11/04/2003 PRIMARY-03/02/2004  \\\n",
       "0                NaN                NaN                NaN                NaN   \n",
       "1                NaN                NaN                NaN                NaN   \n",
       "\n",
       "  GENERAL-11/02/2004 SPECIAL-02/08/2005 PRIMARY-05/03/2005 PRIMARY-09/13/2005  \\\n",
       "0                NaN                NaN                NaN                NaN   \n",
       "1                NaN                NaN                NaN                NaN   \n",
       "\n",
       "  GENERAL-11/08/2005 SPECIAL-02/07/2006 PRIMARY-05/02/2006 GENERAL-11/07/2006  \\\n",
       "0                NaN                NaN                NaN                NaN   \n",
       "1                NaN                NaN                NaN                NaN   \n",
       "\n",
       "  PRIMARY-05/08/2007 PRIMARY-09/11/2007 GENERAL-11/06/2007 PRIMARY-11/06/2007  \\\n",
       "0                NaN                NaN                NaN                NaN   \n",
       "1                NaN                NaN                NaN                NaN   \n",
       "\n",
       "  GENERAL-12/11/2007 PRIMARY-03/04/2008  PRIMARY-10/14/2008  \\\n",
       "0                NaN                NaN                 NaN   \n",
       "1                NaN                NaN                 NaN   \n",
       "\n",
       "  GENERAL-11/04/2008  GENERAL-11/18/2008 PRIMARY-05/05/2009  \\\n",
       "0                  X                 NaN                NaN   \n",
       "1                NaN                 NaN                NaN   \n",
       "\n",
       "  PRIMARY-09/08/2009 PRIMARY-09/15/2009  PRIMARY-09/29/2009  \\\n",
       "0                NaN                NaN                 NaN   \n",
       "1                NaN                NaN                 NaN   \n",
       "\n",
       "  GENERAL-11/03/2009 PRIMARY-05/04/2010 PRIMARY-07/13/2010 PRIMARY-09/07/2010  \\\n",
       "0                  X                NaN                NaN                NaN   \n",
       "1                NaN                NaN                NaN                NaN   \n",
       "\n",
       "  GENERAL-11/02/2010 PRIMARY-05/03/2011 PRIMARY-09/13/2011 GENERAL-11/08/2011  \\\n",
       "0                NaN                NaN                NaN                NaN   \n",
       "1                NaN                NaN                NaN                NaN   \n",
       "\n",
       "  PRIMARY-03/06/2012 GENERAL-11/06/2012 PRIMARY-05/07/2013 PRIMARY-09/10/2013  \\\n",
       "0                NaN                NaN                NaN                NaN   \n",
       "1                NaN                NaN                NaN                NaN   \n",
       "\n",
       "   PRIMARY-10/01/2013 GENERAL-11/05/2013 PRIMARY-05/06/2014  \\\n",
       "0                 NaN                NaN                NaN   \n",
       "1                 NaN                NaN                NaN   \n",
       "\n",
       "  GENERAL-11/04/2014 PRIMARY-05/05/2015 PRIMARY-09/15/2015 GENERAL-11/03/2015  \\\n",
       "0                NaN                NaN                NaN                NaN   \n",
       "1                NaN                NaN                NaN                NaN   \n",
       "\n",
       "  PRIMARY-03/15/2016 GENERAL-06/07/2016 PRIMARY-09/13/2016 GENERAL-11/08/2016  \\\n",
       "0                NaN                NaN                NaN                  X   \n",
       "1                NaN                NaN                NaN                NaN   \n",
       "\n",
       "  PRIMARY-05/02/2017 PRIMARY-09/12/2017 GENERAL-11/07/2017 PRIMARY-05/08/2018  \\\n",
       "0                NaN                NaN                NaN                NaN   \n",
       "1                NaN                NaN                NaN                NaN   \n",
       "\n",
       "  GENERAL-08/07/2018 GENERAL-11/06/2018 PRIMARY-05/07/2019 PRIMARY-09/10/2019  \\\n",
       "0                NaN                  X                NaN                NaN   \n",
       "1                NaN                NaN                NaN                NaN   \n",
       "\n",
       "  GENERAL-11/05/2019 PRIMARY-03/17/2020 GENERAL-11/03/2020 block_str  \\\n",
       "0                NaN                NaN                  X      1017   \n",
       "1                NaN                NaN                NaN      1005   \n",
       "\n",
       "        fips_bg census_block_number race_name GENDER  pct_under_30k  \\\n",
       "0  390610018001     390610018001017     white   male       0.124260   \n",
       "1  390610037001     390610037001005     white   male       0.413636   \n",
       "\n",
       "   pct_post_grad  pct_renters  is_apartment FIRST_ELIGIBLE_ELECTION  \\\n",
       "0       0.272593     0.568047             0      PRIMARY-03/15/2016   \n",
       "1       0.061789     0.636364             0      PRIMARY-09/13/2016   \n",
       "\n",
       "         AGE  YEARS_REGISTERED  PCT_TOTAL_BALLOTS_CAST  \\\n",
       "0  33.793292          5.330595                     0.2   \n",
       "1  52.692676          4.815880                     0.0   \n",
       "\n",
       "   PCT_PRIMARY_BALLOTS_CAST  turnout_score  \n",
       "0                       0.0       0.015368  \n",
       "1                       0.0       0.000174  "
      ]
     },
     "execution_count": 43,
     "metadata": {
      "tags": []
     },
     "output_type": "execute_result"
    }
   ],
   "source": [
    "voter_file.head(2)"
   ]
  },
  {
   "cell_type": "code",
   "execution_count": null,
   "metadata": {
    "id": "NsKCZj3siic9"
   },
   "outputs": [],
   "source": [
    "output_cols = ['SOS_VOTERID', 'LAST_NAME', 'FIRST_NAME', 'MIDDLE_NAME', 'SUFFIX', 'DATE_OF_BIRTH', 'REGISTRATION_DATE', 'VOTER_STATUS', 'PARTY_AFFILIATION', 'RESIDENTIAL_ADDRESS1_voter', 'RESIDENTIAL_SECONDARY_ADDR', 'RESIDENTIAL_CITY_voter', 'RESIDENTIAL_STATE_voter', 'RESIDENTIAL_ZIP_voter', 'RESIDENTIAL_ZIP_PLUS4', 'tigerlineid', 'side', 'tract', 'block', 'lat', 'lon', 'PRECINCT_NAME', 'WARD', 'fips_bg', 'census_block_number', 'race_name', 'GENDER', 'pct_under_30k', 'pct_post_grad', 'pct_renters', 'is_apartment', 'PCT_TOTAL_BALLOTS_CAST', 'PCT_PRIMARY_BALLOTS_CAST', 'turnout_score']"
   ]
  },
  {
   "cell_type": "code",
   "execution_count": null,
   "metadata": {
    "id": "JjrIiiqUjmOH"
   },
   "outputs": [],
   "source": [
    "output_filepath = os.path.join(gdrive_dir, \"My Drive\", \"Homeless Coalition\", 'trust fund campaign', 'predicted scores')\n",
    "\n",
    "output_filename = \"library turnout scores.csv\"\n",
    "\n",
    "voter_file[output_cols].to_csv(os.path.join(output_filepath, output_filename), index=False)"
   ]
  },
  {
   "cell_type": "code",
   "execution_count": null,
   "metadata": {
    "id": "h0krM499kE_-"
   },
   "outputs": [],
   "source": []
  }
 ],
 "metadata": {
  "colab": {
   "collapsed_sections": [
    "82NZkFQf-jYA",
    "9E0Pj7jt_CkU",
    "-4LC4AHzF_l-",
    "wvUvHNhifORH"
   ],
   "name": "Turnout Score Voter Calculation.ipynb",
   "provenance": [],
   "toc_visible": true
  },
  "kernelspec": {
   "display_name": "Python 3",
   "language": "python",
   "name": "python3"
  },
  "language_info": {
   "codemirror_mode": {
    "name": "ipython",
    "version": 3
   },
   "file_extension": ".py",
   "mimetype": "text/x-python",
   "name": "python",
   "nbconvert_exporter": "python",
   "pygments_lexer": "ipython3",
   "version": "3.8.0"
  }
 },
 "nbformat": 4,
 "nbformat_minor": 1
}
